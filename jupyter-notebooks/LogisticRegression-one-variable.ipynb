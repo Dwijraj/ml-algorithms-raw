{
 "cells": [
  {
   "cell_type": "code",
   "execution_count": 1,
   "id": "2f8b992a",
   "metadata": {},
   "outputs": [],
   "source": [
    "%run jupyterutils.py\n",
    "\n",
    "from logistic_regression.LogisticRegression import LogisticRegression"
   ]
  },
  {
   "cell_type": "markdown",
   "id": "9726de96",
   "metadata": {},
   "source": [
    "### Linear Regression with multiple feature\n",
    "We attempt to try and mimic linear regression and than test it , to test our implementations correctness we would generate the data set using a perfect linear equation , we will than compare how good our algorithm does when it get's data fitting a curve whose mathematically model is known. Run time and correctness might be good KPI for monitoring .\n",
    "\n"
   ]
  },
  {
   "cell_type": "markdown",
   "id": "0fa6328b",
   "metadata": {},
   "source": [
    "##### Create data\n",
    "\n",
    "We'll check how good is the algorithm in finding the actual parameters when we feed it absolutely ideal data"
   ]
  },
  {
   "cell_type": "code",
   "execution_count": 2,
   "id": "2277fa63",
   "metadata": {},
   "outputs": [],
   "source": [
    "def ModelEquation(x1):\n",
    "    return 9.8*x1 + 7.6"
   ]
  },
  {
   "cell_type": "code",
   "execution_count": 3,
   "id": "f636a270",
   "metadata": {},
   "outputs": [
    {
     "name": "stdout",
     "output_type": "stream",
     "text": [
      "9.8⋅x₁ + 7.6\n"
     ]
    }
   ],
   "source": [
    "x1 = sp.Symbol('x1')\n",
    "\n",
    "expr = ModelEquation(x1)\n",
    "sp.pprint(expr)"
   ]
  },
  {
   "cell_type": "code",
   "execution_count": 4,
   "id": "ea358307",
   "metadata": {},
   "outputs": [
    {
     "name": "stdout",
     "output_type": "stream",
     "text": [
      "Label distribution: [25000 25000]\n"
     ]
    }
   ],
   "source": [
    "total_data_points = 50000\n",
    "x1 = np.random.normal(0.5, 0.2, size=25000)\n",
    "x2 = np.random.normal(1.5, 0.2, size=25000)\n",
    "x = np.concatenate([x1, x2])\n",
    "np.random.shuffle(x)\n",
    "probabs = ModelEquation(x)\n",
    "threshold = np.median(probabs)\n",
    "y = LogisticRegression.getLabelFromProbability(ModelEquation(x),threshold)\n",
    "\n",
    "perm = np.random.permutation(len(x))\n",
    "x = x[perm]\n",
    "y = y[perm]\n",
    "\n",
    "\n",
    "print(\"Label distribution:\", np.bincount(y))\n"
   ]
  },
  {
   "cell_type": "markdown",
   "id": "044f62c7",
   "metadata": {},
   "source": [
    "##### Split data\n",
    "\n",
    "We're going to split the data into training and testing data based on a tuneable parameter"
   ]
  },
  {
   "cell_type": "code",
   "execution_count": 5,
   "id": "a43ab785",
   "metadata": {},
   "outputs": [
    {
     "name": "stdout",
     "output_type": "stream",
     "text": [
      "(42500, 1)\n",
      "(7500, 1)\n",
      "(42500,)\n",
      "(7500,)\n"
     ]
    }
   ],
   "source": [
    "training_percent = 0.85\n",
    "training_numbers = int(training_percent*total_data_points)\n",
    "\n",
    "training_features = np.array([x[:training_numbers]]).T\n",
    "training_labels = np.array(y[:training_numbers])\n",
    "\n",
    "testing_attributes=np.array([x[training_numbers:]]).T\n",
    "testing_labels=np.array(y[training_numbers:])\n",
    "\n",
    "print(training_features.shape)\n",
    "print(testing_attributes.shape)\n",
    "print(training_labels.shape)\n",
    "print(testing_labels.shape)"
   ]
  },
  {
   "cell_type": "markdown",
   "id": "8deb1efb",
   "metadata": {},
   "source": [
    "##### Model Training"
   ]
  },
  {
   "cell_type": "code",
   "execution_count": 6,
   "id": "2dbaf349",
   "metadata": {},
   "outputs": [
    {
     "name": "stdout",
     "output_type": "stream",
     "text": [
      "Iteration  0  weights  [[0.84681037]]  bias  -0.00019270890537447525 loss 0.590891690173734\n",
      "Iteration  1000  weights  [[0.8688413]]  bias  -0.17570462471597886 loss 0.5594383956516351\n",
      "Iteration  2000  weights  [[0.91415301]]  bias  -0.3236441840473111 loss 0.5354226214420893\n",
      "Iteration  3000  weights  [[0.97413954]]  bias  -0.4522595368644614 loss 0.5152482630539325\n",
      "Iteration  4000  weights  [[1.04275875]]  bias  -0.5673509915796041 loss 0.4972783286009677\n",
      "Iteration  5000  weights  [[1.11602448]]  bias  -0.6728034260281495 loss 0.4807828871215419\n",
      "Iteration  6000  weights  [[1.19140068]]  bias  -0.7711639767748235 loss 0.4654224880023604\n",
      "Iteration  7000  weights  [[1.26731227]]  bias  -0.8640951809540585 loss 0.45102111109834636\n",
      "Iteration  8000  weights  [[1.34280062]]  bias  -0.9526901773773649 loss 0.4374716101235229\n",
      "Iteration  9000  weights  [[1.41729554]]  bias  -1.0376799940852124 loss 0.4246972536797447\n",
      "Iteration  10000  weights  [[1.49046928]]  bias  -1.1195660689002946 loss 0.412636139400607\n",
      "Iteration  11000  weights  [[1.56214452]]  bias  -1.1987037859342464 loss 0.4012347793747246\n",
      "Iteration  12000  weights  [[1.63223677]]  bias  -1.2753548166931483 loss 0.39044534728731595\n",
      "Iteration  13000  weights  [[1.70071858]]  bias  -1.3497198813212399 loss 0.3802243948844617\n",
      "Iteration  14000  weights  [[1.76759719]]  bias  -1.4219593049791999 loss 0.37053216704950265\n",
      "Iteration  15000  weights  [[1.83290058]]  bias  -1.4922059842304032 loss 0.36133216859142475\n",
      "Iteration  16000  weights  [[1.89666882]]  bias  -1.560573630662252 loss 0.3525908436168595\n",
      "Iteration  17000  weights  [[1.95894862]]  bias  -1.6271620682725307 loss 0.34427731111547516\n",
      "Iteration  18000  weights  [[2.01978993]]  bias  -1.6920606853192006 loss 0.3363631335294696\n",
      "Iteration  19000  weights  [[2.07924383]]  bias  -1.7553507237736818 loss 0.3288221084101702\n",
      "Iteration  20000  weights  [[2.1373612]]  bias  -1.8171068315964751 loss 0.32163007863755455\n",
      "Iteration  21000  weights  [[2.19419198]]  bias  -1.8773981435126055 loss 0.3147647588374105\n",
      "Iteration  22000  weights  [[2.24978461]]  bias  -1.9362890570295233 loss 0.3082055764918693\n",
      "Iteration  23000  weights  [[2.30418586]]  bias  -1.9938398088897982 loss 0.30193352658114736\n",
      "Iteration  24000  weights  [[2.3574406]]  bias  -2.050106918715646 loss 0.2959310387349726\n",
      "Iteration  25000  weights  [[2.40959182]]  bias  -2.105143542502029 loss 0.290181855940044\n",
      "Iteration  26000  weights  [[2.46068061]]  bias  -2.158999763436801 loss 0.28467092389575277\n",
      "Iteration  27000  weights  [[2.51074617]]  bias  -2.2117228379212217 loss 0.27938429015311256\n",
      "Iteration  28000  weights  [[2.55982593]]  bias  -2.263357408554982 loss 0.27430901221714155\n",
      "Iteration  29000  weights  [[2.60795553]]  bias  -2.3139456919421297 loss 0.2694330738416176\n",
      "Iteration  30000  weights  [[2.65516897]]  bias  -2.363527646658997 loss 0.26474530879610036\n",
      "Iteration  31000  weights  [[2.70149865]]  bias  -2.4121411250941778 loss 0.26023533143708477\n",
      "Iteration  32000  weights  [[2.74697546]]  bias  -2.4598220118040577 loss 0.2558934734666886\n",
      "Iteration  33000  weights  [[2.79162884]]  bias  -2.5066043503219433 loss 0.251710726312502\n",
      "Iteration  34000  weights  [[2.83548688]]  bias  -2.5525204598872038 loss 0.2476786886102401\n",
      "Iteration  35000  weights  [[2.87857636]]  bias  -2.5976010432392833 loss 0.24378951831629106\n",
      "Iteration  36000  weights  [[2.92092284]]  bias  -2.6418752863987987 loss 0.2400358890197536\n",
      "Iteration  37000  weights  [[2.96255074]]  bias  -2.685370951199797 loss 0.2364109500630136\n",
      "Iteration  38000  weights  [[3.00348335]]  bias  -2.7281144612215495 loss 0.2329082901163413\n",
      "Iteration  39000  weights  [[3.04374293]]  bias  -2.770130981682067 loss 0.22952190388535063\n",
      "Iteration  40000  weights  [[3.08335077]]  bias  -2.811444493787931 loss 0.226246161660724\n",
      "Iteration  41000  weights  [[3.12232721]]  bias  -2.852077863981614 loss 0.22307578144738197\n",
      "Iteration  42000  weights  [[3.16069171]]  bias  -2.8920529084832656 loss 0.22000580343552617\n",
      "Iteration  43000  weights  [[3.1984629]]  bias  -2.931390453486757 loss 0.2170315665988659\n",
      "Iteration  44000  weights  [[3.23565862]]  bias  -2.970110391337743 loss 0.21414868722603406\n",
      "Iteration  45000  weights  [[3.27229594]]  bias  -3.008231732993378 loss 0.2113530392099055\n",
      "Iteration  46000  weights  [[3.30839123]]  bias  -3.045772657038505 loss 0.20864073593639132\n",
      "Iteration  47000  weights  [[3.34396019]]  bias  -3.082750555510593 loss 0.20600811362952232\n",
      "Iteration  48000  weights  [[3.37901787]]  bias  -3.119182076765658 loss 0.20345171602333534\n",
      "Iteration  49000  weights  [[3.4135787]]  bias  -3.1550831655989238 loss 0.20096828024344537\n",
      "Iteration  50000  weights  [[3.44765656]]  bias  -3.1904691008172623 loss 0.1985547237923104\n",
      "Iteration  51000  weights  [[3.48126475]]  bias  -3.2253545304451596 loss 0.19620813254222683\n",
      "Iteration  52000  weights  [[3.51441608]]  bias  -3.25975350473185 loss 0.19392574964912448\n",
      "Iteration  53000  weights  [[3.54712282]]  bias  -3.2936795071143665 loss 0.191704965308364\n",
      "Iteration  54000  weights  [[3.57939682]]  bias  -3.3271454832795806 loss 0.18954330728106616\n",
      "Iteration  55000  weights  [[3.61124943]]  bias  -3.3601638684571364 loss 0.18743843212612063\n",
      "Iteration  56000  weights  [[3.64269161]]  bias  -3.3927466130654995 loss 0.18538811707896521\n",
      "Iteration  57000  weights  [[3.67373389]]  bias  -3.4249052068237793 loss 0.18339025252361724\n",
      "Iteration  58000  weights  [[3.70438642]]  bias  -3.4566507014339454 loss 0.18144283500926908\n",
      "Iteration  59000  weights  [[3.73465899]]  bias  -3.487993731929873 loss 0.17954396076715445\n",
      "Iteration  60000  weights  [[3.76456101]]  bias  -3.5189445367826626 loss 0.17769181968734582\n",
      "Iteration  61000  weights  [[3.79410157]]  bias  -3.5495129768450324 loss 0.17588468971871185\n",
      "Iteration  62000  weights  [[3.82328944]]  bias  -3.5797085532116104 loss 0.1741209316585043\n",
      "Iteration  63000  weights  [[3.85213308]]  bias  -3.6095404240660636 loss 0.17239898430097433\n",
      "Iteration  64000  weights  [[3.88064066]]  bias  -3.6390174205811316 loss 0.17071735991706388\n",
      "Iteration  65000  weights  [[3.90882006]]  bias  -3.668148061932726 loss 0.1690746400396233\n",
      "Iteration  66000  weights  [[3.93667889]]  bias  -3.6969405694848665 loss 0.16746947153078393\n",
      "Iteration  67000  weights  [[3.96422452]]  bias  -3.7254028801981307 loss 0.1659005629100979\n",
      "Iteration  68000  weights  [[3.99146407]]  bias  -3.7535426593107726 loss 0.1643666809238424\n",
      "Iteration  69000  weights  [[4.01840441]]  bias  -3.7813673123378364 loss 0.1628666473375311\n",
      "Iteration  70000  weights  [[4.0450522]]  bias  -3.8088839964308536 loss 0.16139933593514336\n",
      "Iteration  71000  weights  [[4.07141388]]  bias  -3.8360996311373285 loss 0.1599636697099515\n",
      "Iteration  72000  weights  [[4.09749568]]  bias  -3.8630209085968437 loss 0.1585586182330364\n",
      "Iteration  73000  weights  [[4.12330363]]  bias  -3.8896543032078688 loss 0.15718319518671836\n",
      "Iteration  74000  weights  [[4.14884359]]  bias  -3.9160060807971986 loss 0.15583645605114613\n",
      "Iteration  75000  weights  [[4.17412121]]  bias  -3.9420823073216873 loss 0.15451749593321182\n",
      "Iteration  76000  weights  [[4.19914199]]  bias  -3.9678888571298714 loss 0.1532254475278328\n",
      "Iteration  77000  weights  [[4.22391124]]  bias  -3.9934314208095163 loss 0.151959479202393\n",
      "Iteration  78000  weights  [[4.24843412]]  bias  -4.018715512645086 loss 0.1507187931958704\n",
      "Iteration  79000  weights  [[4.27271563]]  bias  -4.043746477707778 loss 0.1495026239248135\n",
      "Iteration  80000  weights  [[4.29676064]]  bias  -4.068529498599091 loss 0.14831023638894072\n",
      "Iteration  81000  weights  [[4.32057384]]  bias  -4.093069601867776 loss 0.147140924669667\n",
      "Iteration  82000  weights  [[4.34415983]]  bias  -4.11737166411852 loss 0.14599401051537766\n",
      "Iteration  83000  weights  [[4.36752302]]  bias  -4.141440417829669 loss 0.1448688420077221\n",
      "Iteration  84000  weights  [[4.39066775]]  bias  -4.165280456896114 loss 0.14376479230362432\n",
      "Iteration  85000  weights  [[4.4135982]]  bias  -4.188896241912615 loss 0.14268125844809199\n",
      "Iteration  86000  weights  [[4.43631845]]  bias  -4.212292105211585 loss 0.14161766025327385\n",
      "Iteration  87000  weights  [[4.45883244]]  bias  -4.235472255668838 loss 0.14057343923952972\n",
      "Iteration  88000  weights  [[4.48114404]]  bias  -4.258440783289737 loss 0.13954805763458392\n",
      "Iteration  89000  weights  [[4.50325698]]  bias  -4.281201663587354 loss 0.1385409974271253\n",
      "Iteration  90000  weights  [[4.52517491]]  bias  -4.303758761763938 loss 0.1375517594714462\n",
      "Iteration  91000  weights  [[4.54690137]]  bias  -4.32611583670583 loss 0.13657986263997743\n",
      "Iteration  92000  weights  [[4.5684398]]  bias  -4.348276544801564 loss 0.1356248430207801\n",
      "Iteration  93000  weights  [[4.58979357]]  bias  -4.3702444435925605 loss 0.13468625315725663\n",
      "Iteration  94000  weights  [[4.61096593]]  bias  -4.39202299526476 loss 0.13376366132753695\n",
      "Iteration  95000  weights  [[4.63196008]]  bias  -4.413615569989354 loss 0.13285665086116422\n",
      "Iteration  96000  weights  [[4.65277911]]  bias  -4.43502544912048 loss 0.13196481949086322\n",
      "Iteration  97000  weights  [[4.67342604]]  bias  -4.456255828256758 loss 0.1310877787373269\n",
      "Iteration  98000  weights  [[4.69390381]]  bias  -4.477309820173768 loss 0.13022515332508403\n",
      "Iteration  99000  weights  [[4.7142153]]  bias  -4.498190457633645 loss 0.1293765806276515\n",
      "Iteration  100000  weights  [[4.7343633]]  bias  -4.518900696077886 loss 0.12854171014028276\n",
      "Iteration  101000  weights  [[4.75435053]]  bias  -4.539443416209224 loss 0.12772020297873005\n",
      "Iteration  102000  weights  [[4.77417966]]  bias  -4.559821426467759 loss 0.12691173140255171\n",
      "Iteration  103000  weights  [[4.79385328]]  bias  -4.580037465406434 loss 0.12611597836158137\n",
      "Iteration  104000  weights  [[4.81337392]]  bias  -4.600094203970805 loss 0.12533263706426473\n",
      "Iteration  105000  weights  [[4.83274405]]  bias  -4.619994247687657 loss 0.12456141056664521\n",
      "Iteration  106000  weights  [[4.85196608]]  bias  -4.639740138766462 loss 0.12380201138087477\n",
      "Iteration  107000  weights  [[4.87104236]]  bias  -4.659334358118187 loss 0.12305416110216966\n",
      "Iteration  108000  weights  [[4.8899752]]  bias  -4.6787793272949845 loss 0.12231759005321854\n",
      "Iteration  109000  weights  [[4.90876684]]  bias  -4.698077410354424 loss 0.12159203694510223\n",
      "Iteration  110000  weights  [[4.92741946]]  bias  -4.717230915651933 loss 0.12087724855383988\n",
      "Iteration  111000  weights  [[4.94593521]]  bias  -4.7362420975645065 loss 0.1201729794117334\n",
      "Iteration  112000  weights  [[4.96431619]]  bias  -4.755113158148871 loss 0.11947899151272949\n",
      "Iteration  113000  weights  [[4.98256443]]  bias  -4.773846248737002 loss 0.1187950540310703\n",
      "Iteration  114000  weights  [[5.00068194]]  bias  -4.792443471471861 loss 0.11812094305253494\n",
      "Iteration  115000  weights  [[5.01867066]]  bias  -4.8109068807859146 loss 0.11745644131762663\n",
      "Iteration  116000  weights  [[5.03653252]]  bias  -4.829238484824985 loss 0.11680133797609513\n",
      "Iteration  117000  weights  [[5.05426937]]  bias  -4.8474402468198505 loss 0.1161554283522118\n",
      "Iteration  118000  weights  [[5.07188305]]  bias  -4.865514086407771 loss 0.11551851372026223\n",
      "Iteration  119000  weights  [[5.08937534]]  bias  -4.883461880906171 loss 0.11489040108973331\n",
      "Iteration  120000  weights  [[5.106748]]  bias  -4.901285466540566 loss 0.11427090299972305\n",
      "Iteration  121000  weights  [[5.12400272]]  bias  -4.9189866396284945 loss 0.11365983732210681\n",
      "Iteration  122000  weights  [[5.14114119]]  bias  -4.936567157721508 loss 0.11305702707303633\n",
      "Iteration  123000  weights  [[5.15816505]]  bias  -4.954028740706911 loss 0.11246230023235942\n",
      "Iteration  124000  weights  [[5.1750759]]  bias  -4.971373071870915 loss 0.1118754895705796\n",
      "Iteration  125000  weights  [[5.19187531]]  bias  -4.988601798924774 loss 0.11129643248299048\n",
      "Iteration  126000  weights  [[5.20856482]]  bias  -5.005716534995478 loss 0.11072497083064263\n",
      "Iteration  127000  weights  [[5.22514594]]  bias  -5.022718859582427 loss 0.11016095078781765\n",
      "Iteration  128000  weights  [[5.24162014]]  bias  -5.039610319481527 loss 0.10960422269569843\n",
      "Iteration  129000  weights  [[5.25798887]]  bias  -5.0563924296778815 loss 0.10905464092195188\n",
      "Iteration  130000  weights  [[5.27425355]]  bias  -5.073066674208453 loss 0.10851206372594302\n",
      "Iteration  131000  weights  [[5.29041556]]  bias  -5.089634506995943 loss 0.10797635312931783\n",
      "Iteration  132000  weights  [[5.30647626]]  bias  -5.106097352654803 loss 0.10744737479171533\n",
      "Iteration  133000  weights  [[5.322437]]  bias  -5.122456607270774 loss 0.10692499789136499\n",
      "Iteration  134000  weights  [[5.33829907]]  bias  -5.138713639154697 loss 0.10640909501035387\n",
      "Iteration  135000  weights  [[5.35406376]]  bias  -5.154869789571837 loss 0.10589954202434965\n",
      "Iteration  136000  weights  [[5.36973233]]  bias  -5.17092637344754 loss 0.10539621799657993\n",
      "Iteration  137000  weights  [[5.385306]]  bias  -5.186884680050101 loss 0.10489900507587778\n",
      "Iteration  138000  weights  [[5.40078599]]  bias  -5.202745973651798 loss 0.10440778839861309\n",
      "Iteration  139000  weights  [[5.41617348]]  bias  -5.218511494168948 loss 0.10392245599433968\n",
      "Iteration  140000  weights  [[5.43146964]]  bias  -5.234182457781621 loss 0.10344289869499232\n",
      "Iteration  141000  weights  [[5.44667561]]  bias  -5.249760057533892 loss 0.1029690100474845\n",
      "Iteration  142000  weights  [[5.4617925]]  bias  -5.265245463915443 loss 0.10250068622954986\n",
      "Iteration  143000  weights  [[5.47682143]]  bias  -5.280639825424912 loss 0.1020378259687023\n",
      "Iteration  144000  weights  [[5.49176346]]  bias  -5.2959442691159895 loss 0.10158033046416713\n",
      "Iteration  145000  weights  [[5.50661965]]  bias  -5.311159901126701 loss 0.10112810331166444\n",
      "Iteration  146000  weights  [[5.52139105]]  bias  -5.326287807192537 loss 0.1006810504309245\n",
      "Iteration  147000  weights  [[5.53607868]]  bias  -5.341329053144044 loss 0.10023907999581516\n",
      "Iteration  148000  weights  [[5.55068353]]  bias  -5.356284685389313 loss 0.09980210236698003\n",
      "Iteration  149000  weights  [[5.5652066]]  bias  -5.3711557313821965 loss 0.09937003002687383\n"
     ]
    },
    {
     "data": {
      "image/png": "[encoded data removed]",
      "text/plain": [
       "<Figure size 640x480 with 1 Axes>"
      ]
     },
     "metadata": {},
     "output_type": "display_data"
    }
   ],
   "source": [
    "model = LogisticRegression(training_features, training_labels , learning_rate=0.001, threshold=0.5)\n",
    "model.train(150000,True)\n",
    "\n",
    "values = model.trainingLoss\n",
    "x = np.arange(1, len(values) + 1)\n",
    "\n",
    "plotLineGraph(\"Iterations\", \"Loss\", \"Loss value as a function of iteration\",x,values)\n"
   ]
  },
  {
   "cell_type": "markdown",
   "id": "42612d8d",
   "metadata": {},
   "source": [
    "#### Prediction Details"
   ]
  },
  {
   "cell_type": "code",
   "execution_count": 7,
   "id": "6ec392f1",
   "metadata": {},
   "outputs": [
    {
     "name": "stdout",
     "output_type": "stream",
     "text": [
      "Predicted weights  [[5.57963445]]  bias  -5.38592845402318\n",
      "Prediction loss 0.09770746858994751\n"
     ]
    }
   ],
   "source": [
    "print(\"Predicted weights \", model.weight, \" bias \", model.bias)\n",
    "\n",
    "actual = testing_labels.reshape(-1, 1)  # ensure shape = (n_samples, 1)\n",
    "probs = LogisticRegression.sigmoidFunction(np.dot(testing_attributes, model.weight) + model.bias)\n",
    "loss = model.calculateBinaryCrossEntropyLoss(actual, probs)\n",
    "\n",
    "print(\"Prediction loss\", loss)"
   ]
  },
  {
   "cell_type": "markdown",
   "id": "b492f8d4",
   "metadata": {},
   "source": []
  }
 ],
 "metadata": {
  "kernelspec": {
   "display_name": "Python 3",
   "language": "python",
   "name": "python3"
  },
  "language_info": {
   "codemirror_mode": {
    "name": "ipython",
    "version": 3
   },
   "file_extension": ".py",
   "mimetype": "text/x-python",
   "name": "python",
   "nbconvert_exporter": "python",
   "pygments_lexer": "ipython3",
   "version": "3.12.1"
  }
 },
 "nbformat": 4,
 "nbformat_minor": 5
}
