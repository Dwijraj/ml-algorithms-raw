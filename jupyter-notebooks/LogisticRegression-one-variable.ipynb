{
 "cells": [
  {
   "cell_type": "code",
   "execution_count": null,
   "id": "2f8b992a",
   "metadata": {},
   "outputs": [],
   "source": [
    "%run jupyterutils.py\n",
    "\n",
    "from algorithms.supervised.classification.logistic_regression.LogisticRegression import LogisticRegression"
   ]
  },
  {
   "cell_type": "markdown",
   "id": "9726de96",
   "metadata": {},
   "source": [
    "### Logistic Regression with multiple feature\n",
    "We attempt to try and mimic linear regression and than test it , to test our implementations correctness we would generate the data set using a perfect linear equation , we will than compare how good our algorithm does when it get's data fitting a curve whose mathematically model is known. Run time and correctness might be good KPI for monitoring .\n",
    "\n"
   ]
  },
  {
   "cell_type": "markdown",
   "id": "0fa6328b",
   "metadata": {},
   "source": [
    "##### Create data\n",
    "\n",
    "We'll check how good is the algorithm in finding the actual parameters when we feed it absolutely ideal data"
   ]
  },
  {
   "cell_type": "code",
   "execution_count": 8,
   "id": "2277fa63",
   "metadata": {},
   "outputs": [],
   "source": [
    "def ModelEquation(x1):\n",
    "    return 9.8*x1 + 7.6"
   ]
  },
  {
   "cell_type": "code",
   "execution_count": 9,
   "id": "f636a270",
   "metadata": {},
   "outputs": [
    {
     "name": "stdout",
     "output_type": "stream",
     "text": [
      "9.8⋅x₁ + 7.6\n"
     ]
    }
   ],
   "source": [
    "x1 = sp.Symbol('x1')\n",
    "\n",
    "expr = ModelEquation(x1)\n",
    "sp.pprint(expr)"
   ]
  },
  {
   "cell_type": "code",
   "execution_count": 10,
   "id": "ea358307",
   "metadata": {},
   "outputs": [
    {
     "name": "stdout",
     "output_type": "stream",
     "text": [
      "Label distribution: [25000 25000]\n"
     ]
    }
   ],
   "source": [
    "total_data_points = 50000\n",
    "x1 = np.random.normal(0.5, 0.2, size=25000)\n",
    "x2 = np.random.normal(1.5, 0.2, size=25000)\n",
    "x = np.concatenate([x1, x2])\n",
    "np.random.shuffle(x)\n",
    "probabs = ModelEquation(x)\n",
    "threshold = np.median(probabs)\n",
    "y = LogisticRegression.getLabelFromProbability(ModelEquation(x),threshold)\n",
    "\n",
    "perm = np.random.permutation(len(x))\n",
    "x = x[perm]\n",
    "y = y[perm]\n",
    "\n",
    "\n",
    "print(\"Label distribution:\", np.bincount(y))\n"
   ]
  },
  {
   "cell_type": "markdown",
   "id": "044f62c7",
   "metadata": {},
   "source": [
    "##### Split data\n",
    "\n",
    "We're going to split the data into training and testing data based on a tuneable parameter"
   ]
  },
  {
   "cell_type": "code",
   "execution_count": 11,
   "id": "a43ab785",
   "metadata": {},
   "outputs": [
    {
     "name": "stdout",
     "output_type": "stream",
     "text": [
      "(42500, 1)\n",
      "(7500, 1)\n",
      "(42500,)\n",
      "(7500,)\n"
     ]
    }
   ],
   "source": [
    "training_percent = 0.85\n",
    "training_numbers = int(training_percent*total_data_points)\n",
    "\n",
    "training_features = np.array([x[:training_numbers]]).T\n",
    "training_labels = np.array(y[:training_numbers])\n",
    "\n",
    "testing_attributes=np.array([x[training_numbers:]]).T\n",
    "testing_labels=np.array(y[training_numbers:])\n",
    "\n",
    "print(training_features.shape)\n",
    "print(testing_attributes.shape)\n",
    "print(training_labels.shape)\n",
    "print(testing_labels.shape)"
   ]
  },
  {
   "cell_type": "markdown",
   "id": "8deb1efb",
   "metadata": {},
   "source": [
    "##### Model Training"
   ]
  },
  {
   "cell_type": "code",
   "execution_count": 6,
   "id": "2dbaf349",
   "metadata": {},
   "outputs": [
    {
     "name": "stdout",
     "output_type": "stream",
     "text": [
      "Iteration  0  weights  [[0.06475999]]  bias  -1.6956590299437188e-05 loss 0.6776890976577702\n",
      "Iteration  1000  weights  [[0.26455261]]  bias  -0.03885866291485586 loss 0.6358773581211078\n",
      "Iteration  2000  weights  [[0.42238633]]  bias  -0.1072894599005342 loss 0.606155130791995\n",
      "Iteration  3000  weights  [[0.55492638]]  bias  -0.19125947843310714 loss 0.5814927496872648\n",
      "Iteration  4000  weights  [[0.67158583]]  bias  -0.28287451434536787 loss 0.5594730226581877\n",
      "Iteration  5000  weights  [[0.77777004]]  bias  -0.3776598630446548 loss 0.5392061431479381\n",
      "Iteration  6000  weights  [[0.87665527]]  bias  -0.47306022720625296 loss 0.520322482821516\n",
      "Iteration  7000  weights  [[0.970152]]  bias  -0.5676196077914273 loss 0.5026365265247399\n",
      "Iteration  8000  weights  [[1.05943754]]  bias  -0.660522364345705 loss 0.4860314201963243\n",
      "Iteration  9000  weights  [[1.14525757]]  bias  -0.7513301635382944 loss 0.4704183097805501\n",
      "Iteration  10000  weights  [[1.22810019]]  bias  -0.83982831796897 loss 0.45572170961850567\n",
      "Iteration  11000  weights  [[1.3082979]]  bias  -0.9259347688199208 loss 0.44187409555641566\n",
      "Iteration  12000  weights  [[1.38608801]]  bias  -1.0096456360237853 loss 0.4288137991635063\n",
      "Iteration  13000  weights  [[1.46164874]]  bias  -1.0910024173396682 loss 0.41648408472311244\n",
      "Iteration  14000  weights  [[1.53512093]]  bias  -1.1700721396655867 loss 0.4048326471711505\n",
      "Iteration  15000  weights  [[1.60662119]]  bias  -1.2469353229862803 loss 0.3938112586181996\n",
      "Iteration  16000  weights  [[1.67624992]]  bias  -1.3216786881498037 loss 0.3833754684958177\n",
      "Iteration  17000  weights  [[1.74409622]]  bias  -1.3943907611578144 loss 0.3734843262671009\n",
      "Iteration  18000  weights  [[1.81024099]]  bias  -1.4651592542861784 loss 0.3641001180752472\n",
      "Iteration  19000  weights  [[1.87475879]]  bias  -1.5340695411826444 loss 0.3551881160580163\n",
      "Iteration  20000  weights  [[1.93771911]]  bias  -1.6012038070789791 loss 0.3467163410387513\n",
      "Iteration  21000  weights  [[1.99918716]]  bias  -1.6666406157571985 loss 0.33865533947911725\n",
      "Iteration  22000  weights  [[2.0592244]]  bias  -1.7304547330585192 loss 0.3309779752328618\n",
      "Iteration  23000  weights  [[2.11788899]]  bias  -1.7927171070896524 loss 0.323659236219849\n",
      "Iteration  24000  weights  [[2.17523597]]  bias  -1.8534949426252316 loss 0.3166760557835956\n",
      "Iteration  25000  weights  [[2.23131761]]  bias  -1.9128518304453677 loss 0.31000714823213443\n",
      "Iteration  26000  weights  [[2.2861835]]  bias  -1.9708479068972269 loss 0.3036328578841141\n",
      "Iteration  27000  weights  [[2.33988074]]  bias  -2.0275400281337257 loss 0.2975350208331105\n",
      "Iteration  28000  weights  [[2.39245413]]  bias  -2.082981949288374 loss 0.2916968385864629\n",
      "Iteration  29000  weights  [[2.44394622]]  bias  -2.1372245025437997 loss 0.2861027627164891\n",
      "Iteration  30000  weights  [[2.49439748]]  bias  -2.190315770418934 loss 0.2807383896704007\n",
      "Iteration  31000  weights  [[2.54384643]]  bias  -2.242301252120443 loss 0.275590364912068\n",
      "Iteration  32000  weights  [[2.59232969]]  bias  -2.293224021783016 loss 0.2706462956076064\n",
      "Iteration  33000  weights  [[2.63988214]]  bias  -2.3431248780521408 loss 0.2658946711127269\n",
      "Iteration  34000  weights  [[2.68653698]]  bias  -2.3920424848658075 loss 0.2613247905695827\n",
      "Iteration  35000  weights  [[2.73232581]]  bias  -2.440013503546124 loss 0.256926696971923\n",
      "Iteration  36000  weights  [[2.77727877]]  bias  -2.487072716469273 loss 0.2526911171080447\n",
      "Iteration  37000  weights  [[2.82142458]]  bias  -2.5332531426759046 loss 0.248609406840172\n",
      "Iteration  38000  weights  [[2.86479059]]  bias  -2.5785861458353048 loss 0.24467350122571335\n",
      "Iteration  39000  weights  [[2.90740293]]  bias  -2.623101535000519 loss 0.2408758690298919\n",
      "Iteration  40000  weights  [[2.94928652]]  bias  -2.6668276585967337 loss 0.23720947122032093\n",
      "Iteration  41000  weights  [[2.99046515]]  bias  -2.7097914920790886 loss 0.23366772307206432\n",
      "Iteration  42000  weights  [[3.03096153]]  bias  -2.75201871968192 loss 0.2302444595466411\n",
      "Iteration  43000  weights  [[3.07079738]]  bias  -2.793533810663325 loss 0.22693390364039726\n",
      "Iteration  44000  weights  [[3.10999344]]  bias  -2.8343600904278325 loss 0.2237306374267827\n",
      "Iteration  45000  weights  [[3.14856956]]  bias  -2.874519806887689 loss 0.22062957554356682\n",
      "Iteration  46000  weights  [[3.18654474]]  bias  -2.9140341924009276 loss 0.21762594090002638\n",
      "Iteration  47000  weights  [[3.22393714]]  bias  -2.952923521601984 loss 0.2147152424008673\n",
      "Iteration  48000  weights  [[3.26076416]]  bias  -2.991207165419023 loss 0.21189325450328325\n",
      "Iteration  49000  weights  [[3.2970425]]  bias  -3.028903641551677 loss 0.2091559984412643\n",
      "Iteration  50000  weights  [[3.33278812]]  bias  -3.066030661662838 loss 0.20649972496726973\n",
      "Iteration  51000  weights  [[3.36801635]]  bias  -3.10260517552016 loss 0.20392089847575742\n",
      "Iteration  52000  weights  [[3.40274189]]  bias  -3.1386434123050275 loss 0.2014161823860638\n",
      "Iteration  53000  weights  [[3.43697886]]  bias  -3.1741609192910705 loss 0.19898242567379404\n",
      "Iteration  54000  weights  [[3.4707408]]  bias  -3.2091725980787733 loss 0.1966166504504084\n",
      "Iteration  55000  weights  [[3.50404073]]  bias  -3.2436927385588925 loss 0.1943160405001805\n",
      "Iteration  56000  weights  [[3.53689115]]  bias  -3.277735050764503 loss 0.19207793069221263\n",
      "Iteration  57000  weights  [[3.56930408]]  bias  -3.311312694759297 loss 0.18989979719290087\n",
      "Iteration  58000  weights  [[3.60129109]]  bias  -3.344438308698661 loss 0.18777924841115812\n",
      "Iteration  59000  weights  [[3.63286331]]  bias  -3.3771240351899925 loss 0.18571401661494905\n",
      "Iteration  60000  weights  [[3.66403143]]  bias  -3.4093815460689063 loss 0.18370195016331753\n",
      "Iteration  61000  weights  [[3.69480579]]  bias  -3.4412220656995745 loss 0.18174100630317291\n",
      "Iteration  62000  weights  [[3.7251963]]  bias  -3.472656392899176 loss 0.1798292444846754\n",
      "Iteration  63000  weights  [[3.75521255]]  bias  -3.5036949215790765 loss 0.17796482015320567\n",
      "Iteration  64000  weights  [[3.78486376]]  bias  -3.534347660188459 loss 0.1761459789796485\n",
      "Iteration  65000  weights  [[3.81415884]]  bias  -3.564624250039935 loss 0.1743710514940905\n",
      "Iteration  66000  weights  [[3.84310636]]  bias  -3.5945339825907094 loss 0.17263844809110343\n",
      "Iteration  67000  weights  [[3.87171463]]  bias  -3.6240858157475366 loss 0.17094665437755005\n",
      "Iteration  68000  weights  [[3.89999165]]  bias  -3.6532883892589063 loss 0.16929422683635373\n",
      "Iteration  69000  weights  [[3.92794513]]  bias  -3.682150039253059 loss 0.16767978878195897\n",
      "Iteration  70000  weights  [[3.95558255]]  bias  -3.710678811976526 loss 0.16610202658526124\n",
      "Iteration  71000  weights  [[3.98291113]]  bias  -3.7388824767837665 loss 0.16455968614766678\n",
      "Iteration  72000  weights  [[4.00993784]]  bias  -3.7667685384250618 loss 0.16305156960563694\n",
      "Iteration  73000  weights  [[4.03666944]]  bias  -3.7943442486764036 loss 0.16157653224862772\n",
      "Iteration  74000  weights  [[4.06311245]]  bias  -3.8216166173521255 loss 0.16013347963472835\n",
      "Iteration  75000  weights  [[4.08927319]]  bias  -3.8485924227381774 loss 0.15872136488959873\n",
      "Iteration  76000  weights  [[4.11515777]]  bias  -3.8752782214812984 loss 0.15733918617546241\n",
      "Iteration  77000  weights  [[4.14077212]]  bias  -3.901680357967062 loss 0.15598598431797486\n",
      "Iteration  78000  weights  [[4.16612199]]  bias  -3.927804973217322 loss 0.1546608405797646\n",
      "Iteration  79000  weights  [[4.19121292]]  bias  -3.9536580133357386 loss 0.1533628745703211\n",
      "Iteration  80000  weights  [[4.2160503]]  bias  -3.979245237527976 loss 0.15209124228272244\n",
      "Iteration  81000  weights  [[4.24063937]]  bias  -4.004572225721555 loss 0.1508451342484237\n",
      "Iteration  82000  weights  [[4.26498519]]  bias  -4.0296443858085 loss 0.14962377380201586\n",
      "Iteration  83000  weights  [[4.28909267]]  bias  -4.054466960532644 loss 0.14842641544847252\n",
      "Iteration  84000  weights  [[4.31296659]]  bias  -4.079045034041705 loss 0.14725234332598267\n",
      "Iteration  85000  weights  [[4.33661157]]  bias  -4.103383538123401 loss 0.14610086975797212\n",
      "Iteration  86000  weights  [[4.36003211]]  bias  -4.1274872581431055 loss 0.14497133388841005\n",
      "Iteration  87000  weights  [[4.38323258]]  bias  -4.151360838699964 loss 0.1438631003949182\n",
      "Iteration  88000  weights  [[4.40621721]]  bias  -4.175008789016799 loss 0.1427755582746202\n",
      "Iteration  89000  weights  [[4.42899013]]  bias  -4.1984354880787125 loss 0.14170811969801855\n",
      "Iteration  90000  weights  [[4.45155534]]  bias  -4.22164518953376 loss 0.1406602189265536\n",
      "Iteration  91000  weights  [[4.47391673]]  bias  -4.244642026368884 loss 0.13963131128977527\n",
      "Iteration  92000  weights  [[4.4960781]]  bias  -4.267430015372936 loss 0.13862087221838817\n",
      "Iteration  93000  weights  [[4.51804312]]  bias  -4.290013061398296 loss 0.137628396329658\n",
      "Iteration  94000  weights  [[4.53981537]]  bias  -4.312394961431602 loss 0.13665339656194542\n",
      "Iteration  95000  weights  [[4.56139834]]  bias  -4.3345794084836 loss 0.1356954033553315\n",
      "Iteration  96000  weights  [[4.58279543]]  bias  -4.356569995307743 loss 0.1347539638755245\n",
      "Iteration  97000  weights  [[4.60400994]]  bias  -4.378370217956035 loss 0.13382864127843153\n",
      "Iteration  98000  weights  [[4.62504508]]  bias  -4.399983479180793 loss 0.13291901401294215\n",
      "Iteration  99000  weights  [[4.64590398]]  bias  -4.421413091689915 loss 0.13202467515965285\n",
      "Iteration  100000  weights  [[4.66658971]]  bias  -4.442662281263254 loss 0.13114523180340157\n",
      "Iteration  101000  weights  [[4.68710522]]  bias  -4.463734189736937 loss 0.13028030443762953\n",
      "Iteration  102000  weights  [[4.70745343]]  bias  -4.484631877862132 loss 0.12942952639871827\n",
      "Iteration  103000  weights  [[4.72763715]]  bias  -4.505358328044737 loss 0.1285925433285633\n",
      "Iteration  104000  weights  [[4.74765913]]  bias  -4.525916446971488 loss 0.1277690126637723\n",
      "Iteration  105000  weights  [[4.76752208]]  bias  -4.546309068128283 loss 0.12695860314996635\n",
      "Iteration  106000  weights  [[4.78722859]]  bias  -4.566538954215692 loss 0.12616099437977035\n",
      "Iteration  107000  weights  [[4.80678124]]  bias  -4.586608799466913 loss 0.12537587635315756\n",
      "Iteration  108000  weights  [[4.82618251]]  bias  -4.606521231872407 loss 0.1246029490589134\n",
      "Iteration  109000  weights  [[4.84543485]]  bias  -4.6262788153159775 loss 0.12384192207604525\n",
      "Iteration  110000  weights  [[4.86454061]]  bias  -4.645884051626195 loss 0.1230925141940458\n",
      "Iteration  111000  weights  [[4.88350213]]  bias  -4.665339382547345 loss 0.12235445305098337\n",
      "Iteration  112000  weights  [[4.90232167]]  bias  -4.68464719163343 loss 0.1216274747884582\n",
      "Iteration  113000  weights  [[4.92100145]]  bias  -4.703809806068797 loss 0.12091132372251803\n",
      "Iteration  114000  weights  [[4.93954361]]  bias  -4.722829498418914 loss 0.12020575202967991\n",
      "Iteration  115000  weights  [[4.95795028]]  bias  -4.74170848831412 loss 0.11951051944726802\n",
      "Iteration  116000  weights  [[4.97622352]]  bias  -4.760448944069773 loss 0.11882539298730532\n",
      "Iteration  117000  weights  [[4.99436534]]  bias  -4.779052984245294 loss 0.11815014666325999\n",
      "Iteration  118000  weights  [[5.01237772]]  bias  -4.797522679145022 loss 0.11748456122897827\n",
      "Iteration  119000  weights  [[5.03026258]]  bias  -4.815860052263318 loss 0.11682842392917794\n",
      "Iteration  120000  weights  [[5.04802181]]  bias  -4.834067081676499 loss 0.11618152826091083\n",
      "Iteration  121000  weights  [[5.06565725]]  bias  -4.852145701383815 loss 0.11554367374543983\n",
      "Iteration  122000  weights  [[5.0831707]]  bias  -4.8700978025996084 loss 0.11491466571000636\n",
      "Iteration  123000  weights  [[5.10056393]]  bias  -4.8879252349990026 loss 0.11429431507899201\n",
      "Iteration  124000  weights  [[5.11783866]]  bias  -4.905629807918734 loss 0.11368243817400901\n",
      "Iteration  125000  weights  [[5.13499659]]  bias  -4.923213291515433 loss 0.11307885652247954\n",
      "Iteration  126000  weights  [[5.15203935]]  bias  -4.940677417882701 loss 0.11248339667428582\n",
      "Iteration  127000  weights  [[5.16896858]]  bias  -4.958023882129221 loss 0.11189589002609988\n",
      "Iteration  128000  weights  [[5.18578585]]  bias  -4.975254343418975 loss 0.11131617265302272\n",
      "Iteration  129000  weights  [[5.20249272]]  bias  -4.992370425975542 loss 0.11074408514717923\n",
      "Iteration  130000  weights  [[5.2190907]]  bias  -5.0093737200518165 loss 0.11017947246293704\n",
      "Iteration  131000  weights  [[5.23558129]]  bias  -5.026265782866465 loss 0.10962218376843941\n",
      "Iteration  132000  weights  [[5.25196594]]  bias  -5.043048139508613 loss 0.10907207230314801\n",
      "Iteration  133000  weights  [[5.26824608]]  bias  -5.059722283811924 loss 0.10852899524112218\n",
      "Iteration  134000  weights  [[5.28442311]]  bias  -5.076289679199347 loss 0.10799281355976167\n",
      "Iteration  135000  weights  [[5.30049839]]  bias  -5.092751759499772 loss 0.1074633919137612\n",
      "Iteration  136000  weights  [[5.31647328]]  bias  -5.109109929737521 loss 0.10694059851404246\n",
      "Iteration  137000  weights  [[5.33234909]]  bias  -5.125365566895837 loss 0.1064243050114327\n",
      "Iteration  138000  weights  [[5.3481271]]  bias  -5.141520020655563 loss 0.10591438638487176\n",
      "Iteration  139000  weights  [[5.3638086]]  bias  -5.1575746141095635 loss 0.10541072083395116\n",
      "Iteration  140000  weights  [[5.37939482]]  bias  -5.173530644454197 loss 0.10491318967558665\n",
      "Iteration  141000  weights  [[5.39488697]]  bias  -5.189389383658604 loss 0.10442167724463751\n",
      "Iteration  142000  weights  [[5.41028626]]  bias  -5.205152079112517 loss 0.10393607079830544\n",
      "Iteration  143000  weights  [[5.42559385]]  bias  -5.220819954253619 loss 0.10345626042414074\n",
      "Iteration  144000  weights  [[5.44081089]]  bias  -5.236394209175046 loss 0.10298213895150247\n",
      "Iteration  145000  weights  [[5.45593852]]  bias  -5.251876021213918 loss 0.10251360186631792\n",
      "Iteration  146000  weights  [[5.47097783]]  bias  -5.267266545521543 loss 0.10205054722900284\n",
      "Iteration  147000  weights  [[5.48592993]]  bias  -5.282566915615814 loss 0.10159287559540761\n",
      "Iteration  148000  weights  [[5.50079586]]  bias  -5.297778243916759 loss 0.10114048994065652\n",
      "Iteration  149000  weights  [[5.51557668]]  bias  -5.312901622265658 loss 0.10069329558575929\n"
     ]
    },
    {
     "data": {
      "image/png": "[encoded data removed]",
      "text/plain": [
       "<Figure size 640x480 with 1 Axes>"
      ]
     },
     "metadata": {},
     "output_type": "display_data"
    }
   ],
   "source": [
    "model = LogisticRegression(training_features, training_labels , learning_rate=0.001, threshold=0.5)\n",
    "model.train(150000,True)\n",
    "\n",
    "values = model.trainingLoss\n",
    "x = np.arange(1, len(values) + 1)\n",
    "\n",
    "plotLineGraph(\"Iterations\", \"Loss\", \"Loss value as a function of iteration\",x,values)\n"
   ]
  },
  {
   "cell_type": "markdown",
   "id": "42612d8d",
   "metadata": {},
   "source": [
    "#### Prediction Details"
   ]
  },
  {
   "cell_type": "code",
   "execution_count": 7,
   "id": "6ec392f1",
   "metadata": {},
   "outputs": [
    {
     "name": "stdout",
     "output_type": "stream",
     "text": [
      "Predicted weights  [[5.53025876]]  bias  -5.32792312897204\n",
      "Prediction loss 0.10124861090184417\n"
     ]
    }
   ],
   "source": [
    "print(\"Predicted weights \", model.weight, \" bias \", model.bias)\n",
    "\n",
    "actual = testing_labels.reshape(-1, 1)  # ensure shape = (n_samples, 1)\n",
    "probs = LogisticRegression.sigmoidFunction(np.dot(testing_attributes, model.weight) + model.bias)\n",
    "loss = model.calculateBinaryCrossEntropyLoss(actual, probs)\n",
    "\n",
    "print(\"Prediction loss\", loss)"
   ]
  },
  {
   "cell_type": "markdown",
   "id": "b492f8d4",
   "metadata": {},
   "source": []
  }
 ],
 "metadata": {
  "kernelspec": {
   "display_name": "Python 3",
   "language": "python",
   "name": "python3"
  },
  "language_info": {
   "codemirror_mode": {
    "name": "ipython",
    "version": 3
   },
   "file_extension": ".py",
   "mimetype": "text/x-python",
   "name": "python",
   "nbconvert_exporter": "python",
   "pygments_lexer": "ipython3",
   "version": "3.12.1"
  }
 },
 "nbformat": 4,
 "nbformat_minor": 5
}
