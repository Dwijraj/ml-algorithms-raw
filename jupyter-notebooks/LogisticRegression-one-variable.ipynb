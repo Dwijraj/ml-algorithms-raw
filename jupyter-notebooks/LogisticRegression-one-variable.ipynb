{
 "cells": [
  {
   "cell_type": "code",
   "execution_count": 1,
   "id": "2f8b992a",
   "metadata": {},
   "outputs": [],
   "source": [
    "%run jupyterutils.py\n",
    "\n",
    "from logistic_regression.LogisticRegression import LogisticRegression"
   ]
  },
  {
   "cell_type": "markdown",
   "id": "9726de96",
   "metadata": {},
   "source": [
    "### Linear Regression with multiple feature\n",
    "We attempt to try and mimic linear regression and than test it , to test our implementations correctness we would generate the data set using a perfect linear equation , we will than compare how good our algorithm does when it get's data fitting a curve whose mathematically model is known. Run time and correctness might be good KPI for monitoring .\n",
    "\n"
   ]
  },
  {
   "cell_type": "markdown",
   "id": "0fa6328b",
   "metadata": {},
   "source": [
    "##### Create data\n",
    "\n",
    "We'll check how good is the algorithm in finding the actual parameters when we feed it absolutely ideal data"
   ]
  },
  {
   "cell_type": "code",
   "execution_count": 2,
   "id": "2277fa63",
   "metadata": {},
   "outputs": [],
   "source": [
    "def ModelEquation(x1):\n",
    "    return 9.8*x1 + 7.6"
   ]
  },
  {
   "cell_type": "code",
   "execution_count": 3,
   "id": "f636a270",
   "metadata": {},
   "outputs": [
    {
     "name": "stdout",
     "output_type": "stream",
     "text": [
      "9.8⋅x₁ + 7.6\n"
     ]
    }
   ],
   "source": [
    "x1 = sp.Symbol('x1')\n",
    "\n",
    "expr = ModelEquation(x1)\n",
    "sp.pprint(expr)"
   ]
  },
  {
   "cell_type": "code",
   "execution_count": 4,
   "id": "ea358307",
   "metadata": {},
   "outputs": [],
   "source": [
    "total_data_points = 50000\n",
    "x1 = np.random.normal(0.5, 0.2, size=25000)\n",
    "x2 = np.random.normal(1.5, 0.2, size=25000)\n",
    "x = np.concatenate([x1, x2])\n",
    "np.random.shuffle(x)\n",
    "probabs = ModelEquation(x)\n",
    "threshold = np.median(probabs)\n",
    "y = LogisticRegression.getLabelFromProbability(ModelEquation(x),threshold)\n",
    "\n",
    "perm = np.random.permutation(len(x))\n",
    "x = x[perm]\n",
    "y = y[perm]\n"
   ]
  },
  {
   "cell_type": "markdown",
   "id": "044f62c7",
   "metadata": {},
   "source": [
    "##### Split data\n",
    "\n",
    "We're going to split the data into training and testing data based on a tuneable parameter"
   ]
  },
  {
   "cell_type": "code",
   "execution_count": 5,
   "id": "a43ab785",
   "metadata": {},
   "outputs": [
    {
     "name": "stdout",
     "output_type": "stream",
     "text": [
      "(42500, 1)\n",
      "(7500, 1)\n",
      "(42500,)\n",
      "(7500,)\n"
     ]
    }
   ],
   "source": [
    "training_percent = 0.85\n",
    "training_numbers = int(training_percent*total_data_points)\n",
    "\n",
    "training_features = np.array([x[:training_numbers]]).T\n",
    "training_labels = np.array(y[:training_numbers])\n",
    "\n",
    "testing_attributes=np.array([x[training_numbers:]]).T\n",
    "testing_labels=np.array(y[training_numbers:])\n",
    "\n",
    "print(training_features.shape)\n",
    "print(testing_attributes.shape)\n",
    "print(training_labels.shape)\n",
    "print(testing_labels.shape)"
   ]
  },
  {
   "cell_type": "markdown",
   "id": "8deb1efb",
   "metadata": {},
   "source": [
    "##### Model Training"
   ]
  },
  {
   "cell_type": "code",
   "execution_count": null,
   "id": "2dbaf349",
   "metadata": {},
   "outputs": [
    {
     "name": "stdout",
     "output_type": "stream",
     "text": [
      "Iteration  0  weights  [[0.86009402]]  bias  -0.00019328859500173794 loss -0.5895757857034256\n",
      "Iteration  1000  weights  [[0.88063628]]  bias  -0.17617580405744163 loss -0.5580178731008612\n",
      "Iteration  2000  weights  [[0.92472808]]  bias  -0.32436100083907443 loss -0.5340366850704442\n",
      "Iteration  3000  weights  [[0.98374357]]  bias  -0.453029284156939 loss -0.5139633570115766\n",
      "Iteration  4000  weights  [[1.05159097]]  bias  -0.5680322370698204 loss -0.49611869774830736\n",
      "Iteration  5000  weights  [[1.1242345]]  bias  -0.673301651226423 loss -0.4797524377175742\n",
      "Iteration  6000  weights  [[1.19909799]]  bias  -0.7714207330441638 loss -0.46451645226450244\n",
      "Iteration  7000  weights  [[1.27457671]]  bias  -0.8640775535467056 loss -0.4502315203158125\n",
      "Iteration  8000  weights  [[1.34969093]]  bias  -0.9523824823126719 loss -0.4367896822998328\n",
      "Iteration  9000  weights  [[1.42385583]]  bias  -1.037077789355787 loss -0.42411437470438035\n",
      "Iteration  10000  weights  [[1.49673346]]  bias  -1.1186720283046696 loss -0.41214423241695725\n",
      "Iteration  11000  weights  [[1.5681394]]  bias  -1.1975249313702534 loss -0.40082641587675716\n",
      "Iteration  12000  weights  [[1.63798418]]  bias  -1.27390069438402 loss -0.3901137524443872\n",
      "Iteration  13000  weights  [[1.70623674]]  bias  -1.3480013767660142 loss -0.37996341184299776\n",
      "Iteration  14000  weights  [[1.77290167]]  bias  -1.4199878834112225 loss -0.37033620742998774\n",
      "Iteration  15000  weights  [[1.83800499]]  bias  -1.4899932117531658 loss -0.361196160476094\n",
      "Iteration  16000  weights  [[1.90158522]]  bias  -1.5581308792303177 loss -0.35251018157521974\n",
      "Iteration  17000  weights  [[1.96368785]]  bias  -1.6245003403702176 loss -0.34424780994941867\n",
      "Iteration  18000  weights  [[2.02436182]]  bias  -1.6891905160741802 loss -0.3363809862029177\n",
      "Iteration  19000  weights  [[2.08365737]]  bias  -1.752282132755565 loss -0.3288838481167554\n",
      "Iteration  20000  weights  [[2.14162468]]  bias  -1.8138493061236984 loss -0.32173254475349344\n",
      "Iteration  21000  weights  [[2.19831304]]  bias  -1.8739606415876149 loss -0.3149050664338672\n",
      "Iteration  22000  weights  [[2.25377037]]  bias  -1.9326800221585094 loss -0.30838108906711925\n",
      "Iteration  23000  weights  [[2.30804292]]  bias  -1.9900671917591175 loss -0.3021418316845858\n",
      "Iteration  24000  weights  [[2.36117512]]  bias  -2.0461782024798816 loss -0.2961699261775663\n",
      "Iteration  25000  weights  [[2.41320957]]  bias  -2.1010657696090416 loss -0.2904492983121755\n",
      "Iteration  26000  weights  [[2.46418698]]  bias  -2.154779562682864 loss -0.2849650591403052\n",
      "Iteration  27000  weights  [[2.51414622]]  bias  -2.2073664509322737 loss -0.2797034059675125\n",
      "Iteration  28000  weights  [[2.56312438]]  bias  -2.258870715218692 loss -0.2746515320822368\n",
      "Iteration  29000  weights  [[2.61115685]]  bias  -2.3093342345290573 loss -0.26979754449738524\n",
      "Iteration  30000  weights  [[2.65827735]]  bias  -2.35879665250896 loss -0.2651303890042424\n",
      "Iteration  31000  weights  [[2.70451803]]  bias  -2.4072955278316166 loss -0.26063978188858444\n"
     ]
    }
   ],
   "source": [
    "model = LogisticRegression(training_features, training_labels , learning_rate=0.001, threshold=0.5)\n",
    "model.train(150000,True)\n",
    "\n",
    "values = model.trainingLoss\n",
    "x = np.arange(1, len(values) + 1)\n",
    "\n",
    "# Plotting\n",
    "plt.plot(x, values, marker='o', linestyle='-', color='blue')\n",
    "\n",
    "# Labels and title\n",
    "plt.xlabel(\"Iteration\")\n",
    "plt.ylabel(\"Loss\")\n",
    "plt.title(\"Loss value as a function of iteration\")\n",
    "plt.grid(True)\n",
    "plt.show()\n",
    "\n"
   ]
  },
  {
   "cell_type": "markdown",
   "id": "42612d8d",
   "metadata": {},
   "source": [
    "#### Prediction Details"
   ]
  },
  {
   "cell_type": "code",
   "execution_count": null,
   "id": "6ec392f1",
   "metadata": {},
   "outputs": [
    {
     "name": "stdout",
     "output_type": "stream",
     "text": [
      "Predicted weights  [[1.68691656]]  bias  -1.3593034110818487\n",
      "\n"
     ]
    },
    {
     "ename": "ValueError",
     "evalue": "Predicted vector and target vector lists don't match.",
     "output_type": "error",
     "traceback": [
      "\u001b[31m---------------------------------------------------------------------------\u001b[39m",
      "\u001b[31mValueError\u001b[39m                                Traceback (most recent call last)",
      "\u001b[36mCell\u001b[39m\u001b[36m \u001b[39m\u001b[32mIn[8]\u001b[39m\u001b[32m, line 6\u001b[39m\n\u001b[32m      4\u001b[39m predicted  = model.predict(testing_attributes)\n\u001b[32m      5\u001b[39m \u001b[38;5;28mprint\u001b[39m()\n\u001b[32m----> \u001b[39m\u001b[32m6\u001b[39m loss       = \u001b[43mmodel\u001b[49m\u001b[43m.\u001b[49m\u001b[43mcalculateBinaryCrossEntropyLoss\u001b[49m\u001b[43m(\u001b[49m\u001b[43mactual\u001b[49m\u001b[43m,\u001b[49m\u001b[43m \u001b[49m\u001b[43mpredicted\u001b[49m\u001b[43m)\u001b[49m\n\u001b[32m      8\u001b[39m \u001b[38;5;28mprint\u001b[39m(\u001b[33m\"\u001b[39m\u001b[33mPrediction loss\u001b[39m\u001b[33m\"\u001b[39m, model.calculateMseLoss(actual,model.predict(testing_attributes)))\n",
      "\u001b[36mFile \u001b[39m\u001b[32m/workspaces/ml-algorithms-raw/logistic_regression/LogisticRegression.py:65\u001b[39m, in \u001b[36mLogisticRegression.calculateBinaryCrossEntropyLoss\u001b[39m\u001b[34m(self, actual, predicted)\u001b[39m\n\u001b[32m     62\u001b[39m predicted = np.asarray(predicted, dtype=np.float64)\n\u001b[32m     64\u001b[39m \u001b[38;5;28;01mif\u001b[39;00m target.shape != predicted.shape:\n\u001b[32m---> \u001b[39m\u001b[32m65\u001b[39m     \u001b[38;5;28;01mraise\u001b[39;00m \u001b[38;5;167;01mValueError\u001b[39;00m(\u001b[33m\"\u001b[39m\u001b[33mPredicted vector and target vector lists don\u001b[39m\u001b[33m'\u001b[39m\u001b[33mt match.\u001b[39m\u001b[33m\"\u001b[39m)\n\u001b[32m     67\u001b[39m \u001b[38;5;28;01mif\u001b[39;00m \u001b[38;5;129;01mnot\u001b[39;00m np.isin(target, [\u001b[32m0\u001b[39m, \u001b[32m1\u001b[39m]).all():\n\u001b[32m     68\u001b[39m     \u001b[38;5;28;01mraise\u001b[39;00m \u001b[38;5;167;01mValueError\u001b[39;00m(\u001b[33m\"\u001b[39m\u001b[33mTarget contains values other than 0 or 1\u001b[39m\u001b[33m\"\u001b[39m)\n",
      "\u001b[31mValueError\u001b[39m: Predicted vector and target vector lists don't match."
     ]
    }
   ],
   "source": [
    "print(\"Predicted weights \", model.weight, \" bias \", model.bias)\n",
    "\n",
    "actual = testing_labels.reshape(-1, 1)  # ensure shape = (n_samples, 1)\n",
    "probs = LogisticRegression.sigmoidFunction(np.dot(testing_attributes, model.weight) + model.bias)\n",
    "loss = model.calculateBinaryCrossEntropyLoss(actual, probs)\n",
    "\n",
    "print(\"Prediction loss\", model.calculateMseLoss(actual,model.predict(testing_attributes)))"
   ]
  },
  {
   "cell_type": "markdown",
   "id": "b492f8d4",
   "metadata": {},
   "source": []
  }
 ],
 "metadata": {
  "kernelspec": {
   "display_name": "Python 3",
   "language": "python",
   "name": "python3"
  },
  "language_info": {
   "codemirror_mode": {
    "name": "ipython",
    "version": 3
   },
   "file_extension": ".py",
   "mimetype": "text/x-python",
   "name": "python",
   "nbconvert_exporter": "python",
   "pygments_lexer": "ipython3",
   "version": "3.12.1"
  }
 },
 "nbformat": 4,
 "nbformat_minor": 5
}
