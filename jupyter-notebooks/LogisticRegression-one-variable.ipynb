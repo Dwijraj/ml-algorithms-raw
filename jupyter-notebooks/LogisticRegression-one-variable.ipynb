{
 "cells": [
  {
   "cell_type": "code",
   "execution_count": 1,
   "id": "2f8b992a",
   "metadata": {},
   "outputs": [],
   "source": [
    "%run jupyterutils.py\n",
    "\n",
    "from logistic_regression.LogisticRegression import LogisticRegression"
   ]
  },
  {
   "cell_type": "markdown",
   "id": "9726de96",
   "metadata": {},
   "source": [
    "### Linear Regression with multiple feature\n",
    "We attempt to try and mimic linear regression and than test it , to test our implementations correctness we would generate the data set using a perfect linear equation , we will than compare how good our algorithm does when it get's data fitting a curve whose mathematically model is known. Run time and correctness might be good KPI for monitoring .\n",
    "\n"
   ]
  },
  {
   "cell_type": "markdown",
   "id": "0fa6328b",
   "metadata": {},
   "source": [
    "##### Create data\n",
    "\n",
    "We'll check how good is the algorithm in finding the actual parameters when we feed it absolutely ideal data"
   ]
  },
  {
   "cell_type": "code",
   "execution_count": 2,
   "id": "2277fa63",
   "metadata": {},
   "outputs": [],
   "source": [
    "def ModelEquation(x1):\n",
    "    return 9.8*x1 + 7.6"
   ]
  },
  {
   "cell_type": "code",
   "execution_count": 3,
   "id": "f636a270",
   "metadata": {},
   "outputs": [
    {
     "name": "stdout",
     "output_type": "stream",
     "text": [
      "9.8⋅x₁ + 7.6\n"
     ]
    }
   ],
   "source": [
    "x1 = sp.Symbol('x1')\n",
    "\n",
    "expr = ModelEquation(x1)\n",
    "sp.pprint(expr)"
   ]
  },
  {
   "cell_type": "code",
   "execution_count": 4,
   "id": "ea358307",
   "metadata": {},
   "outputs": [],
   "source": [
    "total_data_points = 50000\n",
    "x1 = np.random.normal(0.5, 0.2, size=25000)\n",
    "x2 = np.random.normal(1.5, 0.2, size=25000)\n",
    "x = np.concatenate([x1, x2])\n",
    "np.random.shuffle(x)\n",
    "probabs = ModelEquation(x)\n",
    "threshold = np.median(probabs)\n",
    "y = LogisticRegression.getLabelFromProbability(ModelEquation(x),threshold)\n",
    "\n",
    "perm = np.random.permutation(len(x))\n",
    "x = x[perm]\n",
    "y = y[perm]\n"
   ]
  },
  {
   "cell_type": "markdown",
   "id": "044f62c7",
   "metadata": {},
   "source": [
    "##### Split data\n",
    "\n",
    "We're going to split the data into training and testing data based on a tuneable parameter"
   ]
  },
  {
   "cell_type": "code",
   "execution_count": 5,
   "id": "a43ab785",
   "metadata": {},
   "outputs": [
    {
     "name": "stdout",
     "output_type": "stream",
     "text": [
      "(42500, 1)\n",
      "(7500, 1)\n",
      "(42500,)\n",
      "(7500,)\n"
     ]
    }
   ],
   "source": [
    "training_percent = 0.85\n",
    "training_numbers = int(training_percent*total_data_points)\n",
    "\n",
    "training_features = np.array([x[:training_numbers]]).T\n",
    "training_labels = np.array(y[:training_numbers])\n",
    "\n",
    "testing_attributes=np.array([x[training_numbers:]]).T\n",
    "testing_labels=np.array(y[training_numbers:])\n",
    "\n",
    "print(training_features.shape)\n",
    "print(testing_attributes.shape)\n",
    "print(training_labels.shape)\n",
    "print(testing_labels.shape)"
   ]
  },
  {
   "cell_type": "markdown",
   "id": "8deb1efb",
   "metadata": {},
   "source": [
    "##### Model Training"
   ]
  },
  {
   "cell_type": "code",
   "execution_count": 6,
   "id": "2dbaf349",
   "metadata": {},
   "outputs": [
    {
     "ename": "NameError",
     "evalue": "name 'target' is not defined",
     "output_type": "error",
     "traceback": [
      "\u001b[31m---------------------------------------------------------------------------\u001b[39m",
      "\u001b[31mNameError\u001b[39m                                 Traceback (most recent call last)",
      "\u001b[36mCell\u001b[39m\u001b[36m \u001b[39m\u001b[32mIn[6]\u001b[39m\u001b[32m, line 2\u001b[39m\n\u001b[32m      1\u001b[39m model = LogisticRegression(training_features, training_labels , learning_rate=\u001b[32m0.001\u001b[39m, threshold=\u001b[32m0.5\u001b[39m)\n\u001b[32m----> \u001b[39m\u001b[32m2\u001b[39m \u001b[43mmodel\u001b[49m\u001b[43m.\u001b[49m\u001b[43mtrain\u001b[49m\u001b[43m(\u001b[49m\u001b[32;43m150000\u001b[39;49m\u001b[43m,\u001b[49m\u001b[38;5;28;43;01mTrue\u001b[39;49;00m\u001b[43m)\u001b[49m\n\u001b[32m      4\u001b[39m values = model.trainingLoss\n\u001b[32m      5\u001b[39m x = np.arange(\u001b[32m1\u001b[39m, \u001b[38;5;28mlen\u001b[39m(values) + \u001b[32m1\u001b[39m)\n",
      "\u001b[36mFile \u001b[39m\u001b[32m/workspaces/ml-algorithms-raw/logistic_regression/LogisticRegression.py:40\u001b[39m, in \u001b[36mLogisticRegression.train\u001b[39m\u001b[34m(self, iterations, logTrainingParams)\u001b[39m\n\u001b[32m     38\u001b[39m \u001b[38;5;28mself\u001b[39m._weight = \u001b[38;5;28mself\u001b[39m._weight- \u001b[38;5;28mself\u001b[39m.learning_rate*dW\n\u001b[32m     39\u001b[39m \u001b[38;5;28mself\u001b[39m._bias = \u001b[38;5;28mself\u001b[39m._bias - \u001b[38;5;28mself\u001b[39m.learning_rate*dJ\n\u001b[32m---> \u001b[39m\u001b[32m40\u001b[39m loss = \u001b[38;5;28;43mself\u001b[39;49m\u001b[43m.\u001b[49m\u001b[43mcalculateBinaryCrossEntropyLoss\u001b[49m\u001b[43m(\u001b[49m\u001b[38;5;28;43mself\u001b[39;49m\u001b[43m.\u001b[49m\u001b[43mlabel\u001b[49m\u001b[43m,\u001b[49m\u001b[43m \u001b[49m\u001b[43mpredicted_probability\u001b[49m\u001b[43m)\u001b[49m\n\u001b[32m     41\u001b[39m \u001b[38;5;28mself\u001b[39m._loss.append(loss)\n\u001b[32m     43\u001b[39m \u001b[38;5;28;01mif\u001b[39;00m logTrainingParams \u001b[38;5;129;01mand\u001b[39;00m i%\u001b[32m1000\u001b[39m == \u001b[32m0\u001b[39m:\n",
      "\u001b[36mFile \u001b[39m\u001b[32m/workspaces/ml-algorithms-raw/logistic_regression/LogisticRegression.py:64\u001b[39m, in \u001b[36mLogisticRegression.calculateBinaryCrossEntropyLoss\u001b[39m\u001b[34m(self, actual, predicted)\u001b[39m\n\u001b[32m     61\u001b[39m actual = np.asarray(actual, dtype=np.float64)\n\u001b[32m     62\u001b[39m predicted = np.asarray(predicted, dtype=np.float64)\n\u001b[32m---> \u001b[39m\u001b[32m64\u001b[39m \u001b[38;5;28;01mif\u001b[39;00m \u001b[43mtarget\u001b[49m.shape != predicted.shape:\n\u001b[32m     65\u001b[39m     \u001b[38;5;28;01mraise\u001b[39;00m \u001b[38;5;167;01mValueError\u001b[39;00m(\u001b[33m\"\u001b[39m\u001b[33mPredicted vector and target vector lists don\u001b[39m\u001b[33m'\u001b[39m\u001b[33mt match.\u001b[39m\u001b[33m\"\u001b[39m)\n\u001b[32m     67\u001b[39m \u001b[38;5;28;01mif\u001b[39;00m \u001b[38;5;129;01mnot\u001b[39;00m np.isin(target, [\u001b[32m0\u001b[39m, \u001b[32m1\u001b[39m]).all():\n",
      "\u001b[31mNameError\u001b[39m: name 'target' is not defined"
     ]
    }
   ],
   "source": [
    "model = LogisticRegression(training_features, training_labels , learning_rate=0.001, threshold=0.5)\n",
    "model.train(150000,True)\n",
    "\n",
    "values = model.trainingLoss\n",
    "x = np.arange(1, len(values) + 1)\n",
    "\n",
    "# Plotting\n",
    "plt.plot(x, values, marker='o', linestyle='-', color='blue')\n",
    "\n",
    "# Labels and title\n",
    "plt.xlabel(\"Iteration\")\n",
    "plt.ylabel(\"Loss\")\n",
    "plt.title(\"Loss value as a function of iteration\")\n",
    "plt.grid(True)\n",
    "plt.show()\n",
    "\n"
   ]
  },
  {
   "cell_type": "markdown",
   "id": "42612d8d",
   "metadata": {},
   "source": [
    "#### Prediction Details"
   ]
  },
  {
   "cell_type": "code",
   "execution_count": null,
   "id": "6ec392f1",
   "metadata": {},
   "outputs": [
    {
     "name": "stdout",
     "output_type": "stream",
     "text": [
      "Predicted weights  [[1.68691656]]  bias  -1.3593034110818487\n",
      "\n"
     ]
    },
    {
     "ename": "ValueError",
     "evalue": "Predicted vector and target vector lists don't match.",
     "output_type": "error",
     "traceback": [
      "\u001b[31m---------------------------------------------------------------------------\u001b[39m",
      "\u001b[31mValueError\u001b[39m                                Traceback (most recent call last)",
      "\u001b[36mCell\u001b[39m\u001b[36m \u001b[39m\u001b[32mIn[8]\u001b[39m\u001b[32m, line 6\u001b[39m\n\u001b[32m      4\u001b[39m predicted  = model.predict(testing_attributes)\n\u001b[32m      5\u001b[39m \u001b[38;5;28mprint\u001b[39m()\n\u001b[32m----> \u001b[39m\u001b[32m6\u001b[39m loss       = \u001b[43mmodel\u001b[49m\u001b[43m.\u001b[49m\u001b[43mcalculateBinaryCrossEntropyLoss\u001b[49m\u001b[43m(\u001b[49m\u001b[43mactual\u001b[49m\u001b[43m,\u001b[49m\u001b[43m \u001b[49m\u001b[43mpredicted\u001b[49m\u001b[43m)\u001b[49m\n\u001b[32m      8\u001b[39m \u001b[38;5;28mprint\u001b[39m(\u001b[33m\"\u001b[39m\u001b[33mPrediction loss\u001b[39m\u001b[33m\"\u001b[39m, model.calculateMseLoss(actual,model.predict(testing_attributes)))\n",
      "\u001b[36mFile \u001b[39m\u001b[32m/workspaces/ml-algorithms-raw/logistic_regression/LogisticRegression.py:65\u001b[39m, in \u001b[36mLogisticRegression.calculateBinaryCrossEntropyLoss\u001b[39m\u001b[34m(self, actual, predicted)\u001b[39m\n\u001b[32m     62\u001b[39m predicted = np.asarray(predicted, dtype=np.float64)\n\u001b[32m     64\u001b[39m \u001b[38;5;28;01mif\u001b[39;00m target.shape != predicted.shape:\n\u001b[32m---> \u001b[39m\u001b[32m65\u001b[39m     \u001b[38;5;28;01mraise\u001b[39;00m \u001b[38;5;167;01mValueError\u001b[39;00m(\u001b[33m\"\u001b[39m\u001b[33mPredicted vector and target vector lists don\u001b[39m\u001b[33m'\u001b[39m\u001b[33mt match.\u001b[39m\u001b[33m\"\u001b[39m)\n\u001b[32m     67\u001b[39m \u001b[38;5;28;01mif\u001b[39;00m \u001b[38;5;129;01mnot\u001b[39;00m np.isin(target, [\u001b[32m0\u001b[39m, \u001b[32m1\u001b[39m]).all():\n\u001b[32m     68\u001b[39m     \u001b[38;5;28;01mraise\u001b[39;00m \u001b[38;5;167;01mValueError\u001b[39;00m(\u001b[33m\"\u001b[39m\u001b[33mTarget contains values other than 0 or 1\u001b[39m\u001b[33m\"\u001b[39m)\n",
      "\u001b[31mValueError\u001b[39m: Predicted vector and target vector lists don't match."
     ]
    }
   ],
   "source": [
    "print(\"Predicted weights \", model.weight, \" bias \", model.bias)\n",
    "\n",
    "actual = testing_labels.reshape(-1, 1)  # ensure shape = (n_samples, 1)\n",
    "probs = LogisticRegression.sigmoidFunction(np.dot(testing_attributes, model.weight) + model.bias)\n",
    "loss = model.calculateBinaryCrossEntropyLoss(actual, probs)\n",
    "\n",
    "print(\"Prediction loss\", model.calculateMseLoss(actual,model.predict(testing_attributes)))"
   ]
  },
  {
   "cell_type": "markdown",
   "id": "b492f8d4",
   "metadata": {},
   "source": []
  }
 ],
 "metadata": {
  "kernelspec": {
   "display_name": "Python 3",
   "language": "python",
   "name": "python3"
  },
  "language_info": {
   "codemirror_mode": {
    "name": "ipython",
    "version": 3
   },
   "file_extension": ".py",
   "mimetype": "text/x-python",
   "name": "python",
   "nbconvert_exporter": "python",
   "pygments_lexer": "ipython3",
   "version": "3.12.1"
  }
 },
 "nbformat": 4,
 "nbformat_minor": 5
}
