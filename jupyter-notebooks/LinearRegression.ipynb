{
 "cells": [
  {
   "cell_type": "code",
   "execution_count": 3,
   "id": "2f8b992a",
   "metadata": {},
   "outputs": [],
   "source": [
    "%run jupyterutils.py\n",
    "\n",
    "from algorithms.supervised.linear_regression.LinearRegression import LinearRegression"
   ]
  },
  {
   "cell_type": "markdown",
   "id": "9726de96",
   "metadata": {},
   "source": [
    "### Linear Regression with single feature\n",
    "We attempt to try and mimic linear regression and than test it , to test our implementations correctness we would generate the data set using a perfect linear equation , we will than compare how good our algorithm does when it get's data fitting a curve whose mathematically model is known. Run time and correctness might be good KPI for monitoring .\n",
    "\n"
   ]
  },
  {
   "cell_type": "markdown",
   "id": "0fa6328b",
   "metadata": {},
   "source": [
    "##### Create data\n",
    "\n",
    "We'll check how good is the algorithm in finding the actual parameters when we feed it absolutely ideal data"
   ]
  },
  {
   "cell_type": "code",
   "execution_count": 4,
   "id": "f636a270",
   "metadata": {},
   "outputs": [
    {
     "name": "stdout",
     "output_type": "stream",
     "text": [
      "y = 0.8⋅x + 0.6\n"
     ]
    }
   ],
   "source": [
    "x = sp.Symbol('x')\n",
    "y = 0.8 * x + 0.6\n",
    "print(\"y = \", end='')\n",
    "sp.pprint(y)\n"
   ]
  },
  {
   "cell_type": "code",
   "execution_count": 5,
   "id": "2277fa63",
   "metadata": {},
   "outputs": [],
   "source": [
    "def ModelEquation(input):\n",
    "    return 0.8*input+0.6"
   ]
  },
  {
   "cell_type": "code",
   "execution_count": 6,
   "id": "ea358307",
   "metadata": {},
   "outputs": [],
   "source": [
    "total_data_points = 50000\n",
    "x = np.linspace(0, 2, total_data_points)\n",
    "y = ModelEquation(x)\n",
    "\n",
    "perm = np.random.permutation(len(x))\n",
    "x = x[perm]\n",
    "y = y[perm]\n"
   ]
  },
  {
   "cell_type": "markdown",
   "id": "044f62c7",
   "metadata": {},
   "source": [
    "##### Split data\n",
    "\n",
    "We're going to split the data into training and testing data based on a tuneable parameter"
   ]
  },
  {
   "cell_type": "code",
   "execution_count": 7,
   "id": "a43ab785",
   "metadata": {},
   "outputs": [
    {
     "name": "stdout",
     "output_type": "stream",
     "text": [
      "(42500, 1)\n",
      "(7500, 1)\n",
      "(42500,)\n",
      "(7500,)\n"
     ]
    }
   ],
   "source": [
    "training_percent = 0.85\n",
    "training_numbers = int(training_percent*total_data_points)\n",
    "\n",
    "training_features = ensure_column_vector(np.array(x[:training_numbers]))\n",
    "training_labels = np.array(y[:training_numbers])\n",
    "\n",
    "testing_attributes=ensure_column_vector(np.array(x[training_numbers:]))\n",
    "testing_labels=np.array(y[training_numbers:])\n",
    "\n",
    "print(training_features.shape)\n",
    "print(testing_attributes.shape)\n",
    "print(training_labels.shape)\n",
    "print(testing_labels.shape)"
   ]
  },
  {
   "cell_type": "markdown",
   "id": "8deb1efb",
   "metadata": {},
   "source": [
    "##### Model Training"
   ]
  },
  {
   "cell_type": "code",
   "execution_count": 8,
   "id": "2dbaf349",
   "metadata": {},
   "outputs": [
    {
     "name": "stdout",
     "output_type": "stream",
     "text": [
      "Iteration  0  weights  [[0.54316137]]  bias  0.00017139088556849128 loss 0.7563792097271941\n"
     ]
    },
    {
     "name": "stdout",
     "output_type": "stream",
     "text": [
      "Iteration  1000  weights  [[0.69487423]]  bias  0.1402391314599428 loss 0.32301669592999344\n",
      "Iteration  2000  weights  [[0.7911355]]  bias  0.232970593138462 loss 0.1414344893893165\n",
      "Iteration  3000  weights  [[0.85159758]]  bias  0.2950297206774368 loss 0.06514005755959602\n",
      "Iteration  4000  weights  [[0.88896584]]  bias  0.33719321258437523 loss 0.03288663015126809\n",
      "Iteration  5000  weights  [[0.91145383]]  bias  0.3664310750808044 loss 0.019066927113950454\n",
      "Iteration  6000  weights  [[0.92437078]]  bias  0.3872518887939299 loss 0.012973846107199287\n",
      "Iteration  7000  weights  [[0.93114808]]  bias  0.40257264616547755 loss 0.010129800589418729\n",
      "Iteration  8000  weights  [[0.93400294]]  bias  0.41428118109683804 loss 0.008661699525614974\n",
      "Iteration  9000  weights  [[0.93436758]]  bias  0.4235998318279024 loss 0.007785400797224494\n",
      "Iteration  10000  weights  [[0.93316665]]  bias  0.4313205832088501 loss 0.007172090108287156\n",
      "Iteration  11000  weights  [[0.9309967]]  bias  0.4379571088145212 loss 0.006683374064941468\n",
      "Iteration  12000  weights  [[0.92824214]]  bias  0.4438430813009522 loss 0.006260524879738095\n",
      "Iteration  13000  weights  [[0.92515027]]  bias  0.4491957403122846 loss 0.0058781727351035805\n",
      "Iteration  14000  weights  [[0.92187975]]  bias  0.4541569962318528 loss 0.005524942509318498\n",
      "Iteration  15000  weights  [[0.91853199]]  bias  0.4588200087979364 loss 0.0051953555378232265\n",
      "Iteration  16000  weights  [[0.91517142]]  bias  0.4632463738749114 loss 0.004886441212124145\n",
      "Iteration  17000  weights  [[0.91183856]]  bias  0.4674772375142937 loss 0.004596317820051436\n",
      "Iteration  18000  weights  [[0.90855854]]  bias  0.47154048342528515 loss 0.004323596833949825\n",
      "Iteration  19000  weights  [[0.90534656]]  bias  0.4754553815149663 loss 0.004067131606455561\n",
      "Iteration  20000  weights  [[0.90221142]]  bias  0.47923559474610206 loss 0.0038259101890590983\n",
      "Iteration  21000  weights  [[0.89915783]]  bias  0.48289112446501775 loss 0.0035990085308028096\n",
      "Iteration  22000  weights  [[0.89618786]]  bias  0.4864295693212107 loss 0.003385569038683364\n",
      "Iteration  23000  weights  [[0.89330194]]  bias  0.4898569403295923 loss 0.00318478985230855\n",
      "Iteration  24000  weights  [[0.89049942]]  bias  0.49317818890723214 loss 0.0029959187024401327\n",
      "Iteration  25000  weights  [[0.88777903]]  bias  0.4963975492914775 loss 0.0028182487842515385\n",
      "Iteration  26000  weights  [[0.88513909]]  bias  0.4995187609090189 loss 0.0026511155653569972\n",
      "Iteration  27000  weights  [[0.88257769]]  bias  0.5025452130934053 loss 0.002493894071627193\n",
      "Iteration  28000  weights  [[0.88009279]]  bias  0.5054800395656824 loss 0.002345996454578686\n",
      "Iteration  29000  weights  [[0.87768231]]  bias  0.5083261804050713 loss 0.002206869753451131\n",
      "Iteration  30000  weights  [[0.87534414]]  bias  0.511086422972497 loss 0.002075993811084469\n",
      "Iteration  31000  weights  [[0.87307619]]  bias  0.5137634291995781 loss 0.001952879322205349\n",
      "Iteration  32000  weights  [[0.87087642]]  bias  0.516359754036702 loss 0.0018370660011435068\n",
      "Iteration  33000  weights  [[0.86874281]]  bias  0.5188778581604769 loss 0.0017281208597498088\n",
      "Iteration  34000  weights  [[0.86667338]]  bias  0.5213201169459032 loss 0.0016256365880848625\n",
      "Iteration  35000  weights  [[0.86466622]]  bias  0.5236888270006091 loss 0.0015292300314076628\n",
      "Iteration  36000  weights  [[0.86271947]]  bias  0.5259862111006532 loss 0.0014385407575981575\n",
      "Iteration  37000  weights  [[0.86083132]]  bias  0.5282144220714292 loss 0.0013532297095835907\n",
      "Iteration  38000  weights  [[0.859]]  bias  0.5303755459657019 loss 0.00127297793770126\n",
      "Iteration  39000  weights  [[0.85722381]]  bias  0.532471604767054 loss 0.0011974854072450667\n",
      "Iteration  40000  weights  [[0.85550109]]  bias  0.534504558766952 loss 0.0011264698767327638\n",
      "Iteration  41000  weights  [[0.85383022]]  bias  0.5364763087118174 loss 0.0010596658426978768\n",
      "Iteration  42000  weights  [[0.85220966]]  bias  0.5383886977830457 loss 0.0009968235470598156\n",
      "Iteration  43000  weights  [[0.85063789]]  bias  0.5402435134511827 loss 0.0009377080433612467\n",
      "Iteration  44000  weights  [[0.84911343]]  bias  0.5420424892314522 loss 0.0008820983183813363\n",
      "Iteration  45000  weights  [[0.84763487]]  bias  0.5437873063587422 loss 0.0008297864658407678\n",
      "Iteration  46000  weights  [[0.84620081]]  bias  0.545479595394271 loss 0.0007805769091092229\n",
      "Iteration  47000  weights  [[0.84480993]]  bias  0.5471209377723011 loss 0.0007342856700092564\n",
      "Iteration  48000  weights  [[0.84346093]]  bias  0.5487128672928084 loss 0.0006907396809831347\n",
      "Iteration  49000  weights  [[0.84215253]]  bias  0.5502568715643646 loss 0.0006497761380508799\n",
      "Iteration  50000  weights  [[0.84088352]]  bias  0.5517543934004662 loss 0.0006112418921399911\n",
      "Iteration  51000  weights  [[0.83965272]]  bias  0.5532068321717937 loss 0.0005749928765122043\n",
      "Iteration  52000  weights  [[0.83845897]]  bias  0.5546155451164564 loss 0.0005408935681458078\n",
      "Iteration  53000  weights  [[0.83730116]]  bias  0.5559818486099481 loss 0.0005088164810599798\n",
      "Iteration  54000  weights  [[0.83617821]]  bias  0.5573070193963136 loss 0.0004786416896872263\n",
      "Iteration  55000  weights  [[0.83508906]]  bias  0.5585922957819109 loss 0.00045025638051148404\n",
      "Iteration  56000  weights  [[0.8340327]]  bias  0.5598388787929978 loss 0.00042355443029581583\n",
      "Iteration  57000  weights  [[0.83300814]]  bias  0.5610479332983255 loss 0.00039843600932298\n",
      "Iteration  58000  weights  [[0.83201443]]  bias  0.5622205890978315 loss 0.0003748072081653245\n",
      "Iteration  59000  weights  [[0.83105063]]  bias  0.5633579419785156 loss 0.0003525796865885098\n",
      "Iteration  60000  weights  [[0.83011585]]  bias  0.564461054738461 loss 0.0003316703432769299\n",
      "Iteration  61000  weights  [[0.82920921]]  bias  0.5655309581800269 loss 0.0003120010051453298\n",
      "Iteration  62000  weights  [[0.82832986]]  bias  0.5665686520731148 loss 0.00029349813507565276\n",
      "Iteration  63000  weights  [[0.82747699]]  bias  0.5675751060894125 loss 0.00027609255698636233\n",
      "Iteration  64000  weights  [[0.82664979]]  bias  0.5685512607085216 loss 0.0002597191972058815\n",
      "Iteration  65000  weights  [[0.8258475]]  bias  0.5694980280968028 loss 0.000244316841183828\n",
      "Iteration  66000  weights  [[0.82506935]]  bias  0.5704162929597485 loss 0.0002298279046301019\n",
      "Iteration  67000  weights  [[0.82431464]]  bias  0.5713069133686937 loss 0.00021619821822648207\n",
      "Iteration  68000  weights  [[0.82358264]]  bias  0.5721707215626571 loss 0.0002033768251054196\n",
      "Iteration  69000  weights  [[0.82287269]]  bias  0.5730085247260093 loss 0.00019131579033935934\n",
      "Iteration  70000  weights  [[0.8221841]]  bias  0.573821105742755 loss 0.00017997002172790414\n",
      "Iteration  71000  weights  [[0.82151625]]  bias  0.5746092239281 loss 0.00016929710121308962\n",
      "Iteration  72000  weights  [[0.8208685]]  bias  0.5753736157379907 loss 0.00015925712629232309\n",
      "Iteration  73000  weights  [[0.82024025]]  bias  0.5761149954572946 loss 0.00014981256083625947\n",
      "Iteration  74000  weights  [[0.81963092]]  bias  0.5768340558672611 loss 0.00014092809475364478\n",
      "Iteration  75000  weights  [[0.81903993]]  bias  0.5775314688928891 loss 0.00013257051197864206\n",
      "Iteration  76000  weights  [[0.81846673]]  bias  0.5782078862308179 loss 0.00012470856628694693\n",
      "Iteration  77000  weights  [[0.81791078]]  bias  0.5788639399582863 loss 0.00011731286447662397\n",
      "Iteration  78000  weights  [[0.81737158]]  bias  0.5795002431237912 loss 0.00011035575647660631\n",
      "Iteration  79000  weights  [[0.81684861]]  bias  0.5801173903199404 loss 0.00010381123197235917\n",
      "Iteration  80000  weights  [[0.81634138]]  bias  0.5807159582390771 loss 9.765482316189056e-05\n",
      "Iteration  81000  weights  [[0.81584942]]  bias  0.5812965062121623 loss 9.186351327877647e-05\n",
      "Iteration  82000  weights  [[0.81537227]]  bias  0.58185957673144 loss 8.641565054017985e-05\n",
      "Iteration  83000  weights  [[0.81490949]]  bias  0.5824056959573788 loss 8.129086719794906e-05\n",
      "Iteration  84000  weights  [[0.81446063]]  bias  0.5829353742103301 loss 7.647000339042946e-05\n",
      "Iteration  85000  weights  [[0.8140253]]  bias  0.5834491064474019 loss 7.193503551012152e-05\n",
      "Iteration  86000  weights  [[0.81360306]]  bias  0.5839473727249672 loss 6.766900881936292e-05\n",
      "Iteration  87000  weights  [[0.81319354]]  bias  0.5844306386472624 loss 6.365597406218489e-05\n",
      "Iteration  88000  weights  [[0.81279635]]  bias  0.5848993558014584 loss 5.988092783538277e-05\n",
      "Iteration  89000  weights  [[0.81241111]]  bias  0.5853539621796456 loss 5.632975649580749e-05\n",
      "Iteration  90000  weights  [[0.81203747]]  bias  0.5857948825881231 loss 5.29891833940961e-05\n",
      "Iteration  91000  weights  [[0.81167509]]  bias  0.5862225290443546 loss 4.984671923767643e-05\n",
      "Iteration  92000  weights  [[0.81132361]]  bias  0.5866373011619768 loss 4.689061539748806e-05\n",
      "Iteration  93000  weights  [[0.81098271]]  bias  0.587039586524223 loss 4.410981998375748e-05\n",
      "Iteration  94000  weights  [[0.81065207]]  bias  0.5874297610460881 loss 4.1493936526667696e-05\n",
      "Iteration  95000  weights  [[0.81033139]]  bias  0.5878081893256135 loss 3.903318510737765e-05\n",
      "Iteration  96000  weights  [[0.81002036]]  bias  0.5881752249845783 loss 3.67183657941872e-05\n",
      "Iteration  97000  weights  [[0.8097187]]  bias  0.5885312109989475 loss 3.4540824247026966e-05\n",
      "Iteration  98000  weights  [[0.80942612]]  bias  0.5888764800193551 loss 3.249241936177842e-05\n",
      "Iteration  99000  weights  [[0.80914234]]  bias  0.5892113546819596 loss 3.056549283337815e-05\n",
      "Iteration  100000  weights  [[0.80886711]]  bias  0.5895361479099233 loss 2.8752840523983813e-05\n",
      "Iteration  101000  weights  [[0.80860017]]  bias  0.589851163205826 loss 2.704768552904904e-05\n",
      "Iteration  102000  weights  [[0.80834126]]  bias  0.5901566949352759 loss 2.544365284077298e-05\n",
      "Iteration  103000  weights  [[0.80809014]]  bias  0.5904530286019753 loss 2.393474551404281e-05\n",
      "Iteration  104000  weights  [[0.80784659]]  bias  0.5907404411145036 loss 2.251532224587177e-05\n",
      "Iteration  105000  weights  [[0.80761037]]  bias  0.5910192010450869 loss 2.1180076284408695e-05\n",
      "Iteration  106000  weights  [[0.80738126]]  bias  0.5912895688805531 loss 1.9924015588795294e-05\n",
      "Iteration  107000  weights  [[0.80715904]]  bias  0.5915517972657532 loss 1.8742444165543627e-05\n",
      "Iteration  108000  weights  [[0.80694352]]  bias  0.5918061312396368 loss 1.7630944511809458e-05\n",
      "Iteration  109000  weights  [[0.80673448]]  bias  0.5920528084642303 loss 1.6585361099813785e-05\n",
      "Iteration  110000  weights  [[0.80653174]]  bias  0.5922920594467276 loss 1.560178484067443e-05\n",
      "Iteration  111000  weights  [[0.8063351]]  bias  0.5925241077548742 loss 1.4676538469664175e-05\n",
      "Iteration  112000  weights  [[0.80614438]]  bias  0.592749170225891 loss 1.380616279811584e-05\n",
      "Iteration  113000  weights  [[0.80595941]]  bias  0.5929674571690924 loss 1.2987403780669878e-05\n",
      "Iteration  114000  weights  [[0.80578]]  bias  0.5931791725624059 loss 1.2217200349488276e-05\n",
      "Iteration  115000  weights  [[0.80560599]]  bias  0.5933845142429913 loss 1.1492672969912289e-05\n",
      "Iteration  116000  weights  [[0.80543722]]  bias  0.5935836740920944 loss 1.0811112874885854e-05\n",
      "Iteration  117000  weights  [[0.80527353]]  bias  0.5937768382143607 loss 1.0169971937730445e-05\n",
      "Iteration  118000  weights  [[0.80511477]]  bias  0.5939641871117329 loss 9.566853145575305e-06\n",
      "Iteration  119000  weights  [[0.80496079]]  bias  0.5941458958521324 loss 8.999501637700596e-06\n",
      "Iteration  120000  weights  [[0.80481145]]  bias  0.5943221342330393 loss 8.465796275383005e-06\n",
      "Iteration  121000  weights  [[0.8046666]]  bias  0.5944930669401627 loss 7.963741711659249e-06\n",
      "Iteration  122000  weights  [[0.80452611]]  bias  0.5946588537013315 loss 7.491460931377493e-06\n",
      "Iteration  123000  weights  [[0.80438985]]  bias  0.5948196494357559 loss 7.047188233667097e-06\n",
      "Iteration  124000  weights  [[0.80425769]]  bias  0.5949756043987877 loss 6.6292626305654025e-06\n",
      "Iteration  125000  weights  [[0.80412952]]  bias  0.5951268643223266 loss 6.236121637144496e-06\n",
      "Iteration  126000  weights  [[0.8040052]]  bias  0.5952735705509961 loss 5.866295429895683e-06\n",
      "Iteration  127000  weights  [[0.80388462]]  bias  0.5954158601742268 loss 5.5184013515457254e-06\n",
      "Iteration  128000  weights  [[0.80376767]]  bias  0.5955538661543612 loss 5.191138741759404e-06\n",
      "Iteration  129000  weights  [[0.80365425]]  bias  0.595687717450894 loss 4.8832840744126295e-06\n",
      "Iteration  130000  weights  [[0.80354423]]  bias  0.5958175391409892 loss 4.59368638321378e-06\n",
      "Iteration  131000  weights  [[0.80343753]]  bias  0.5959434525363386 loss 4.321262958651897e-06\n",
      "Iteration  132000  weights  [[0.80333405]]  bias  0.5960655752965437 loss 4.064995300079302e-06\n",
      "Iteration  133000  weights  [[0.80323368]]  bias  0.5961840215390464 loss 3.823925307898165e-06\n",
      "Iteration  134000  weights  [[0.80313633]]  bias  0.596298901945773 loss 3.597151701528263e-06\n",
      "Iteration  135000  weights  [[0.80304191]]  bias  0.59641032386656 loss 3.3838266498251987e-06\n",
      "Iteration  136000  weights  [[0.80295033]]  bias  0.5965183914194692 loss 3.1831526013206293e-06\n",
      "Iteration  137000  weights  [[0.80286151]]  bias  0.5966232055880742 loss 2.994379302443682e-06\n",
      "Iteration  138000  weights  [[0.80277536]]  bias  0.5967248643158288 loss 2.816800992569688e-06\n",
      "Iteration  139000  weights  [[0.80269181]]  bias  0.596823462597586 loss 2.6497537654221544e-06\n",
      "Iteration  140000  weights  [[0.80261077]]  bias  0.5969190925683813 loss 2.4926130869321944e-06\n",
      "Iteration  141000  weights  [[0.80253218]]  bias  0.5970118435895033 loss 2.3447914603321702e-06\n",
      "Iteration  142000  weights  [[0.80245594]]  bias  0.5971018023320157 loss 2.2057362296904593e-06\n",
      "Iteration  143000  weights  [[0.80238201]]  bias  0.5971890528577418 loss 2.0749275137152782e-06\n",
      "Iteration  144000  weights  [[0.8023103]]  bias  0.5972736766978113 loss 1.9518762620948897e-06\n",
      "Iteration  145000  weights  [[0.80224075]]  bias  0.5973557529288566 loss 1.8361224270944639e-06\n",
      "Iteration  146000  weights  [[0.80217329]]  bias  0.5974353582468975 loss 1.727233243597483e-06\n",
      "Iteration  147000  weights  [[0.80210786]]  bias  0.597512567039011 loss 1.6248016111375235e-06\n",
      "Iteration  148000  weights  [[0.8020444]]  bias  0.597587451452849 loss 1.5284445718834014e-06\n",
      "Iteration  149000  weights  [[0.80198286]]  bias  0.5976600814640458 loss 1.4378018788925576e-06\n"
     ]
    },
    {
     "data": {
      "image/png": "[encoded data removed]",
      "text/plain": [
       "<Figure size 640x480 with 1 Axes>"
      ]
     },
     "metadata": {},
     "output_type": "display_data"
    }
   ],
   "source": [
    "model = LinearRegression(training_features, training_labels , learning_rate=0.0001)\n",
    "model.train(150000,True)\n",
    "\n",
    "values = model.trainingLoss\n",
    "x = np.arange(1, len(values) + 1)\n",
    "\n",
    "plotLineGraph(\"Iterations\", \"Loss\", \"Loss value as a function of iteration\",x,values)\n",
    "\n"
   ]
  },
  {
   "cell_type": "markdown",
   "id": "42612d8d",
   "metadata": {},
   "source": [
    "#### Prediction Details"
   ]
  },
  {
   "cell_type": "code",
   "execution_count": 9,
   "id": "6ec392f1",
   "metadata": {},
   "outputs": [
    {
     "name": "stdout",
     "output_type": "stream",
     "text": [
      "Predicted weights  [[0.80192322]]  bias  0.597730455568235\n",
      "Prediction loss 1.3550752258734699e-06\n"
     ]
    }
   ],
   "source": [
    "print(\"Predicted weights \", model.weight, \" bias \", model.bias)\n",
    "print(\"Prediction loss\", model.calculateMseLoss(ModelEquation(testing_attributes),model.predict(testing_attributes)))"
   ]
  },
  {
   "cell_type": "markdown",
   "id": "b492f8d4",
   "metadata": {},
   "source": []
  }
 ],
 "metadata": {
  "kernelspec": {
   "display_name": "Python 3",
   "language": "python",
   "name": "python3"
  },
  "language_info": {
   "codemirror_mode": {
    "name": "ipython",
    "version": 3
   },
   "file_extension": ".py",
   "mimetype": "text/x-python",
   "name": "python",
   "nbconvert_exporter": "python",
   "pygments_lexer": "ipython3",
   "version": "3.12.1"
  }
 },
 "nbformat": 4,
 "nbformat_minor": 5
}
