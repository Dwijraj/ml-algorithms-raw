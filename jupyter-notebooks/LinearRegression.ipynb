{
 "cells": [
  {
   "cell_type": "code",
   "execution_count": 31,
   "id": "2f8b992a",
   "metadata": {},
   "outputs": [],
   "source": [
    "%run jupyterutils.py\n",
    "\n",
    "from linear_regression.LinearRegression import LinearRegression"
   ]
  },
  {
   "cell_type": "markdown",
   "id": "9726de96",
   "metadata": {},
   "source": [
    "### Linear Regression .ipynb file\n",
    "We attempt to try and mimic linear regression and than test it , to test our implementations correctness we would generate the data set using a perfect linear equation , we will than compare how good our algorithm does when it get's data fitting a curve whose mathematically model is known. Run time and correctness might be good KPI for monitoring .\n",
    "\n"
   ]
  },
  {
   "cell_type": "markdown",
   "id": "0fa6328b",
   "metadata": {},
   "source": [
    "##### Create data\n",
    "\n",
    "We'll check how good is the algorithm in finding the actual parameters when we feed it absolutely ideal data"
   ]
  },
  {
   "cell_type": "code",
   "execution_count": 32,
   "id": "f636a270",
   "metadata": {},
   "outputs": [
    {
     "name": "stdout",
     "output_type": "stream",
     "text": [
      "y = 0.8⋅x + 0.6\n"
     ]
    }
   ],
   "source": [
    "x = sp.Symbol('x')\n",
    "y = 0.8 * x + 0.6\n",
    "print(\"y = \", end='')\n",
    "sp.pprint(y)\n"
   ]
  },
  {
   "cell_type": "code",
   "execution_count": 33,
   "id": "2277fa63",
   "metadata": {},
   "outputs": [],
   "source": [
    "def ModelEquation(input):\n",
    "    return 0.8*input+0.6"
   ]
  },
  {
   "cell_type": "code",
   "execution_count": 34,
   "id": "ea358307",
   "metadata": {},
   "outputs": [],
   "source": [
    "total_data_points = 50000\n",
    "x = np.linspace(0, 2, total_data_points)\n",
    "y = ModelEquation(x)\n",
    "\n",
    "perm = np.random.permutation(len(x))\n",
    "x = x[perm]\n",
    "y = y[perm]\n"
   ]
  },
  {
   "cell_type": "markdown",
   "id": "044f62c7",
   "metadata": {},
   "source": [
    "##### Split data\n",
    "\n",
    "We're going to split the data into training and testing data based on a tuneable parameter"
   ]
  },
  {
   "cell_type": "code",
   "execution_count": 35,
   "id": "a43ab785",
   "metadata": {},
   "outputs": [
    {
     "name": "stdout",
     "output_type": "stream",
     "text": [
      "(42500, 1)\n",
      "(7500, 1)\n",
      "(42500,)\n",
      "(7500,)\n"
     ]
    }
   ],
   "source": [
    "training_percent = 0.85\n",
    "training_numbers = int(training_percent*total_data_points)\n",
    "\n",
    "training_features = ensure_column_vector(np.array(x[:training_numbers]))\n",
    "training_labels = np.array(y[:training_numbers])\n",
    "\n",
    "testing_attributes=ensure_column_vector(np.array(x[training_numbers:]))\n",
    "testing_labels=np.array(y[training_numbers:])\n",
    "\n",
    "print(training_features.shape)\n",
    "print(testing_attributes.shape)\n",
    "print(training_labels.shape)\n",
    "print(testing_labels.shape)"
   ]
  },
  {
   "cell_type": "markdown",
   "id": "8deb1efb",
   "metadata": {},
   "source": [
    "##### Model Training"
   ]
  },
  {
   "cell_type": "code",
   "execution_count": null,
   "id": "2dbaf349",
   "metadata": {},
   "outputs": [
    {
     "name": "stdout",
     "output_type": "stream",
     "text": [
      "Iteration  0  weights  [[0.54027693]]  bias  0.00017198344185583982 loss 0.7619642030021919\n",
      "Iteration  1000  weights  [[0.69266531]]  bias  0.14070425260306146 loss 0.32518435716814\n",
      "Iteration  2000  weights  [[0.78936181]]  bias  0.23371111518503856 loss 0.1422266866869033\n",
      "Iteration  3000  weights  [[0.85010814]]  bias  0.2959278188789589 loss 0.06538212485507225\n",
      "Iteration  4000  weights  [[0.88766575]]  bias  0.3381757244022389 loss 0.032911621005183515\n",
      "Iteration  5000  weights  [[0.91028338]]  bias  0.36745277989338926 loss 0.019008916868773238\n",
      "Iteration  6000  weights  [[0.92329231]]  bias  0.388285023555015 loss 0.012886586954463708\n",
      "Iteration  7000  weights  [[0.93013774]]  bias  0.4036003377607971 loss 0.010034669546572006\n",
      "Iteration  8000  weights  [[0.93304554]]  bias  0.41529333658426415 loss 0.008567050462983181\n",
      "Iteration  9000  weights  [[0.93345333]]  bias  0.4245905696783254 loss 0.007694364551971199\n",
      "Iteration  10000  weights  [[0.93228915]]  bias  0.4322866297501216 loss 0.0070857136456828045\n",
      "Iteration  11000  weights  [[0.93015167]]  bias  0.43889679859627095 loss 0.006601881514942553\n",
      "Iteration  12000  weights  [[0.92742662]]  bias  0.44475573490525144 loss 0.006183822870772333\n",
      "Iteration  13000  weights  [[0.92436214]]  bias  0.4500812777810181 loss 0.005806052139482807\n",
      "Iteration  14000  weights  [[0.92111742]]  bias  0.4550156973842834 loss 0.005457158451638273\n",
      "Iteration  15000  weights  [[0.9177942]]  bias  0.4596523649946908 loss 0.005131658697135193\n",
      "Iteration  16000  weights  [[0.91445712]]  bias  0.4640529966241943 loss 0.0048265896963865995\n",
      "Iteration  17000  weights  [[0.91114685]]  bias  0.46825880235073036 loss 0.004540081328182411\n",
      "Iteration  18000  weights  [[0.90788861]]  bias  0.4722976956353216 loss 0.004270757782664775\n",
      "Iteration  19000  weights  [[0.90469766]]  bias  0.4761889553643189 loss 0.004017485083981993\n",
      "Iteration  20000  weights  [[0.90158287]]  bias  0.47994624103153977 loss 0.0037792634742025064\n",
      "Iteration  21000  weights  [[0.89854895]]  bias  0.483579543183459 loss 0.003555180468426473\n",
      "Iteration  22000  weights  [[0.89559804]]  bias  0.48709644547367204 loss 0.003344389385006341\n",
      "Iteration  23000  weights  [[0.89273057]]  bias  0.4905029416371419 loss 0.003146098633132719\n",
      "Iteration  24000  weights  [[0.88994592]]  bias  0.49380396468650817 loss 0.0029595655997433764\n",
      "Iteration  25000  weights  [[0.88724284]]  bias  0.4970037300280225 loss 0.002784092555779861\n",
      "Iteration  26000  weights  [[0.88461967]]  bias  0.5001059582459784 loss 0.00261902349769361\n",
      "Iteration  27000  weights  [[0.88207451]]  bias  0.5031140200634336 loss 0.0024637414656755517\n",
      "Iteration  28000  weights  [[0.87960534]]  bias  0.5060310309615867 loss 0.0023176661418715517\n",
      "Iteration  29000  weights  [[0.8772101]]  bias  0.5088599132261165 loss 0.0021802516415666377\n",
      "Iteration  30000  weights  [[0.8748867]]  bias  0.5116034369085936 loss 0.002050984456465152\n",
      "Iteration  31000  weights  [[0.87263306]]  bias  0.5142642471308606 loss 0.0019293815287482466\n",
      "Iteration  32000  weights  [[0.87044715]]  bias  0.5168448825353126 loss 0.0018149884430131475\n",
      "Iteration  33000  weights  [[0.86832696]]  bias  0.5193477879869731 loss 0.0017073777269546668\n",
      "Iteration  34000  weights  [[0.86627054]]  bias  0.5217753235360117 loss 0.001606147253445284\n",
      "Iteration  35000  weights  [[0.86427598]]  bias  0.5241297709400453 loss 0.0015109187376252501\n",
      "Iteration  36000  weights  [[0.86234144]]  bias  0.5264133385869164 loss 0.001421336323212762\n",
      "Iteration  37000  weights  [[0.86046511]]  bias  0.5286281653621099 loss 0.0013370652526794194\n",
      "Iteration  38000  weights  [[0.85864525]]  bias  0.5307763238132823 loss 0.0012577906162900847\n",
      "Iteration  39000  weights  [[0.85688016]]  bias  0.5328598228403576 loss 0.0011832161753211718\n",
      "Iteration  40000  weights  [[0.85516819]]  bias  0.5348806100595337 loss 0.0011130632550527555\n",
      "Iteration  41000  weights  [[0.85350774]]  bias  0.5368405739376348 loss 0.0010470697033978522\n",
      "Iteration  42000  weights  [[0.85189727]]  bias  0.538741545759785 loss 0.0009849889112742692\n",
      "Iteration  43000  weights  [[0.85033527]]  bias  0.5405853014715956 loss 0.0009265888910594358\n",
      "Iteration  44000  weights  [[0.84882028]]  bias  0.5423735634231032 loss 0.000871651409683454\n",
      "Iteration  45000  weights  [[0.84735089]]  bias  0.5441080020325193 loss 0.0008199711731212754\n",
      "Iteration  46000  weights  [[0.84592573]]  bias  0.5457902373820066 loss 0.0007713550592363888\n",
      "Iteration  47000  weights  [[0.84454346]]  bias  0.5474218407538572 loss 0.0007256213961092566\n",
      "Iteration  48000  weights  [[0.84320279]]  bias  0.5490043361129514 loss 0.0006825992831534332\n",
      "Iteration  49000  weights  [[0.84190247]]  bias  0.5505392015397635 loss 0.0006421279524830805\n",
      "Iteration  50000  weights  [[0.8406413]]  bias  0.5520278706171 loss 0.0006040561681449557\n",
      "Iteration  51000  weights  [[0.83941808]]  bias  0.5534717337730953 loss 0.0005682416609695465\n",
      "Iteration  52000  weights  [[0.83823167]]  bias  0.5548721395824662 loss 0.0005345505969304593\n",
      "Iteration  53000  weights  [[0.83708098]]  bias  0.5562303960277546 loss 0.0005028570770245273\n",
      "Iteration  54000  weights  [[0.83596492]]  bias  0.5575477717220746 loss 0.00047304266680398715\n",
      "Iteration  55000  weights  [[0.83488244]]  bias  0.5588254970946931 loss 0.0004449959538028529\n",
      "Iteration  56000  weights  [[0.83383255]]  bias  0.5600647655407072 loss 0.0004186121312032962\n",
      "Iteration  57000  weights  [[0.83281426]]  bias  0.561266734535967 loss 0.0003937926061866977\n",
      "Iteration  58000  weights  [[0.83182662]]  bias  0.5624325267183381 loss 0.0003704446315054765\n",
      "Iteration  59000  weights  [[0.83086871]]  bias  0.5635632309363847 loss 0.000348480958898847\n",
      "Iteration  60000  weights  [[0.82993962]]  bias  0.5646599032664072 loss 0.00032781951305795\n",
      "Iteration  61000  weights  [[0.8290385]]  bias  0.5657235679988855 loss 0.00030838308492129007\n",
      "Iteration  62000  weights  [[0.8281645]]  bias  0.566755218595192 loss 0.0002900990431547532\n",
      "Iteration  63000  weights  [[0.82731681]]  bias  0.5677558186155032 loss 0.0002728990627381109\n",
      "Iteration  64000  weights  [[0.82649463]]  bias  0.568726302618784 loss 0.0002567188696434664\n",
      "Iteration  65000  weights  [[0.82569719]]  bias  0.5696675770356632 loss 0.00024149800065184326\n",
      "Iteration  66000  weights  [[0.82492376]]  bias  0.5705805210150494 loss 0.00022717957741024493\n",
      "Iteration  67000  weights  [[0.8241736]]  bias  0.5714659872452612 loss 0.00021371009388480148\n",
      "Iteration  68000  weights  [[0.82344603]]  bias  0.5723248027504336 loss 0.00020103921641590578\n",
      "Iteration  69000  weights  [[0.82274035]]  bias  0.5731577696629631 loss 0.00018911959562803392\n",
      "Iteration  70000  weights  [[0.82205591]]  bias  0.573965665972699 loss 0.00017790668949144378\n",
      "Iteration  71000  weights  [[0.82139207]]  bias  0.5747492462535786 loss 0.0001673585968746488\n",
      "Iteration  72000  weights  [[0.82074822]]  bias  0.5755092423684126 loss 0.0001574359009653546\n",
      "Iteration  73000  weights  [[0.82012374]]  bias  0.5762463641524295 loss 0.00014810152197520957\n",
      "Iteration  74000  weights  [[0.81951805]]  bias  0.5769613000762663 loss 0.0001393205785775736\n",
      "Iteration  75000  weights  [[0.8189306]]  bias  0.5776547178890021 loss 0.00013106025756061477\n",
      "Iteration  76000  weights  [[0.81836083]]  bias  0.5783272652418326 loss 0.00012328969120875885\n",
      "Iteration  77000  weights  [[0.8178082]]  bias  0.5789795702929752 loss 0.00011597984195416375\n",
      "Iteration  78000  weights  [[0.81727221]]  bias  0.5796122422943661 loss 0.00010910339386718962\n",
      "Iteration  79000  weights  [[0.81675236]]  bias  0.5802258721607052 loss 0.00010263465058041682\n",
      "Iteration  80000  weights  [[0.81624814]]  bias  0.580821033021363 loss 9.65494392648189e-05\n",
      "Iteration  81000  weights  [[0.81575911]]  bias  0.581398280755692 loss 9.082502029901561e-05\n",
      "Iteration  82000  weights  [[0.81528479]]  bias  0.5819581545122053 loss 8.544000229449224e-05\n",
      "Iteration  83000  weights  [[0.81482475]]  bias  0.5825011772121543 loss 8.037426215869384e-05\n",
      "Iteration  84000  weights  [[0.81437856]]  bias  0.5830278560379187 loss 7.560886989783561e-05\n",
      "Iteration  85000  weights  [[0.81394579]]  bias  0.5835386829067348 loss 7.112601787796492e-05\n",
      "Iteration  86000  weights  [[0.81352605]]  bias  0.5840341349301272 loss 6.69089542802763e-05\n",
      "Iteration  87000  weights  [[0.81311894]]  bias  0.5845146748595422 loss 6.294192050172835e-05\n",
      "Iteration  88000  weights  [[0.81272409]]  bias  0.5849807515185507 loss 5.921009226733627e-05\n",
      "Iteration  89000  weights  [[0.81234112]]  bias  0.5854328002220555 loss 5.5699524233769245e-05\n",
      "Iteration  90000  weights  [[0.81196968]]  bias  0.585871243182861 loss 5.239709787752707e-05\n",
      "Iteration  91000  weights  [[0.81160942]]  bias  0.5862964899060366 loss 4.9290472472690966e-05\n",
      "Iteration  92000  weights  [[0.81126]]  bias  0.5867089375713844 loss 4.636803897535563e-05\n",
      "Iteration  93000  weights  [[0.81092109]]  bias  0.5871089714044018 loss 4.361887664216036e-05\n",
      "Iteration  94000  weights  [[0.81059239]]  bias  0.5874969650360836 loss 4.103271222092916e-05\n",
      "Iteration  95000  weights  [[0.81027358]]  bias  0.5878732808519044 loss 3.859988156086286e-05\n",
      "Iteration  96000  weights  [[0.80996437]]  bias  0.5882382703302663 loss 3.631129349897005e-05\n",
      "Iteration  97000  weights  [[0.80966446]]  bias  0.588592274370796 loss 3.415839588754449e-05\n",
      "Iteration  98000  weights  [[0.80937358]]  bias  0.588935623612737 loss 3.213314363596106e-05\n",
      "Iteration  99000  weights  [[0.80909145]]  bias  0.5892686387437609 loss 3.0227968647265663e-05\n",
      "Iteration  100000  weights  [[0.80881782]]  bias  0.5895916307995046 loss 2.8435751537141965e-05\n",
      "Iteration  101000  weights  [[0.80855242]]  bias  0.5899049014540573 loss 2.674979502983075e-05\n",
      "Iteration  102000  weights  [[0.80829501]]  bias  0.5902087433017432 loss 2.516379893118423e-05\n",
      "Iteration  103000  weights  [[0.80804535]]  bias  0.5905034401303878 loss 2.3671836585780056e-05\n",
      "Iteration  104000  weights  [[0.8078032]]  bias  0.5907892671863892 loss 2.2268332729740953e-05\n",
      "Iteration  105000  weights  [[0.80756834]]  bias  0.5910664914317872 loss 2.094804265674325e-05\n",
      "Iteration  106000  weights  [[0.80734055]]  bias  0.5913353717936111 loss 1.9706032619254744e-05\n",
      "Iteration  107000  weights  [[0.80711961]]  bias  0.5915961594057121 loss 1.853766139177771e-05\n",
      "Iteration  108000  weights  [[0.80690533]]  bias  0.5918490978433306 loss 1.7438562927190483e-05\n",
      "Iteration  109000  weights  [[0.80669749]]  bias  0.5920944233505858 loss 1.6404630041439055e-05\n",
      "Iteration  110000  weights  [[0.80649591]]  bias  0.5923323650611357 loss 1.5431999065518806e-05\n",
      "Iteration  111000  weights  [[0.8063004]]  bias  0.5925631452121761 loss 1.4517035407484269e-05\n",
      "Iteration  112000  weights  [[0.80611077]]  bias  0.5927869793520204 loss 1.3656319970439326e-05\n",
      "Iteration  113000  weights  [[0.80592685]]  bias  0.5930040765414248 loss 1.2846636375822464e-05\n",
      "Iteration  114000  weights  [[0.80574846]]  bias  0.5932146395488324 loss 1.2084958944281205e-05\n",
      "Iteration  115000  weights  [[0.80557544]]  bias  0.593418865039775 loss 1.1368441389049522e-05\n",
      "Iteration  116000  weights  [[0.80540763]]  bias  0.5936169437605594 loss 1.069440617978677e-05\n",
      "Iteration  117000  weights  [[0.80524487]]  bias  0.5938090607164112 loss 1.006033453701242e-05\n",
      "Iteration  118000  weights  [[0.80508701]]  bias  0.593995395344275 loss 9.46385701975328e-06\n",
      "Iteration  119000  weights  [[0.80493391]]  bias  0.5941761216804184 loss 8.902744671241434e-06\n",
      "Iteration  120000  weights  [[0.80478541]]  bias  0.594351408522964 loss 8.374900689635767e-06\n",
      "Iteration  121000  weights  [[0.80464137]]  bias  0.5945214195895632 loss 7.878352592517401e-06\n",
      "Iteration  122000  weights  [[0.80450168]]  bias  0.594686313670293 loss 7.41124484602409e-06\n",
      "Iteration  123000  weights  [[0.80436619]]  bias  0.594846244775975 loss 6.971831930944321e-06\n",
      "Iteration  124000  weights  [[0.80423477]]  bias  0.5950013622820254 loss 6.558471819940474e-06\n",
      "Iteration  125000  weights  [[0.80410732]]  bias  0.5951518110679603 loss 6.1696198415283415e-06\n",
      "Iteration  126000  weights  [[0.80398369]]  bias  0.5952977316527192 loss 5.803822907838902e-06\n",
      "Iteration  127000  weights  [[0.80386379]]  bias  0.5954392603259108 loss 5.459714084623363e-06\n",
      "Iteration  128000  weights  [[0.8037475]]  bias  0.5955765292751032 loss 5.13600748319882e-06\n",
      "Iteration  129000  weights  [[0.80363471]]  bias  0.5957096667092859 loss 4.831493455264315e-06\n",
      "Iteration  130000  weights  [[0.80352531]]  bias  0.5958387969786246 loss 4.545034072599267e-06\n",
      "Iteration  131000  weights  [[0.80341921]]  bias  0.5959640406905966 loss 4.275558874775546e-06\n",
      "Iteration  132000  weights  [[0.8033163]]  bias  0.5960855148226392 loss 4.0220608690028e-06\n",
      "Iteration  133000  weights  [[0.80321648]]  bias  0.5962033328314098 loss 3.783592767110527e-06\n",
      "Iteration  134000  weights  [[0.80311967]]  bias  0.5963176047587535 loss 3.559263445677151e-06\n",
      "Iteration  135000  weights  [[0.80302578]]  bias  0.596428437334475 loss 3.348234616013091e-06\n",
      "Iteration  136000  weights  [[0.80293471]]  bias  0.596535934076035 loss 3.149717691586923e-06\n",
      "Iteration  137000  weights  [[0.80284638]]  bias  0.5966401953852297 loss 2.9629708411841304e-06\n",
      "Iteration  138000  weights  [[0.80276071]]  bias  0.5967413186419621 loss 2.787296216790002e-06\n",
      "Iteration  139000  weights  [[0.80267762]]  bias  0.596839398295205 loss 2.6220373458107667e-06\n",
      "Iteration  140000  weights  [[0.80259703]]  bias  0.5969345259512066 loss 2.4665766779328834e-06\n",
      "Iteration  141000  weights  [[0.80251886]]  bias  0.5970267904590523 loss 2.3203332774212e-06\n",
      "Iteration  142000  weights  [[0.80244305]]  bias  0.5971162779936567 loss 2.18276065223199e-06\n",
      "Iteration  143000  weights  [[0.80236952]]  bias  0.5972030721362435 loss 2.053344711853019e-06\n",
      "Iteration  144000  weights  [[0.8022982]]  bias  0.5972872539524093 loss 1.9316018462153306e-06\n",
      "Iteration  145000  weights  [[0.80222903]]  bias  0.5973689020678441 loss 1.8170771185008384e-06\n",
      "Iteration  146000  weights  [[0.80216194]]  bias  0.5974480927417635 loss 1.7093425651083838e-06\n",
      "Iteration  147000  weights  [[0.80209687]]  bias  0.5975248999381407 loss 1.60799559641251e-06\n",
      "Iteration  148000  weights  [[0.80203376]]  bias  0.5975993953947807 loss 1.512657492337342e-06\n",
      "Iteration  149000  weights  [[0.80197255]]  bias  0.5976716486903279 loss 1.4229719871299544e-06\n"
     ]
    },
    {
     "data": {
      "image/png": "[encoded data removed]",
      "text/plain": [
       "<Figure size 640x480 with 1 Axes>"
      ]
     },
     "metadata": {},
     "output_type": "display_data"
    }
   ],
   "source": [
    "model = LinearRegression(training_features, training_labels , learning_rate=0.0001)\n",
    "model.train(150000,True)\n",
    "\n",
    "values = model.trainingLoss\n",
    "x = np.arange(1, len(values) + 1)\n",
    "\n",
    "# Plotting\n",
    "plt.plot(x, values, marker='o', linestyle='-', color='blue')\n",
    "\n",
    "# Labels and title\n",
    "plt.xlabel(\"Iteration\")\n",
    "plt.ylabel(\"Loss\")\n",
    "plt.title(\"Loss value as a function of iteration\")\n",
    "plt.grid(True)\n",
    "plt.show()\n",
    "\n"
   ]
  },
  {
   "cell_type": "markdown",
   "id": "42612d8d",
   "metadata": {},
   "source": [
    "#### Prediction Details"
   ]
  },
  {
   "cell_type": "code",
   "execution_count": 37,
   "id": "6ec392f1",
   "metadata": {},
   "outputs": [
    {
     "name": "stdout",
     "output_type": "stream",
     "text": [
      "Predicted weights  [[0.80191323]]  bias  0.5977416582949311\n",
      "Prediction loss 1.343265798450169e-06\n"
     ]
    }
   ],
   "source": [
    "print(\"Predicted weights \", model.weight, \" bias \", model.bias)\n",
    "print(\"Prediction loss\", model.calculateMseLoss(ModelEquation(testing_attributes),model.predict(testing_attributes)))"
   ]
  },
  {
   "cell_type": "markdown",
   "id": "b492f8d4",
   "metadata": {},
   "source": []
  }
 ],
 "metadata": {
  "kernelspec": {
   "display_name": "Python 3",
   "language": "python",
   "name": "python3"
  },
  "language_info": {
   "codemirror_mode": {
    "name": "ipython",
    "version": 3
   },
   "file_extension": ".py",
   "mimetype": "text/x-python",
   "name": "python",
   "nbconvert_exporter": "python",
   "pygments_lexer": "ipython3",
   "version": "3.12.1"
  }
 },
 "nbformat": 4,
 "nbformat_minor": 5
}
