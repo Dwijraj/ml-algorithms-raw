{
 "cells": [
  {
   "cell_type": "code",
   "execution_count": 114,
   "id": "2f8b992a",
   "metadata": {},
   "outputs": [],
   "source": [
    "%run jupyterutils.py\n",
    "\n",
    "from linear_regression.LinearRegression import LinearRegression"
   ]
  },
  {
   "cell_type": "markdown",
   "id": "9726de96",
   "metadata": {},
   "source": [
    "### Linear Regression .ipynb file\n",
    "We attempt to try and mimic linear regression and than test it , to test our implementations correctness we would generate the data set using a perfect linear equation , we will than compare how good our algorithm does when it get's data fitting a curve whose mathematically model is known. Run time and correctness might be good KPI for monitoring .\n",
    "\n"
   ]
  },
  {
   "cell_type": "markdown",
   "id": "0fa6328b",
   "metadata": {},
   "source": [
    "##### Create data\n",
    "\n",
    "We'll check how good is the algorithm in finding the actual parameters when we feed it absolutely ideal data"
   ]
  },
  {
   "cell_type": "code",
   "execution_count": 115,
   "id": "f636a270",
   "metadata": {},
   "outputs": [
    {
     "name": "stdout",
     "output_type": "stream",
     "text": [
      "y = 0.8⋅x + 0.6\n"
     ]
    }
   ],
   "source": [
    "x = sp.Symbol('x')\n",
    "y = 0.8 * x + 0.6\n",
    "print(\"y = \", end='')\n",
    "sp.pprint(y)\n"
   ]
  },
  {
   "cell_type": "code",
   "execution_count": 116,
   "id": "2277fa63",
   "metadata": {},
   "outputs": [],
   "source": [
    "def ModelEquation(input):\n",
    "    return 0.8*input+0.6"
   ]
  },
  {
   "cell_type": "code",
   "execution_count": 117,
   "id": "ea358307",
   "metadata": {},
   "outputs": [],
   "source": [
    "total_data_points = 50000\n",
    "x = np.linspace(0, 10000, total_data_points)\n",
    "y = ModelEquation(x)\n",
    "\n",
    "perm = np.random.permutation(len(x))\n",
    "x = x[perm]\n",
    "y = y[perm]\n"
   ]
  },
  {
   "cell_type": "markdown",
   "id": "044f62c7",
   "metadata": {},
   "source": [
    "##### Split data\n",
    "\n",
    "We're going to split the data into training and testing data based on a tuneable parameter"
   ]
  },
  {
   "cell_type": "code",
   "execution_count": 118,
   "id": "a43ab785",
   "metadata": {},
   "outputs": [],
   "source": [
    "training_percent = 0.85\n",
    "training_numbers = int(training_percent*total_data_points)\n",
    "\n",
    "training_features = np.array(x[:training_numbers])\n",
    "training_labels = np.array(y[:training_numbers])\n",
    "\n",
    "testing_attributes=np.array(x[training_numbers:])\n",
    "testing_labels=np.array(y[training_numbers:])\n",
    "\n"
   ]
  },
  {
   "cell_type": "markdown",
   "id": "8deb1efb",
   "metadata": {},
   "source": [
    "##### Model creation and prediction"
   ]
  },
  {
   "cell_type": "code",
   "execution_count": 119,
   "id": "2dbaf349",
   "metadata": {},
   "outputs": [
    {
     "ename": "IndexError",
     "evalue": "tuple index out of range",
     "output_type": "error",
     "traceback": [
      "\u001b[31m---------------------------------------------------------------------------\u001b[39m",
      "\u001b[31mIndexError\u001b[39m                                Traceback (most recent call last)",
      "\u001b[36mCell\u001b[39m\u001b[36m \u001b[39m\u001b[32mIn[119]\u001b[39m\u001b[32m, line 1\u001b[39m\n\u001b[32m----> \u001b[39m\u001b[32m1\u001b[39m model = \u001b[43mLinearRegression\u001b[49m\u001b[43m(\u001b[49m\u001b[43mtraining_features\u001b[49m\u001b[43m,\u001b[49m\u001b[43m \u001b[49m\u001b[43mtraining_labels\u001b[49m\u001b[43m.\u001b[49m\u001b[43mT\u001b[49m\u001b[43m)\u001b[49m\n\u001b[32m      2\u001b[39m model.train()\n\u001b[32m      4\u001b[39m \u001b[38;5;28mprint\u001b[39m(model.weight)\n",
      "\u001b[36mFile \u001b[39m\u001b[32m/workspaces/ml-algorithms-raw/linear_regression/LinearRegression.py:8\u001b[39m, in \u001b[36mLinearRegression.__init__\u001b[39m\u001b[34m(self, feature_data, label, learning_rate)\u001b[39m\n\u001b[32m      7\u001b[39m \u001b[38;5;28;01mdef\u001b[39;00m\u001b[38;5;250m \u001b[39m\u001b[34m__init__\u001b[39m(\u001b[38;5;28mself\u001b[39m, feature_data, label, learning_rate=\u001b[32m0.01\u001b[39m):\n\u001b[32m----> \u001b[39m\u001b[32m8\u001b[39m     \u001b[38;5;28mself\u001b[39m.input_validator= \u001b[43mLinearRegressionInputValidator\u001b[49m\u001b[43m(\u001b[49m\u001b[43mfeature_data\u001b[49m\u001b[43m,\u001b[49m\u001b[43m \u001b[49m\u001b[43mlabel\u001b[49m\u001b[43m)\u001b[49m\n\u001b[32m      9\u001b[39m     \u001b[38;5;28mself\u001b[39m.feature_data=feature_data\n\u001b[32m     10\u001b[39m     \u001b[38;5;28mself\u001b[39m.label=label\n",
      "\u001b[36mFile \u001b[39m\u001b[32m/workspaces/ml-algorithms-raw/validators/LinearRegressionInputValidator.py:6\u001b[39m, in \u001b[36mLinearRegressionInputValidator.__init__\u001b[39m\u001b[34m(self, input, output)\u001b[39m\n\u001b[32m      5\u001b[39m \u001b[38;5;28;01mdef\u001b[39;00m\u001b[38;5;250m \u001b[39m\u001b[34m__init__\u001b[39m(\u001b[38;5;28mself\u001b[39m, \u001b[38;5;28minput\u001b[39m, output):\n\u001b[32m----> \u001b[39m\u001b[32m6\u001b[39m     \u001b[38;5;28;43msuper\u001b[39;49m\u001b[43m(\u001b[49m\u001b[43m)\u001b[49m\u001b[43m.\u001b[49m\u001b[43mvalidateInputShape\u001b[49m\u001b[43m(\u001b[49m\u001b[38;5;28;43minput\u001b[39;49m\u001b[43m,\u001b[49m\u001b[43moutput\u001b[49m\u001b[43m)\u001b[49m\n",
      "\u001b[36mFile \u001b[39m\u001b[32m/workspaces/ml-algorithms-raw/validators/BaseAlgorithmValidator.py:19\u001b[39m, in \u001b[36mBaseAlgorithmValidator.validateInputShape\u001b[39m\u001b[34m(self, feature_data, label)\u001b[39m\n\u001b[32m     16\u001b[39m shape_features = feature_data.shape\n\u001b[32m     17\u001b[39m label_shape = label.shape\n\u001b[32m---> \u001b[39m\u001b[32m19\u001b[39m \u001b[38;5;28;01mif\u001b[39;00m \u001b[43mshape_features\u001b[49m\u001b[43m[\u001b[49m\u001b[32;43m1\u001b[39;49m\u001b[43m]\u001b[49m != label_shape[\u001b[32m0\u001b[39m]:\n\u001b[32m     20\u001b[39m     \u001b[38;5;28mprint\u001b[39m(\u001b[33m\"\u001b[39m\u001b[33mFeature shape \u001b[39m\u001b[33m\"\u001b[39m, shape_features , \u001b[33m\"\u001b[39m\u001b[33m label shape \u001b[39m\u001b[33m\"\u001b[39m, label_shape)\n\u001b[32m     21\u001b[39m     \u001b[38;5;28;01mraise\u001b[39;00m \u001b[38;5;167;01mValueError\u001b[39;00m(\u001b[33m\"\u001b[39m\u001b[33mTraining data shape and label shape don\u001b[39m\u001b[33m'\u001b[39m\u001b[33mt match\u001b[39m\u001b[33m\"\u001b[39m)\n",
      "\u001b[31mIndexError\u001b[39m: tuple index out of range"
     ]
    }
   ],
   "source": [
    "model = LinearRegression(training_features, training_labels.T)\n",
    "model.train()\n",
    "\n",
    "print(model.weight)\n",
    "print(model.bias)"
   ]
  },
  {
   "cell_type": "markdown",
   "id": "b492f8d4",
   "metadata": {},
   "source": []
  }
 ],
 "metadata": {
  "kernelspec": {
   "display_name": "Python 3",
   "language": "python",
   "name": "python3"
  },
  "language_info": {
   "codemirror_mode": {
    "name": "ipython",
    "version": 3
   },
   "file_extension": ".py",
   "mimetype": "text/x-python",
   "name": "python",
   "nbconvert_exporter": "python",
   "pygments_lexer": "ipython3",
   "version": "3.12.1"
  }
 },
 "nbformat": 4,
 "nbformat_minor": 5
}
