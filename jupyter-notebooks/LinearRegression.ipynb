{
 "cells": [
  {
   "cell_type": "code",
   "execution_count": 1,
   "id": "2f8b992a",
   "metadata": {},
   "outputs": [],
   "source": [
    "%run jupyterutils.py\n",
    "\n",
    "from linear_regression.LinearRegression import LinearRegression"
   ]
  },
  {
   "cell_type": "markdown",
   "id": "9726de96",
   "metadata": {},
   "source": [
    "### Linear Regression .ipynb file\n",
    "We attempt to try and mimic linear regression and than test it , to test our implementations correctness we would generate the data set using a perfect linear equation , we will than compare how good our algorithm does when it get's data fitting a curve whose mathematically model is known. Run time and correctness might be good KPI for monitoring .\n",
    "\n"
   ]
  },
  {
   "cell_type": "markdown",
   "id": "0fa6328b",
   "metadata": {},
   "source": [
    "##### Create data\n",
    "\n",
    "We'll check how good is the algorithm in finding the actual parameters when we feed it absolutely ideal data"
   ]
  },
  {
   "cell_type": "code",
   "execution_count": 2,
   "id": "f636a270",
   "metadata": {},
   "outputs": [
    {
     "name": "stdout",
     "output_type": "stream",
     "text": [
      "y = 0.8⋅x + 0.6\n"
     ]
    }
   ],
   "source": [
    "x = sp.Symbol('x')\n",
    "y = 0.8 * x + 0.6\n",
    "print(\"y = \", end='')\n",
    "sp.pprint(y)\n"
   ]
  },
  {
   "cell_type": "code",
   "execution_count": 3,
   "id": "2277fa63",
   "metadata": {},
   "outputs": [],
   "source": [
    "def ModelEquation(input):\n",
    "    return 0.8*input+0.6"
   ]
  },
  {
   "cell_type": "code",
   "execution_count": 4,
   "id": "ea358307",
   "metadata": {},
   "outputs": [],
   "source": [
    "total_data_points = 50000\n",
    "x = np.linspace(0, 2, total_data_points)\n",
    "y = ModelEquation(x)\n",
    "\n",
    "perm = np.random.permutation(len(x))\n",
    "x = x[perm]\n",
    "y = y[perm]\n"
   ]
  },
  {
   "cell_type": "markdown",
   "id": "044f62c7",
   "metadata": {},
   "source": [
    "##### Split data\n",
    "\n",
    "We're going to split the data into training and testing data based on a tuneable parameter"
   ]
  },
  {
   "cell_type": "code",
   "execution_count": 5,
   "id": "a43ab785",
   "metadata": {},
   "outputs": [],
   "source": [
    "training_percent = 0.85\n",
    "training_numbers = int(training_percent*total_data_points)\n",
    "\n",
    "training_features = ensure_column_vector(np.array(x[:training_numbers]))\n",
    "training_labels = np.array(y[:training_numbers])\n",
    "\n",
    "testing_attributes=ensure_column_vector(np.array(x[training_numbers:]))\n",
    "testing_labels=np.array(y[training_numbers:])"
   ]
  },
  {
   "cell_type": "markdown",
   "id": "8deb1efb",
   "metadata": {},
   "source": [
    "##### Model Training"
   ]
  },
  {
   "cell_type": "code",
   "execution_count": 7,
   "id": "2dbaf349",
   "metadata": {},
   "outputs": [
    {
     "name": "stdout",
     "output_type": "stream",
     "text": [
      "(42500, 1) (42500,)\n",
      "(7500, 1) (7500,)\n",
      "Iteration  0  weights  [[0.61806796]]  bias  0.00015639243483707232 loss 0.6225376081996846\n"
     ]
    },
    {
     "name": "stdout",
     "output_type": "stream",
     "text": [
      "Iteration  1000  weights  [[0.75338557]]  bias  0.1282774797192711 loss 0.26958349164617\n",
      "Iteration  2000  weights  [[0.8387467]]  bias  0.21365878692121812 loss 0.12143684430944736\n",
      "Iteration  3000  weights  [[0.89186746]]  bias  0.2713254466045162 loss 0.05896820342892755\n",
      "Iteration  4000  weights  [[0.92420228]]  bias  0.31099597977630206 loss 0.032358699719720364\n",
      "Iteration  5000  weights  [[0.94315644]]  bias  0.33895724180064285 loss 0.020773514573525807\n",
      "Iteration  6000  weights  [[0.95351683]]  bias  0.3592768850273514 loss 0.015498334161486393\n",
      "Iteration  7000  weights  [[0.95837717]]  bias  0.37458741708805315 loss 0.012887435104850149\n",
      "Iteration  8000  weights  [[0.95973634]]  bias  0.3865932253559514 loss 0.011414746395128204\n",
      "Iteration  9000  weights  [[0.95888528]]  bias  0.39639845346263103 loss 0.010440672445062853\n",
      "Iteration  10000  weights  [[0.95665714]]  bias  0.4047190291834279 loss 0.009696404336887208\n",
      "Iteration  11000  weights  [[0.95358915]]  bias  0.4120197770961173 loss 0.009068266785784257\n",
      "Iteration  12000  weights  [[0.95002715]]  bias  0.41860308618492637 loss 0.008507532742521053\n",
      "Iteration  13000  weights  [[0.94619332]]  bias  0.42466624970592726 loss 0.007992705668510824\n",
      "Iteration  14000  weights  [[0.94222991]]  bias  0.4303385464720988 loss 0.007513742728942565\n",
      "Iteration  15000  weights  [[0.93822749]]  bias  0.43570522158875974 loss 0.007065453372503138\n",
      "Iteration  16000  weights  [[0.9342433]]  bias  0.4408229954835415 loss 0.006644735060808973\n",
      "Iteration  17000  weights  [[0.93031302]]  bias  0.44573009454052276 loss 0.006249413818066011\n",
      "Iteration  18000  weights  [[0.92645847]]  bias  0.45045273900627425 loss 0.005877756084136428\n",
      "Iteration  19000  weights  [[0.92269251]]  bias  0.4550093398963775 loss 0.0055282614855356816\n",
      "Iteration  20000  weights  [[0.91902228]]  bias  0.45941321435186 loss 0.005199573263397056\n",
      "Iteration  21000  weights  [[0.91545122]]  bias  0.4636743428888805 loss 0.0048904380758519545\n",
      "Iteration  22000  weights  [[0.91198045]]  bias  0.467800507034994 loss 0.004599686610489953\n",
      "Iteration  23000  weights  [[0.90860957]]  bias  0.47179802624475237 loss 0.0043262230523317576\n",
      "Iteration  24000  weights  [[0.9053373]]  bias  0.4756722356459436 loss 0.004069018399102919\n",
      "Iteration  25000  weights  [[0.90216176]]  bias  0.47942779615376374 loss 0.0038271055209332257\n",
      "Iteration  26000  weights  [[0.89908075]]  bias  0.4830688961479199 loss 0.003599575077051311\n",
      "Iteration  27000  weights  [[0.89609189]]  bias  0.48659938299304034 loss 0.0033855719107906785\n",
      "Iteration  28000  weights  [[0.89319268]]  bias  0.4900228491579549 loss 0.003184291757423239\n",
      "Iteration  29000  weights  [[0.89038062]]  bias  0.4933426889434064 loss 0.0029949781889098055\n",
      "Iteration  30000  weights  [[0.88765321]]  bias  0.49656213617197625 loss 0.002816919757517633\n",
      "Iteration  31000  weights  [[0.88500796]]  bias  0.4996842895365762 loss 0.002649447316459425\n",
      "Iteration  32000  weights  [[0.88244246]]  bias  0.5027121299387388 loss 0.0024919315028386424\n",
      "Iteration  33000  weights  [[0.87995432]]  bias  0.5056485326184204 loss 0.0023437803714994277\n",
      "Iteration  34000  weights  [[0.87754125]]  bias  0.5084962758879839 loss 0.0022044371700758302\n",
      "Iteration  35000  weights  [[0.87520097]]  bias  0.5112580476433387 loss 0.002073378246540525\n",
      "Iteration  36000  weights  [[0.87293132]]  bias  0.5139364504116017 loss 0.001950111081246311\n",
      "Iteration  37000  weights  [[0.87073015]]  bias  0.5165340054271303 loss 0.0018341724360058159\n",
      "Iteration  38000  weights  [[0.86859541]]  bias  0.519053156054705 loss 0.0017251266132291352\n",
      "Iteration  39000  weights  [[0.8665251]]  bias  0.5214962707667992 loss 0.0016225638185661784\n",
      "Iteration  40000  weights  [[0.86451727]]  bias  0.5238656458094286 loss 0.0015260986208967605\n",
      "Iteration  41000  weights  [[0.86257003]]  bias  0.5261635076442772 loss 0.0014353685038788963\n",
      "Iteration  42000  weights  [[0.86068157]]  bias  0.5283920152244559 loss 0.0013500325036118006\n",
      "Iteration  43000  weights  [[0.8588501]]  bias  0.5305532621416782 loss 0.001269769927292571\n",
      "Iteration  44000  weights  [[0.85707391]]  bias  0.5326492786698732 loss 0.0011942791480525111\n",
      "Iteration  45000  weights  [[0.85535133]]  bias  0.5346820337220832 loss 0.0011232764714424488\n",
      "Iteration  46000  weights  [[0.85368074]]  bias  0.5366534367320679 loss 0.0010564950693092157\n",
      "Iteration  47000  weights  [[0.85206056]]  bias  0.5385653394686803 loss 0.0009936839770545265\n",
      "Iteration  48000  weights  [[0.85048929]]  bias  0.5404195377886769 loss 0.0009346071505099389\n",
      "Iteration  49000  weights  [[0.84896544]]  bias  0.5422177733322572 loss 0.000879042578882544\n",
      "Iteration  50000  weights  [[0.84748759]]  bias  0.5439617351645861 loss 0.0008267814504381526\n",
      "Iteration  51000  weights  [[0.84605433]]  bias  0.5456530613659571 loss 0.0007776273677863752\n",
      "Iteration  52000  weights  [[0.84466434]]  bias  0.5472933405727587 loss 0.0007313956098191946\n",
      "Iteration  53000  weights  [[0.8433163]]  bias  0.5488841134711799 loss 0.000687912437528491\n",
      "Iteration  54000  weights  [[0.84200894]]  bias  0.5504268742453317 loss 0.0006470144410948531\n",
      "Iteration  55000  weights  [[0.84074104]]  bias  0.5519230719813372 loss 0.0006085479257931708\n",
      "Iteration  56000  weights  [[0.83951141]]  bias  0.5533741120288478 loss 0.0005723683344076442\n",
      "Iteration  57000  weights  [[0.83831889]]  bias  0.5547813573213186 loss 0.0005383397039856643\n",
      "Iteration  58000  weights  [[0.83716237]]  bias  0.556146129656367 loss 0.0005063341548887416\n",
      "Iteration  59000  weights  [[0.83604074]]  bias  0.5574697109374132 loss 0.0004762314102207209\n",
      "Iteration  60000  weights  [[0.83495298]]  bias  0.558753344377821 loss 0.0004479183438270134\n",
      "Iteration  61000  weights  [[0.83389804]]  bias  0.5599982356686724 loss 0.0004212885551663872\n",
      "Iteration  62000  weights  [[0.83287494]]  bias  0.5612055541112733 loss 0.00039624196945756607\n",
      "Iteration  63000  weights  [[0.83188272]]  bias  0.5623764337154837 loss 0.00037268446159805066\n",
      "Iteration  64000  weights  [[0.83092045]]  bias  0.563511974264871 loss 0.00035052750244192796\n",
      "Iteration  65000  weights  [[0.82998722]]  bias  0.5646132423497304 loss 0.00032968782610715404\n",
      "Iteration  66000  weights  [[0.82908216]]  bias  0.5656812723689156 loss 0.00031008711706227563\n",
      "Iteration  67000  weights  [[0.82820441]]  bias  0.5667170675014296 loss 0.0002916517158165941\n",
      "Iteration  68000  weights  [[0.82735315]]  bias  0.5677216006486958 loss 0.0002743123421076648\n",
      "Iteration  69000  weights  [[0.82652759]]  bias  0.5686958153483862 loss 0.00025800383454593846\n",
      "Iteration  70000  weights  [[0.82572695]]  bias  0.5696406266606612 loss 0.0002426649057382985\n",
      "Iteration  71000  weights  [[0.82495046]]  bias  0.5705569220276759 loss 0.00022823791196985521\n",
      "Iteration  72000  weights  [[0.82419742]]  bias  0.5714455621071352 loss 0.0002146686365787889\n",
      "Iteration  73000  weights  [[0.8234671]]  bias  0.572307381580694 loss 0.00020190608621006793\n",
      "Iteration  74000  weights  [[0.82275883]]  bias  0.5731431899379498 loss 0.0001899022991824262\n",
      "Iteration  75000  weights  [[0.82207193]]  bias  0.5739537722367833 loss 0.00017861216524821523\n",
      "Iteration  76000  weights  [[0.82140576]]  bias  0.5747398898407535 loss 0.00016799325606905226\n",
      "Iteration  77000  weights  [[0.8207597]]  bias  0.5755022811342206 loss 0.00015800566577011486\n",
      "Iteration  78000  weights  [[0.82013314]]  bias  0.5762416622159079 loss 0.00014861186097371085\n",
      "Iteration  79000  weights  [[0.81952549]]  bias  0.5769587275715108 loss 0.00013977653974889964\n",
      "Iteration  80000  weights  [[0.81893618]]  bias  0.5776541507260091 loss 0.0001314664989467542\n",
      "Iteration  81000  weights  [[0.81836465]]  bias  0.5783285848763048 loss 0.00012365050942287983\n",
      "Iteration  82000  weights  [[0.81781038]]  bias  0.5789826635047532 loss 0.00011629919867821191\n",
      "Iteration  83000  weights  [[0.81727283]]  bias  0.5796170009741805 loss 0.00010938494047717493\n",
      "Iteration  84000  weights  [[0.81675151]]  bias  0.5802321931049372 loss 0.00010288175102825077\n",
      "Iteration  85000  weights  [[0.81624592]]  bias  0.5808288177345512 loss 9.676519133678462e-05\n",
      "Iteration  86000  weights  [[0.81575559]]  bias  0.5814074352604666 loss 9.101227536332516e-05\n",
      "Iteration  87000  weights  [[0.81528006]]  bias  0.5819685891664192 loss 8.560138364199447e-05\n",
      "Iteration  88000  weights  [[0.81481889]]  bias  0.5825128065329231 loss 8.051218203447855e-05\n",
      "Iteration  89000  weights  [[0.81437163]]  bias  0.583040598532341 loss 7.572554531434886e-05\n",
      "Iteration  90000  weights  [[0.81393787]]  bias  0.583552460909023 loss 7.122348529443278e-05\n",
      "Iteration  91000  weights  [[0.8135172]]  bias  0.5840488744449454 loss 6.698908322716822e-05\n",
      "Iteration  92000  weights  [[0.81310923]]  bias  0.5845303054112982 loss 6.300642622397529e-05\n",
      "Iteration  93000  weights  [[0.81271357]]  bias  0.5849972060064531 loss 5.926054745449259e-05\n",
      "Iteration  94000  weights  [[0.81232986]]  bias  0.5854500147806926 loss 5.5737369901321126e-05\n",
      "Iteration  95000  weights  [[0.81195772]]  bias  0.585889157048141 loss 5.242365345851396e-05\n",
      "Iteration  96000  weights  [[0.81159682]]  bias  0.5863150452862431 loss 4.930694517527772e-05\n",
      "Iteration  97000  weights  [[0.81124681]]  bias  0.5867280795232066 loss 4.6375532457732143e-05\n",
      "Iteration  98000  weights  [[0.81090736]]  bias  0.5871286477137377 loss 4.3618399052959745e-05\n",
      "Iteration  99000  weights  [[0.81057816]]  bias  0.5875171261034325 loss 4.102518364997605e-05\n",
      "Iteration  100000  weights  [[0.81025889]]  bias  0.5878938795821868 loss 3.8586140941815625e-05\n",
      "Iteration  101000  weights  [[0.80994926]]  bias  0.5882592620269205 loss 3.629210500274122e-05\n",
      "Iteration  102000  weights  [[0.80964898]]  bias  0.5886136166339735 loss 3.4134454842628915e-05\n",
      "Iteration  103000  weights  [[0.80935775]]  bias  0.5889572762414591 loss 3.21050820093174e-05\n",
      "Iteration  104000  weights  [[0.80907532]]  bias  0.5892905636418929 loss 3.0196360116986497e-05\n",
      "Iteration  105000  weights  [[0.80880141]]  bias  0.5896137918853921 loss 2.8401116186217844e-05\n",
      "Iteration  106000  weights  [[0.80853577]]  bias  0.5899272645737051 loss 2.6712603687931192e-05\n",
      "Iteration  107000  weights  [[0.80827815]]  bias  0.5902312761453895 loss 2.512447718989863e-05\n",
      "Iteration  108000  weights  [[0.8080283]]  bias  0.5905261121523631 loss 2.363076851063013e-05\n",
      "Iteration  109000  weights  [[0.80778599]]  bias  0.5908120495281229 loss 2.22258642909191e-05\n",
      "Iteration  110000  weights  [[0.807551]]  bias  0.5910893568478616 loss 2.09044848988434e-05\n",
      "Iteration  111000  weights  [[0.8073231]]  bias  0.5913582945807355 loss 1.96616645888776e-05\n",
      "Iteration  112000  weights  [[0.80710208]]  bias  0.5916191153345188 loss 1.8492732840637707e-05\n",
      "Iteration  113000  weights  [[0.80688772]]  bias  0.5918720640928674 loss 1.7393296807058587e-05\n",
      "Iteration  114000  weights  [[0.80667984]]  bias  0.5921173784454348 loss 1.6359224806060778e-05\n",
      "Iteration  115000  weights  [[0.80647823]]  bias  0.5923552888110291 loss 1.5386630793689473e-05\n",
      "Iteration  116000  weights  [[0.80628271]]  bias  0.5925860186540421 loss 1.447185976034684e-05\n",
      "Iteration  117000  weights  [[0.80609309]]  bias  0.5928097846943504 loss 1.3611473995275774e-05\n",
      "Iteration  118000  weights  [[0.80590919]]  bias  0.5930267971108678 loss 1.2802240167616313e-05\n",
      "Iteration  119000  weights  [[0.80573084]]  bias  0.593237259738969 loss 1.2041117175570916e-05\n",
      "Iteration  120000  weights  [[0.80555787]]  bias  0.593441370261943 loss 1.1325244717921633e-05\n",
      "Iteration  121000  weights  [[0.80539013]]  bias  0.5936393203966759 loss 1.0651932545010537e-05\n",
      "Iteration  122000  weights  [[0.80522744]]  bias  0.5938312960737233 loss 1.0018650348803024e-05\n",
      "Iteration  123000  weights  [[0.80506967]]  bias  0.5940174776119558 loss 9.423018253957222e-06\n",
      "Iteration  124000  weights  [[0.80491666]]  bias  0.5941980398879279 loss 8.862797874266747e-06\n",
      "Iteration  125000  weights  [[0.80476827]]  bias  0.5943731525001291 loss 8.335883900802778e-06\n",
      "Iteration  126000  weights  [[0.80462435]]  bias  0.5945429799282956 loss 7.840296190150771e-06\n",
      "Iteration  127000  weights  [[0.80448478]]  bias  0.5947076816878973 loss 7.374172323026738e-06\n",
      "Iteration  128000  weights  [[0.80434942]]  bias  0.5948674124799633 loss 6.935760605322081e-06\n",
      "Iteration  129000  weights  [[0.80421815]]  bias  0.5950223223363958 loss 6.523413485214125e-06\n",
      "Iteration  130000  weights  [[0.80409084]]  bias  0.5951725567608871 loss 6.135581361683581e-06\n",
      "Iteration  131000  weights  [[0.80396737]]  bias  0.5953182568655979 loss 5.770806761081844e-06\n",
      "Iteration  132000  weights  [[0.80384763]]  bias  0.5954595595036862 loss 5.427718859979811e-06\n",
      "Iteration  133000  weights  [[0.8037315]]  bias  0.5955965973978615 loss 5.105028333590877e-06\n",
      "Iteration  134000  weights  [[0.80361888]]  bias  0.5957294992650476 loss 4.801522510481152e-06\n",
      "Iteration  135000  weights  [[0.80350966]]  bias  0.59585838993728 loss 4.516060815363524e-06\n",
      "Iteration  136000  weights  [[0.80340373]]  bias  0.595983390478958 loss 4.247570482808547e-06\n",
      "Iteration  137000  weights  [[0.803301]]  bias  0.5961046183005644 loss 3.99504252578733e-06\n",
      "Iteration  138000  weights  [[0.80320137]]  bias  0.5962221872689347 loss 3.757527943905671e-06\n",
      "Iteration  139000  weights  [[0.80310475]]  bias  0.5963362078142275 loss 3.534134157042249e-06\n",
      "Iteration  140000  weights  [[0.80301104]]  bias  0.5964467870336342 loss 3.324021651052694e-06\n",
      "Iteration  141000  weights  [[0.80292016]]  bias  0.5965540287919759 loss 3.126400822858093e-06\n",
      "Iteration  142000  weights  [[0.80283203]]  bias  0.596658033819269 loss 2.940529013121024e-06\n",
      "Iteration  143000  weights  [[0.80274655]]  bias  0.5967588998053323 loss 2.7657077153334525e-06\n",
      "Iteration  144000  weights  [[0.80266366]]  bias  0.5968567214915429 loss 2.601279950828506e-06\n",
      "Iteration  145000  weights  [[0.80258326]]  bias  0.5969515907598354 loss 2.4466277998455186e-06\n",
      "Iteration  146000  weights  [[0.8025053]]  bias  0.597043596718993 loss 2.301170079395436e-06\n",
      "Iteration  147000  weights  [[0.80242968]]  bias  0.5971328257883511 loss 2.164360159171272e-06\n",
      "Iteration  148000  weights  [[0.80235635]]  bias  0.597219361778973 loss 2.0356839073073205e-06\n",
      "Iteration  149000  weights  [[0.80228523]]  bias  0.5973032859723613 loss 1.9146577582812e-06\n"
     ]
    },
    {
     "data": {
      "image/png": "[encoded data removed]",
      "text/plain": [
       "<Figure size 640x480 with 1 Axes>"
      ]
     },
     "metadata": {},
     "output_type": "display_data"
    }
   ],
   "source": [
    "print(training_features.shape , training_labels.T.shape)\n",
    "print(testing_attributes.shape , testing_labels.T.shape)\n",
    "model = LinearRegression(training_features, training_labels.T , learning_rate=0.0001)\n",
    "model.train(150000,True)\n",
    "\n",
    "values = model.trainingLoss\n",
    "x = np.arange(1, len(values) + 1)\n",
    "\n",
    "# Plotting\n",
    "plt.plot(x, values, marker='o', linestyle='-', color='blue')\n",
    "\n",
    "# Labels and title\n",
    "plt.xlabel(\"Iteration\")\n",
    "plt.ylabel(\"Loss\")\n",
    "plt.title(\"Loss value as a function of iteration\")\n",
    "plt.grid(True)\n",
    "plt.show()\n",
    "\n"
   ]
  },
  {
   "cell_type": "markdown",
   "id": "42612d8d",
   "metadata": {},
   "source": [
    "#### Prediction Details"
   ]
  },
  {
   "cell_type": "code",
   "execution_count": 8,
   "id": "6ec392f1",
   "metadata": {},
   "outputs": [
    {
     "name": "stdout",
     "output_type": "stream",
     "text": [
      "Predicted weights  [[0.80221633]]  bias  0.597384597045166\n",
      "Prediction loss 1.773289185672249e-06\n"
     ]
    }
   ],
   "source": [
    "print(\"Predicted weights \", model.weight, \" bias \", model.bias)\n",
    "print(\"Prediction loss\", model.calculateMseLoss(ModelEquation(testing_attributes),model.predict(testing_attributes)))"
   ]
  },
  {
   "cell_type": "markdown",
   "id": "b492f8d4",
   "metadata": {},
   "source": []
  }
 ],
 "metadata": {
  "kernelspec": {
   "display_name": "Python 3",
   "language": "python",
   "name": "python3"
  },
  "language_info": {
   "codemirror_mode": {
    "name": "ipython",
    "version": 3
   },
   "file_extension": ".py",
   "mimetype": "text/x-python",
   "name": "python",
   "nbconvert_exporter": "python",
   "pygments_lexer": "ipython3",
   "version": "3.12.1"
  }
 },
 "nbformat": 4,
 "nbformat_minor": 5
}
