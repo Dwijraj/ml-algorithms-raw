{
 "cells": [
  {
   "cell_type": "code",
   "execution_count": 1,
   "id": "2f8b992a",
   "metadata": {},
   "outputs": [],
   "source": [
    "%run jupyterutils.py\n",
    "\n",
    "from linear_regression.LinearRegression import LinearRegression"
   ]
  },
  {
   "cell_type": "markdown",
   "id": "9726de96",
   "metadata": {},
   "source": [
    "### Linear Regression with single feature\n",
    "We attempt to try and mimic linear regression and than test it , to test our implementations correctness we would generate the data set using a perfect linear equation , we will than compare how good our algorithm does when it get's data fitting a curve whose mathematically model is known. Run time and correctness might be good KPI for monitoring .\n",
    "\n"
   ]
  },
  {
   "cell_type": "markdown",
   "id": "0fa6328b",
   "metadata": {},
   "source": [
    "##### Create data\n",
    "\n",
    "We'll check how good is the algorithm in finding the actual parameters when we feed it absolutely ideal data"
   ]
  },
  {
   "cell_type": "code",
   "execution_count": 2,
   "id": "f636a270",
   "metadata": {},
   "outputs": [
    {
     "name": "stdout",
     "output_type": "stream",
     "text": [
      "y = 0.8⋅x + 0.6\n"
     ]
    }
   ],
   "source": [
    "x = sp.Symbol('x')\n",
    "y = 0.8 * x + 0.6\n",
    "print(\"y = \", end='')\n",
    "sp.pprint(y)\n"
   ]
  },
  {
   "cell_type": "code",
   "execution_count": 3,
   "id": "2277fa63",
   "metadata": {},
   "outputs": [],
   "source": [
    "def ModelEquation(input):\n",
    "    return 0.8*input+0.6"
   ]
  },
  {
   "cell_type": "code",
   "execution_count": 4,
   "id": "ea358307",
   "metadata": {},
   "outputs": [],
   "source": [
    "total_data_points = 50000\n",
    "x = np.linspace(0, 2, total_data_points)\n",
    "y = ModelEquation(x)\n",
    "\n",
    "perm = np.random.permutation(len(x))\n",
    "x = x[perm]\n",
    "y = y[perm]\n"
   ]
  },
  {
   "cell_type": "markdown",
   "id": "044f62c7",
   "metadata": {},
   "source": [
    "##### Split data\n",
    "\n",
    "We're going to split the data into training and testing data based on a tuneable parameter"
   ]
  },
  {
   "cell_type": "code",
   "execution_count": 5,
   "id": "a43ab785",
   "metadata": {},
   "outputs": [
    {
     "name": "stdout",
     "output_type": "stream",
     "text": [
      "(42500, 1)\n",
      "(7500, 1)\n",
      "(42500,)\n",
      "(7500,)\n"
     ]
    }
   ],
   "source": [
    "training_percent = 0.85\n",
    "training_numbers = int(training_percent*total_data_points)\n",
    "\n",
    "training_features = ensure_column_vector(np.array(x[:training_numbers]))\n",
    "training_labels = np.array(y[:training_numbers])\n",
    "\n",
    "testing_attributes=ensure_column_vector(np.array(x[training_numbers:]))\n",
    "testing_labels=np.array(y[training_numbers:])\n",
    "\n",
    "print(training_features.shape)\n",
    "print(testing_attributes.shape)\n",
    "print(training_labels.shape)\n",
    "print(testing_labels.shape)"
   ]
  },
  {
   "cell_type": "markdown",
   "id": "8deb1efb",
   "metadata": {},
   "source": [
    "##### Model Training"
   ]
  },
  {
   "cell_type": "code",
   "execution_count": 6,
   "id": "2dbaf349",
   "metadata": {},
   "outputs": [
    {
     "name": "stdout",
     "output_type": "stream",
     "text": [
      "Iteration  0  weights  [[0.01407289]]  bias  0.00027718775312558005 loss 2.126914902096937\n",
      "Iteration  1000  weights  [[0.28124872]]  bias  0.22468387466384773 loss 0.8894672111723848\n",
      "Iteration  2000  weights  [[0.45432465]]  bias  0.3694110463388618 loss 0.3720783254406027\n",
      "Iteration  3000  weights  [[0.56654538]]  bias  0.4626282462584744 loss 0.15574667705123132\n",
      "Iteration  4000  weights  [[0.63940746]]  bias  0.522549742060271 loss 0.06528770772188658\n",
      "Iteration  5000  weights  [[0.68681096]]  bias  0.5609526660551671 loss 0.027456730165330904\n",
      "Iteration  6000  weights  [[0.71774401]]  bias  0.5854518672771633 loss 0.011630109824788059\n",
      "Iteration  7000  weights  [[0.7380187]]  bias  0.6009708451975477 loss 0.005004072469971683\n",
      "Iteration  8000  weights  [[0.75139338]]  bias  0.6106928646649019 loss 0.002225327883838149\n",
      "Iteration  9000  weights  [[0.76029849]]  bias  0.6166759526802745 loss 0.0010556344891966948\n",
      "Iteration  10000  weights  [[0.76630581]]  bias  0.6202505590065681 loss 0.0005591541145805336\n",
      "Iteration  11000  weights  [[0.77043189]]  bias  0.6222766858189934 loss 0.0003445850838711826\n",
      "Iteration  12000  weights  [[0.77333427]]  bias  0.6233101491386798 loss 0.00024829802911854\n",
      "Iteration  13000  weights  [[0.77543832]]  bias  0.6237100842986608 loss 0.00020185490608161724\n",
      "Iteration  14000  weights  [[0.77701933]]  bias  0.6237084594296242 loss 0.00017661861506594088\n",
      "Iteration  15000  weights  [[0.7782555]]  bias  0.6234550230933359 loss 0.00016059420195961018\n",
      "Iteration  16000  weights  [[0.77926223]]  bias  0.6230463674845671 loss 0.00014874608502422662\n",
      "Iteration  17000  weights  [[0.78011437]]  bias  0.6225447206639535 loss 0.00013894961161054753\n",
      "Iteration  18000  weights  [[0.78086049]]  bias  0.6219900975226409 loss 0.00013029833223203433\n",
      "Iteration  19000  weights  [[0.78153217]]  bias  0.6214081564665186 loss 0.00012239620412463528\n",
      "Iteration  20000  weights  [[0.78215002]]  bias  0.6208152793972864 loss 0.00011506159775999497\n",
      "Iteration  21000  weights  [[0.78272754]]  bias  0.6202218562654097 loss 0.00010820348192427227\n",
      "Iteration  22000  weights  [[0.78327361]]  bias  0.6196344086935691 loss 0.00010176960020387147\n",
      "Iteration  23000  weights  [[0.78379414]]  bias  0.6190569629413124 loss 9.57247504252082e-05\n",
      "Iteration  24000  weights  [[0.78429312]]  bias  0.6184919374944272 loss 9.004165329104724e-05\n",
      "Iteration  25000  weights  [[0.78477327]]  bias  0.617940716812909 loss 8.469708752606466e-05\n",
      "Iteration  26000  weights  [[0.7852365]]  bias  0.6174040221522493 loss 7.967022974065893e-05\n",
      "Iteration  27000  weights  [[0.78568419]]  bias  0.6168821511760936 loss 7.49419187127302e-05\n",
      "Iteration  28000  weights  [[0.78611736]]  bias  0.6163751327334541 loss 7.049430863830638e-05\n",
      "Iteration  29000  weights  [[0.78653682]]  bias  0.6158828267855271 loss 6.631068733312608e-05\n",
      "Iteration  30000  weights  [[0.78694321]]  bias  0.6154049888705064 loss 6.237536558551398e-05\n",
      "Iteration  31000  weights  [[0.78733708]]  bias  0.6149413116429199 loss 5.8673598313240287e-05\n",
      "Iteration  32000  weights  [[0.78771891]]  bias  0.6144914515935261 loss 5.519152095112911e-05\n",
      "Iteration  33000  weights  [[0.78808911]]  bias  0.6140550461910905 loss 5.191609402562233e-05\n",
      "Iteration  34000  weights  [[0.78844809]]  bias  0.6136317248349503 loss 4.883505286307075e-05\n",
      "Iteration  35000  weights  [[0.7887962]]  bias  0.6132211158095882 loss 4.593686105399523e-05\n",
      "Iteration  36000  weights  [[0.7891338]]  bias  0.6128228506578765 loss 4.321066700142466e-05\n",
      "Iteration  37000  weights  [[0.7894612]]  bias  0.6124365668889677 loss 4.064626318274328e-05\n",
      "Iteration  38000  weights  [[0.78977873]]  bias  0.6120619096129674 loss 3.8234047885659495e-05\n",
      "Iteration  39000  weights  [[0.79008668]]  bias  0.6116985324851472 loss 3.596498923849923e-05\n",
      "Iteration  40000  weights  [[0.79038535]]  bias  0.611346098207112 loss 3.383059138502805e-05\n",
      "Iteration  41000  weights  [[0.79067502]]  bias  0.6110042787447815 loss 3.18228626708779e-05\n",
      "Iteration  42000  weights  [[0.79095596]]  bias  0.610672755366448 loss 2.9934285719617472e-05\n",
      "Iteration  43000  weights  [[0.79122843]]  bias  0.6103512185676236 loss 2.8157789285542806e-05\n",
      "Iteration  44000  weights  [[0.7914927]]  bias  0.6100393679256505 loss 2.6486721777084806e-05\n",
      "Iteration  45000  weights  [[0.791749]]  bias  0.6097369119118423 loss 2.4914826351717714e-05\n",
      "Iteration  46000  weights  [[0.79199758]]  bias  0.6094435676789757 loss 2.3436217488932592e-05\n",
      "Iteration  47000  weights  [[0.79223867]]  bias  0.6091590608355968 loss 2.2045358953536677e-05\n",
      "Iteration  48000  weights  [[0.79247249]]  bias  0.6088831252144555 loss 2.0737043066779467e-05\n",
      "Iteration  49000  weights  [[0.79269928]]  bias  0.6086155026397181 loss 1.950637120764316e-05\n",
      "Iteration  50000  weights  [[0.79291923]]  bias  0.6083559426959076 loss 1.8348735471349483e-05\n",
      "Iteration  51000  weights  [[0.79313255]]  bias  0.6081042025003719 loss 1.7259801416359414e-05\n",
      "Iteration  52000  weights  [[0.79333945]]  bias  0.6078600464803866 loss 1.6235491835236502e-05\n",
      "Iteration  53000  weights  [[0.79354011]]  bias  0.6076232461555621 loss 1.5271971488745278e-05\n",
      "Iteration  54000  weights  [[0.79373473]]  bias  0.6073935799258556 loss 1.4365632745837358e-05\n",
      "Iteration  55000  weights  [[0.79392348]]  bias  0.6071708328653852 loss 1.3513082075909141e-05\n",
      "Iteration  56000  weights  [[0.79410655]]  bias  0.6069547965220622 loss 1.2711127342655676e-05\n",
      "Iteration  57000  weights  [[0.7942841]]  bias  0.6067452687230231 loss 1.195676585206077e-05\n",
      "Iteration  58000  weights  [[0.79445631]]  bias  0.6065420533857322 loss 1.1247173109594326e-05\n",
      "Iteration  59000  weights  [[0.79462332]]  bias  0.606344960334709 loss 1.0579692244736356e-05\n",
      "Iteration  60000  weights  [[0.7947853]]  bias  0.6061538051236762 loss 9.951824063046698e-06\n",
      "Iteration  61000  weights  [[0.79494241]]  bias  0.6059684088630454 loss 9.361217688645746e-06\n",
      "Iteration  62000  weights  [[0.79509478]]  bias  0.6057885980525504 loss 8.805661762007449e-06\n",
      "Iteration  63000  weights  [[0.79524256]]  bias  0.6056142044189278 loss 8.283076160160235e-06\n",
      "Iteration  64000  weights  [[0.79538589]]  bias  0.6054450647584548 loss 7.79150420824104e-06\n",
      "Iteration  65000  weights  [[0.7955249]]  bias  0.6052810207842405 loss 7.329105353280949e-06\n",
      "Iteration  66000  weights  [[0.79565972]]  bias  0.6051219189780959 loss 6.894148272759263e-06\n",
      "Iteration  67000  weights  [[0.79579048]]  bias  0.6049676104468856 loss 6.485004392186187e-06\n",
      "Iteration  68000  weights  [[0.7959173]]  bias  0.6048179507831812 loss 6.1001417873279935e-06\n",
      "Iteration  69000  weights  [[0.7960403]]  bias  0.604672799930122 loss 5.738119448357175e-06\n",
      "Iteration  70000  weights  [[0.79615959]]  bias  0.6045320220503565 loss 5.397581884408729e-06\n",
      "Iteration  71000  weights  [[0.79627529]]  bias  0.6043954853989101 loss 5.077254048314031e-06\n",
      "Iteration  72000  weights  [[0.79638751]]  bias  0.6042630621999066 loss 4.775936562553011e-06\n",
      "Iteration  73000  weights  [[0.79649634]]  bias  0.6041346285269795 loss 4.492501228514546e-06\n",
      "Iteration  74000  weights  [[0.7966019]]  bias  0.604010064187308 loss 4.225886802278454e-06\n",
      "Iteration  75000  weights  [[0.79670427]]  bias  0.6038892526091276 loss 3.9750950210832565e-06\n",
      "Iteration  76000  weights  [[0.79680356]]  bias  0.6037720807326442 loss 3.7391868656124754e-06\n",
      "Iteration  77000  weights  [[0.79689986]]  bias  0.6036584389042214 loss 3.517279044100802e-06\n",
      "Iteration  78000  weights  [[0.79699326]]  bias  0.6035482207737726 loss 3.3085406850981786e-06\n",
      "Iteration  79000  weights  [[0.79708384]]  bias  0.6034413231952305 loss 3.1121902265064037e-06\n",
      "Iteration  80000  weights  [[0.7971717]]  bias  0.6033376461300199 loss 2.9274924892411474e-06\n",
      "Iteration  81000  weights  [[0.79725691]]  bias  0.6032370925534324 loss 2.753755924546468e-06\n",
      "Iteration  82000  weights  [[0.79733955]]  bias  0.6031395683638334 loss 2.590330024704021e-06\n",
      "Iteration  83000  weights  [[0.7974197]]  bias  0.6030449822946026 loss 2.4366028873777327e-06\n",
      "Iteration  84000  weights  [[0.79749744]]  bias  0.6029532458287098 loss 2.291998924520436e-06\n",
      "Iteration  85000  weights  [[0.79757283]]  bias  0.6028642731158902 loss 2.155976707250544e-06\n",
      "Iteration  86000  weights  [[0.79764596]]  bias  0.6027779808922972 loss 2.028026938616942e-06\n",
      "Iteration  87000  weights  [[0.79771688]]  bias  0.6026942884025829 loss 1.9076705466829055e-06\n",
      "Iteration  88000  weights  [[0.79778566]]  bias  0.6026131173243181 loss 1.7944568907759479e-06\n",
      "Iteration  89000  weights  [[0.79785237]]  bias  0.6025343916947081 loss 1.6879620741930319e-06\n",
      "Iteration  90000  weights  [[0.79791707]]  bias  0.6024580378394911 loss 1.587787357031117e-06\n",
      "Iteration  91000  weights  [[0.79797983]]  bias  0.6023839843039983 loss 1.4935576632271078e-06\n",
      "Iteration  92000  weights  [[0.79804069]]  bias  0.6023121617862841 loss 1.40492017618505e-06\n",
      "Iteration  93000  weights  [[0.79809972]]  bias  0.6022425030722679 loss 1.3215430177546262e-06\n",
      "Iteration  94000  weights  [[0.79815697]]  bias  0.6021749429728321 loss 1.2431140056065947e-06\n",
      "Iteration  95000  weights  [[0.79821249]]  bias  0.6021094182628196 loss 1.169339484356144e-06\n",
      "Iteration  96000  weights  [[0.79826634]]  bias  0.6020458676218647 loss 1.099943226050103e-06\n",
      "Iteration  97000  weights  [[0.79831857]]  bias  0.6019842315770025 loss 1.0346653959091056e-06\n",
      "Iteration  98000  weights  [[0.79836923]]  bias  0.6019244524470195 loss 9.732615794517177e-07\n",
      "Iteration  99000  weights  [[0.79841836]]  bias  0.6018664742884656 loss 9.155018673482534e-07\n",
      "Iteration  100000  weights  [[0.79846601]]  bias  0.6018102428433086 loss 8.611699945979803e-07\n",
      "Iteration  101000  weights  [[0.79851223]]  bias  0.6017557054881498 loss 8.10062530777291e-07\n",
      "Iteration  102000  weights  [[0.79855705]]  bias  0.6017028111849806 loss 7.619881183561392e-07\n",
      "Iteration  103000  weights  [[0.79860052]]  bias  0.601651510433423 loss 7.167667562152618e-07\n",
      "Iteration  104000  weights  [[0.79864268]]  bias  0.6016017552243967 loss 6.742291256760892e-07\n",
      "Iteration  105000  weights  [[0.79868357]]  bias  0.6015534989951986 loss 6.342159565408974e-07\n",
      "Iteration  106000  weights  [[0.79872323]]  bias  0.6015066965859224 loss 5.96577430747844e-07\n",
      "Iteration  107000  weights  [[0.7987617]]  bias  0.601461304197202 loss 5.611726214195476e-07\n",
      "Iteration  108000  weights  [[0.79879901]]  bias  0.6014172793492116 loss 5.278689651998493e-07\n",
      "Iteration  109000  weights  [[0.79883519]]  bias  0.60137458084193 loss 4.965417659124887e-07\n",
      "Iteration  110000  weights  [[0.79887028]]  bias  0.6013331687165635 loss 4.6707372766676494e-07\n",
      "Iteration  111000  weights  [[0.79890432]]  bias  0.6012930042181646 loss 4.3935451567883475e-07\n",
      "Iteration  112000  weights  [[0.79893733]]  bias  0.6012540497593601 loss 4.1328034315175493e-07\n",
      "Iteration  113000  weights  [[0.79896934]]  bias  0.6012162688851721 loss 3.887535826768993e-07\n",
      "Iteration  114000  weights  [[0.79900039]]  bias  0.6011796262389069 loss 3.656824006951058e-07\n",
      "Iteration  115000  weights  [[0.79903051]]  bias  0.6011440875290668 loss 3.4398041365310206e-07\n",
      "Iteration  116000  weights  [[0.79905972]]  bias  0.6011096194972567 loss 3.2356636456132653e-07\n",
      "Iteration  117000  weights  [[0.79908804]]  bias  0.6010761898870598 loss 3.0436381875251406e-07\n",
      "Iteration  118000  weights  [[0.79911552]]  bias  0.601043767413851 loss 2.863008776923429e-07\n",
      "Iteration  119000  weights  [[0.79914216]]  bias  0.6010123217355187 loss 2.693099097760089e-07\n",
      "Iteration  120000  weights  [[0.79916801]]  bias  0.6009818234240735 loss 2.533272971014214e-07\n",
      "Iteration  121000  weights  [[0.79919307]]  bias  0.6009522439381054 loss 2.3829319726915433e-07\n",
      "Iteration  122000  weights  [[0.79921738]]  bias  0.600923555596074 loss 2.2415131931907167e-07\n",
      "Iteration  123000  weights  [[0.79924096]]  bias  0.6008957315504005 loss 2.1084871296442957e-07\n",
      "Iteration  124000  weights  [[0.79926383]]  bias  0.6008687457623494 loss 1.983355703360843e-07\n",
      "Iteration  125000  weights  [[0.79928601]]  bias  0.6008425729776533 loss 1.865650394895153e-07\n",
      "Iteration  126000  weights  [[0.79930752]]  bias  0.600817188702888 loss 1.7549304898184077e-07\n",
      "Iteration  127000  weights  [[0.79932838]]  bias  0.6007925691825367 loss 1.6507814285629226e-07\n",
      "Iteration  128000  weights  [[0.79934862]]  bias  0.6007686913767732 loss 1.5528132542601828e-07\n",
      "Iteration  129000  weights  [[0.79936824]]  bias  0.6007455329398954 loss 1.4606591526213212e-07\n",
      "Iteration  130000  weights  [[0.79938727]]  bias  0.6007230721994061 loss 1.3739740785181584e-07\n",
      "Iteration  131000  weights  [[0.79940573]]  bias  0.6007012881357436 loss 1.2924334640654826e-07\n",
      "Iteration  132000  weights  [[0.79942364]]  bias  0.600680160362601 loss 1.2157320033596846e-07\n",
      "Iteration  133000  weights  [[0.799441]]  bias  0.6006596691078517 loss 1.1435825093383071e-07\n",
      "Iteration  134000  weights  [[0.79945784]]  bias  0.600639795195047 loss 1.075714838507691e-07\n",
      "Iteration  135000  weights  [[0.79947418]]  bias  0.6006205200254704 loss 1.0118748794619955e-07\n",
      "Iteration  136000  weights  [[0.79949002]]  bias  0.6006018255607255 loss 9.518236014116891e-08\n",
      "Iteration  137000  weights  [[0.79950538]]  bias  0.6005836943058667 loss 8.953361592368998e-08\n",
      "Iteration  138000  weights  [[0.79952028]]  bias  0.600566109293016 loss 8.422010515905892e-08\n",
      "Iteration  139000  weights  [[0.79953474]]  bias  0.6005490540654885 loss 7.922193290005105e-08\n",
      "Iteration  140000  weights  [[0.79954875]]  bias  0.6005325126623946 loss 7.452038489584761e-08\n",
      "Iteration  141000  weights  [[0.79956235]]  bias  0.6005164696036932 loss 7.009785752109203e-08\n",
      "Iteration  142000  weights  [[0.79957553]]  bias  0.600500909875721 loss 6.593779186655186e-08\n",
      "Iteration  143000  weights  [[0.79958832]]  bias  0.600485818917126 loss 6.202461173562736e-08\n",
      "Iteration  144000  weights  [[0.79960072]]  bias  0.6004711826052497 loss 5.834366532529608e-08\n",
      "Iteration  145000  weights  [[0.79961275]]  bias  0.6004569872429087 loss 5.488117036686316e-08\n",
      "Iteration  146000  weights  [[0.79962442]]  bias  0.6004432195455729 loss 5.162416252079528e-08\n",
      "Iteration  147000  weights  [[0.79963573]]  bias  0.6004298666289416 loss 4.856044683796517e-08\n",
      "Iteration  148000  weights  [[0.79964671]]  bias  0.6004169159968762 loss 4.567855209557744e-08\n",
      "Iteration  149000  weights  [[0.79965735]]  bias  0.6004043555297107 loss 4.296768784885427e-08\n"
     ]
    },
    {
     "data": {
      "image/png": "[encoded data removed]",
      "text/plain": [
       "<Figure size 640x480 with 1 Axes>"
      ]
     },
     "metadata": {},
     "output_type": "display_data"
    }
   ],
   "source": [
    "model = LinearRegression(training_features, training_labels , learning_rate=0.0001)\n",
    "model.train(150000,True)\n",
    "\n",
    "values = model.trainingLoss\n",
    "x = np.arange(1, len(values) + 1)\n",
    "\n",
    "plotLineGraph(\"Iterations\", \"Loss\", \"Loss value as a function of iteration\",x,values)\n",
    "\n"
   ]
  },
  {
   "cell_type": "markdown",
   "id": "42612d8d",
   "metadata": {},
   "source": [
    "#### Prediction Details"
   ]
  },
  {
   "cell_type": "code",
   "execution_count": 7,
   "id": "6ec392f1",
   "metadata": {},
   "outputs": [
    {
     "name": "stdout",
     "output_type": "stream",
     "text": [
      "Predicted weights  [[0.79966766]]  bias  0.600392185469777\n",
      "Prediction loss 4.0293806335451836e-08\n"
     ]
    }
   ],
   "source": [
    "print(\"Predicted weights \", model.weight, \" bias \", model.bias)\n",
    "print(\"Prediction loss\", model.calculateMseLoss(ModelEquation(testing_attributes),model.predict(testing_attributes)))"
   ]
  },
  {
   "cell_type": "markdown",
   "id": "b492f8d4",
   "metadata": {},
   "source": []
  }
 ],
 "metadata": {
  "kernelspec": {
   "display_name": "Python 3",
   "language": "python",
   "name": "python3"
  },
  "language_info": {
   "codemirror_mode": {
    "name": "ipython",
    "version": 3
   },
   "file_extension": ".py",
   "mimetype": "text/x-python",
   "name": "python",
   "nbconvert_exporter": "python",
   "pygments_lexer": "ipython3",
   "version": "3.12.1"
  }
 },
 "nbformat": 4,
 "nbformat_minor": 5
}
