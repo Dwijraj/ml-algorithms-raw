{
 "cells": [
  {
   "cell_type": "code",
   "execution_count": 9,
   "id": "2f8b992a",
   "metadata": {},
   "outputs": [],
   "source": [
    "%run jupyterutils.py\n",
    "\n",
    "from linear_regression.LinearRegression import LinearRegression"
   ]
  },
  {
   "cell_type": "markdown",
   "id": "9726de96",
   "metadata": {},
   "source": [
    "### Linear Regression .ipynb file\n",
    "We attempt to try and mimic linear regression and than test it , to test our implementations correctness we would generate the data set using a perfect linear equation , we will than compare how good our algorithm does when it get's data fitting a curve whose mathematically model is known. Run time and correctness might be good KPI for monitoring .\n",
    "\n"
   ]
  },
  {
   "cell_type": "markdown",
   "id": "0fa6328b",
   "metadata": {},
   "source": [
    "##### Create data\n",
    "\n",
    "We'll check how good is the algorithm in finding the actual parameters when we feed it absolutely ideal data"
   ]
  },
  {
   "cell_type": "code",
   "execution_count": 10,
   "id": "f636a270",
   "metadata": {},
   "outputs": [
    {
     "name": "stdout",
     "output_type": "stream",
     "text": [
      "y = 0.8⋅x + 0.6\n"
     ]
    }
   ],
   "source": [
    "x = sp.Symbol('x')\n",
    "y = 0.8 * x + 0.6\n",
    "print(\"y = \", end='')\n",
    "sp.pprint(y)\n"
   ]
  },
  {
   "cell_type": "code",
   "execution_count": 11,
   "id": "2277fa63",
   "metadata": {},
   "outputs": [],
   "source": [
    "def ModelEquation(input):\n",
    "    return 0.8*input+0.6"
   ]
  },
  {
   "cell_type": "code",
   "execution_count": 12,
   "id": "ea358307",
   "metadata": {},
   "outputs": [],
   "source": [
    "total_data_points = 50000\n",
    "x = np.linspace(0, 2, total_data_points)\n",
    "y = ModelEquation(x)\n",
    "\n",
    "perm = np.random.permutation(len(x))\n",
    "x = x[perm]\n",
    "y = y[perm]\n"
   ]
  },
  {
   "cell_type": "markdown",
   "id": "044f62c7",
   "metadata": {},
   "source": [
    "##### Split data\n",
    "\n",
    "We're going to split the data into training and testing data based on a tuneable parameter"
   ]
  },
  {
   "cell_type": "code",
   "execution_count": 13,
   "id": "a43ab785",
   "metadata": {},
   "outputs": [],
   "source": [
    "training_percent = 0.85\n",
    "training_numbers = int(training_percent*total_data_points)\n",
    "\n",
    "training_features = ensure_column_vector(np.array(x[:training_numbers]))\n",
    "training_labels = np.array(y[:training_numbers])\n",
    "\n",
    "testing_attributes=ensure_column_vector(np.array(x[training_numbers:]))\n",
    "testing_labels=np.array(y[training_numbers:])"
   ]
  },
  {
   "cell_type": "markdown",
   "id": "ab1678c9",
   "metadata": {},
   "source": [
    "##### Cleaning the data"
   ]
  },
  {
   "cell_type": "code",
   "execution_count": 14,
   "id": "2bf8215d",
   "metadata": {},
   "outputs": [],
   "source": [
    "training_features, training_labels, testing_attributes, testing_labels = train_test_split(x,y)\n"
   ]
  },
  {
   "cell_type": "markdown",
   "id": "8deb1efb",
   "metadata": {},
   "source": [
    "##### Model Training"
   ]
  },
  {
   "cell_type": "code",
   "execution_count": 15,
   "id": "2dbaf349",
   "metadata": {},
   "outputs": [
    {
     "name": "stdout",
     "output_type": "stream",
     "text": [
      "(42500, 1) (42500,)\n",
      "(7500, 1) (7500,)\n",
      "Iteration  0  weights  [[0.53095377]]  bias  0.0002800178849709697 loss 1.965036880023784\n"
     ]
    },
    {
     "name": "stdout",
     "output_type": "stream",
     "text": [
      "Iteration  1000  weights  [[0.51810203]]  bias  0.25404372737720227 loss 1.3170789626631199\n",
      "Iteration  2000  weights  [[0.50764037]]  bias  0.46180100760339365 loss 0.8827811771409908\n",
      "Iteration  3000  weights  [[0.49912455]]  bias  0.6318926680937603 loss 0.5916903142208353\n",
      "Iteration  4000  weights  [[0.49219285]]  bias  0.7711473555946238 loss 0.3965847404019711\n",
      "Iteration  5000  weights  [[0.48655077]]  bias  0.8851557048912552 loss 0.26581389724499527\n",
      "Iteration  6000  weights  [[0.48195852]]  bias  0.9784947867877816 loss 0.1781638175510633\n",
      "Iteration  7000  weights  [[0.47822086]]  bias  1.0549118642563233 loss 0.11941571414336324\n",
      "Iteration  8000  weights  [[0.47517886]]  bias  1.1174748340890792 loss 0.08003935751464887\n",
      "Iteration  9000  weights  [[0.47270313]]  bias  1.1686953938916331 loss 0.05364705062932659\n",
      "Iteration  10000  weights  [[0.4706883]]  bias  1.2106298792459178 loss 0.035957397435318963\n",
      "Iteration  11000  weights  [[0.46904864]]  bias  1.2449618193846816 loss 0.024100763048300115\n",
      "Iteration  12000  weights  [[0.46771433]]  bias  1.2730695257639444 loss 0.016153754490476003\n",
      "Iteration  13000  weights  [[0.46662853]]  bias  1.2960814270294572 loss 0.010827203654294676\n",
      "Iteration  14000  weights  [[0.465745]]  bias  1.3149213719226267 loss 0.007257035970005372\n",
      "Iteration  15000  weights  [[0.46502607]]  bias  1.3303457189106913 loss 0.0048640988006284375\n",
      "Iteration  16000  weights  [[0.46444111]]  bias  1.3429737015847378 loss 0.003260210501360013\n",
      "Iteration  17000  weights  [[0.46396516]]  bias  1.353312288909359 loss 0.0021851891625262253\n",
      "Iteration  18000  weights  [[0.46357793]]  bias  1.361776538391058 loss 0.0014646456821725002\n",
      "Iteration  19000  weights  [[0.46326288]]  bias  1.368706259285646 loss 0.000981694267082051\n",
      "Iteration  20000  weights  [[0.46300658]]  bias  1.3743796548231328 loss 0.000657991184788388\n",
      "Iteration  21000  weights  [[0.46279807]]  bias  1.3790244911447764 loss 0.0004410258412837919\n",
      "Iteration  22000  weights  [[0.46262845]]  bias  1.382827241351445 loss 0.0002956025252974173\n",
      "Iteration  23000  weights  [[0.46249047]]  bias  1.3859405717689952 loss 0.00019813097811543376\n",
      "Iteration  24000  weights  [[0.46237823]]  bias  1.388489470981167 loss 0.00013279960030553254\n",
      "Iteration  25000  weights  [[0.46228694]]  bias  1.3905762676917006 loss 8.901051070837396e-05\n",
      "Iteration  26000  weights  [[0.46221268]]  bias  1.3922847388670359 loss 5.966037216770995e-05\n",
      "Iteration  27000  weights  [[0.46215229]]  bias  1.3936834730886125 loss 3.998809947568543e-05\n",
      "Iteration  28000  weights  [[0.46210317]]  bias  1.3948286241425156 loss 2.6802524981984542e-05\n",
      "Iteration  29000  weights  [[0.46206322]]  bias  1.395766165394275 loss 1.7964734165474026e-05\n",
      "Iteration  30000  weights  [[0.46203073]]  bias  1.396533735454615 loss 1.2041096042846326e-05\n",
      "Iteration  31000  weights  [[0.46200432]]  bias  1.3971621492335582 loss 8.070703367227472e-06\n",
      "Iteration  32000  weights  [[0.46198283]]  bias  1.3976766350467065 loss 5.409497069423297e-06\n",
      "Iteration  33000  weights  [[0.46196537]]  bias  1.398097847439362 loss 3.6257890543038773e-06\n",
      "Iteration  34000  weights  [[0.46195116]]  bias  1.398442696389982 loss 2.430235252779004e-06\n",
      "Iteration  35000  weights  [[0.46193961]]  bias  1.3987250261826472 loss 1.6288993058518516e-06\n",
      "Iteration  36000  weights  [[0.46193023]]  bias  1.3989561712029115 loss 1.091792983274919e-06\n",
      "Iteration  37000  weights  [[0.46192259]]  bias  1.3991454109703858 loss 7.317900465790884e-07\n",
      "Iteration  38000  weights  [[0.46191639]]  bias  1.399300342675949 loss 4.904930250041386e-07\n",
      "Iteration  39000  weights  [[0.46191134]]  bias  1.3994271861796583 loss 3.287602575899608e-07\n",
      "Iteration  40000  weights  [[0.46190724]]  bias  1.3995310337139901 loss 2.2035653077707502e-07\n",
      "Iteration  41000  weights  [[0.46190391]]  bias  1.3996160543170284 loss 1.476973416544487e-07\n",
      "Iteration  42000  weights  [[0.4619012]]  bias  1.399685661202897 loss 9.899643808920442e-08\n",
      "Iteration  43000  weights  [[0.461899]]  bias  1.3997426487887465 loss 6.635392182490701e-08\n",
      "Iteration  44000  weights  [[0.46189721]]  bias  1.3997893048794157 loss 4.447477526535114e-08\n",
      "Iteration  45000  weights  [[0.46189575]]  bias  1.3998275025135745 loss 2.980993747130502e-08\n",
      "Iteration  46000  weights  [[0.46189457]]  bias  1.3998587751585958 loss 1.998059906033698e-08\n",
      "Iteration  47000  weights  [[0.46189361]]  bias  1.3998843782730168 loss 1.3392328153042709e-08\n",
      "Iteration  48000  weights  [[0.46189283]]  bias  1.399905339708021 loss 8.976433056577526e-09\n",
      "Iteration  49000  weights  [[0.4618922]]  bias  1.3999225009713818 loss 6.016607035711785e-09\n",
      "Iteration  50000  weights  [[0.46189168]]  bias  1.3999365510104895 loss 4.032734537284097e-09\n",
      "Iteration  51000  weights  [[0.46189126]]  bias  1.3999480538706899 loss 2.7030106605181672e-09\n",
      "Iteration  52000  weights  [[0.46189092]]  bias  1.3999574713393106 loss 1.811740608278676e-09\n",
      "Iteration  53000  weights  [[0.46189065]]  bias  1.3999651814844476 loss 1.214351504100717e-09\n",
      "Iteration  54000  weights  [[0.46189042]]  bias  1.3999714938327823 loss 8.139410413695542e-10\n",
      "Iteration  55000  weights  [[0.46189024]]  bias  1.399976661795734 loss 5.455588630361532e-10\n",
      "Iteration  56000  weights  [[0.46189009]]  bias  1.3999808928428152 loss 3.656709158073991e-10\n",
      "Iteration  57000  weights  [[0.46188997]]  bias  1.3999843568306327 loss 2.4509776934507975e-10\n",
      "Iteration  58000  weights  [[0.46188987]]  bias  1.399987192821875 loss 1.6428141440426995e-10\n",
      "Iteration  59000  weights  [[0.46188979]]  bias  1.3999895146680656 loss 1.1011275857883774e-10\n",
      "Iteration  60000  weights  [[0.46188973]]  bias  1.3999914155801778 loss 7.380520448859354e-11\n",
      "Iteration  61000  weights  [[0.46188968]]  bias  1.399992971870663 loss 4.946938001083262e-11\n",
      "Iteration  62000  weights  [[0.46188964]]  bias  1.3999942460170194 loss 3.3157828589489945e-11\n",
      "Iteration  63000  weights  [[0.4618896]]  bias  1.3999952891699994 loss 2.222469611227509e-11\n",
      "Iteration  64000  weights  [[0.46188957]]  bias  1.3999961432070687 loss 1.4896550556848324e-11\n",
      "Iteration  65000  weights  [[0.46188955]]  bias  1.399996842413593 loss 9.9847163565355e-12\n",
      "Iteration  66000  weights  [[0.46188953]]  bias  1.399997414859231 loss 6.692461540870828e-12\n",
      "Iteration  67000  weights  [[0.46188952]]  bias  1.3999978835248108 loss 4.485761423361157e-12\n",
      "Iteration  68000  weights  [[0.46188951]]  bias  1.3999982672249054 loss 3.0066757281307553e-12\n",
      "Iteration  69000  weights  [[0.4618895]]  bias  1.3999985813631277 loss 2.0152881203800974e-12\n",
      "Iteration  70000  weights  [[0.46188949]]  bias  1.3999988385505278 loss 1.3507899826874668e-12\n",
      "Iteration  71000  weights  [[0.46188948]]  bias  1.3999990491118626 loss 9.053961658838799e-13\n",
      "Iteration  72000  weights  [[0.46188948]]  bias  1.3999992215000838 loss 6.068615274332466e-13\n",
      "Iteration  73000  weights  [[0.46188947]]  bias  1.3999993626356895 loss 4.0676229838301346e-13\n",
      "Iteration  74000  weights  [[0.46188947]]  bias  1.3999994781845362 loss 2.7264147037318456e-13\n",
      "Iteration  75000  weights  [[0.46188947]]  bias  1.3999995727853083 loss 1.8274406011172132e-13\n",
      "Iteration  76000  weights  [[0.46188946]]  bias  1.3999996502357273 loss 1.2248834256411938e-13\n",
      "Iteration  77000  weights  [[0.46188946]]  bias  1.3999997136450208 loss 8.210060756571815e-14\n",
      "Iteration  78000  weights  [[0.46188946]]  bias  1.3999997655587326 loss 5.50298224070129e-14\n",
      "Iteration  79000  weights  [[0.46188946]]  bias  1.3999998080609166 loss 3.688501714676346e-14\n",
      "Iteration  80000  weights  [[0.46188946]]  bias  1.3999998428578118 loss 2.4723046527588992e-14\n",
      "Iteration  81000  weights  [[0.46188946]]  bias  1.3999998713463189 loss 1.6571206682691883e-14\n",
      "Iteration  82000  weights  [[0.46188946]]  bias  1.3999998946701029 loss 1.1107246154322682e-14\n",
      "Iteration  83000  weights  [[0.46188946]]  bias  1.399999913765484 loss 7.4448985266598e-15\n",
      "Iteration  84000  weights  [[0.46188945]]  bias  1.3999999293990355 loss 4.990123654421257e-15\n",
      "Iteration  85000  weights  [[0.46188945]]  bias  1.3999999421983575 loss 3.3447524513894335e-15\n",
      "Iteration  86000  weights  [[0.46188945]]  bias  1.3999999526772737 loss 2.241902844301105e-15\n",
      "Iteration  87000  weights  [[0.46188945]]  bias  1.3999999612564524 loss 1.5026912886611712e-15\n",
      "Iteration  88000  weights  [[0.46188945]]  bias  1.3999999682803068 loss 1.0072163061393282e-15\n",
      "Iteration  89000  weights  [[0.46188945]]  bias  1.3999999740307953 loss 6.751121904899843e-16\n",
      "Iteration  90000  weights  [[0.46188945]]  bias  1.3999999787387756 loss 4.525109900089874e-16\n",
      "Iteration  91000  weights  [[0.46188945]]  bias  1.3999999825932385 loss 3.033070733298258e-16\n",
      "Iteration  92000  weights  [[0.46188945]]  bias  1.3999999857489207 loss 2.0329943158497706e-16\n",
      "Iteration  93000  weights  [[0.46188945]]  bias  1.3999999883325076 loss 1.3626673523725812e-16\n",
      "Iteration  94000  weights  [[0.46188945]]  bias  1.399999990447713 loss 9.133636566856913e-17\n",
      "Iteration  95000  weights  [[0.46188945]]  bias  1.3999999921794528 loss 6.122059642745105e-17\n",
      "Iteration  96000  weights  [[0.46188945]]  bias  1.3999999935972414 loss 4.103475627185758e-17\n",
      "Iteration  97000  weights  [[0.46188945]]  bias  1.3999999947580017 loss 2.7504628078419497e-17\n",
      "Iteration  98000  weights  [[0.46188945]]  bias  1.3999999957083242 loss 1.843572766312305e-17\n",
      "Iteration  99000  weights  [[0.46188945]]  bias  1.3999999964863645 loss 1.235704061103751e-17\n",
      "Iteration  100000  weights  [[0.46188945]]  bias  1.3999999971233534 loss 8.282638252629667e-18\n",
      "Iteration  101000  weights  [[0.46188945]]  bias  1.3999999976448623 loss 5.551661468247502e-18\n",
      "Iteration  102000  weights  [[0.46188945]]  bias  1.399999998071824 loss 3.7211603944486605e-18\n",
      "Iteration  103000  weights  [[0.46188945]]  bias  1.3999999984213813 loss 2.494217621768411e-18\n",
      "Iteration  104000  weights  [[0.46188945]]  bias  1.399999998707569 loss 1.671819601303369e-18\n",
      "Iteration  105000  weights  [[0.46188945]]  bias  1.3999999989418725 loss 1.1205872025659117e-18\n",
      "Iteration  106000  weights  [[0.46188945]]  bias  1.3999999991337004 loss 7.511053574483176e-19\n",
      "Iteration  107000  weights  [[0.46188945]]  bias  1.399999999290751 loss 5.034511079373029e-19\n",
      "Iteration  108000  weights  [[0.46188945]]  bias  1.39999999941933 loss 3.374534149530746e-19\n",
      "Iteration  109000  weights  [[0.46188945]]  bias  1.3999999995245997 loss 2.261876773553049e-19\n",
      "Iteration  110000  weights  [[0.46188945]]  bias  1.3999999996107848 loss 1.5160911295258867e-19\n",
      "Iteration  111000  weights  [[0.46188945]]  bias  1.3999999996813448 loss 1.0162085497433842e-19\n",
      "Iteration  112000  weights  [[0.46188945]]  bias  1.399999999739113 loss 6.811473534704624e-20\n",
      "Iteration  113000  weights  [[0.46188945]]  bias  1.3999999997864092 loss 4.56558618525638e-20\n",
      "Iteration  114000  weights  [[0.46188945]]  bias  1.3999999998251307 loss 3.0602386695503666e-20\n",
      "Iteration  115000  weights  [[0.46188945]]  bias  1.3999999998568315 loss 2.051245981058331e-20\n",
      "Iteration  116000  weights  [[0.46188945]]  bias  1.3999999998827868 loss 1.3749053829621114e-20\n",
      "Iteration  117000  weights  [[0.46188945]]  bias  1.3999999999040362 loss 9.215706219373223e-21\n",
      "Iteration  118000  weights  [[0.46188945]]  bias  1.3999999999214325 loss 6.1772795475631885e-21\n",
      "Iteration  119000  weights  [[0.46188945]]  bias  1.399999999935675 loss 4.140648786123206e-21\n",
      "Iteration  120000  weights  [[0.46188945]]  bias  1.3999999999473374 loss 2.77528119092569e-21\n",
      "Iteration  121000  weights  [[0.46188945]]  bias  1.3999999999568826 loss 1.860390819038109e-21\n",
      "Iteration  122000  weights  [[0.46188945]]  bias  1.3999999999646986 loss 1.2470493968788785e-21\n",
      "Iteration  123000  weights  [[0.46188945]]  bias  1.3999999999710966 loss 8.35971013479763e-22\n",
      "Iteration  124000  weights  [[0.46188945]]  bias  1.3999999999763375 loss 5.602845475339291e-22\n",
      "Iteration  125000  weights  [[0.46188945]]  bias  1.3999999999806296 loss 3.754642520754379e-22\n",
      "Iteration  126000  weights  [[0.46188945]]  bias  1.399999999984137 loss 2.5180310882001985e-22\n",
      "Iteration  127000  weights  [[0.46188945]]  bias  1.3999999999870123 loss 1.6879264643527546e-22\n",
      "Iteration  128000  weights  [[0.46188945]]  bias  1.3999999999893706 loss 1.130528657319692e-22\n",
      "Iteration  129000  weights  [[0.46188945]]  bias  1.399999999991287 loss 7.596456421920471e-23\n",
      "Iteration  130000  weights  [[0.46188945]]  bias  1.3999999999928747 loss 5.080699581530805e-23\n",
      "Iteration  131000  weights  [[0.46188945]]  bias  1.399999999994155 loss 3.419456833441658e-23\n",
      "Iteration  132000  weights  [[0.46188945]]  bias  1.399999999995213 loss 2.2940687129786067e-23\n",
      "Iteration  133000  weights  [[0.46188945]]  bias  1.3999999999961013 loss 1.522433900700628e-23\n",
      "Iteration  134000  weights  [[0.46188945]]  bias  1.3999999999967707 loss 1.0449493691359595e-23\n",
      "Iteration  135000  weights  [[0.46188945]]  bias  1.3999999999973662 loss 6.955720705874176e-24\n",
      "Iteration  136000  weights  [[0.46188945]]  bias  1.3999999999978103 loss 4.813121833148664e-24\n",
      "Iteration  137000  weights  [[0.46188945]]  bias  1.3999999999982544 loss 3.0649534130336577e-24\n",
      "Iteration  138000  weights  [[0.46188945]]  bias  1.3999999999985169 loss 2.2165646161750607e-24\n",
      "Iteration  139000  weights  [[0.46188945]]  bias  1.399999999998739 loss 1.6070446368464125e-24\n",
      "Iteration  140000  weights  [[0.46188945]]  bias  1.399999999998961 loss 1.0961322706703909e-24\n",
      "Iteration  141000  weights  [[0.46188945]]  bias  1.399999999999183 loss 6.838275176469956e-25\n",
      "Iteration  142000  weights  [[0.46188945]]  bias  1.399999999999405 loss 3.7013037777622685e-25\n",
      "Iteration  143000  weights  [[0.46188945]]  bias  1.3999999999994452 loss 3.23643882368681e-25\n",
      "Iteration  144000  weights  [[0.46188945]]  bias  1.3999999999994452 loss 3.23643882368681e-25\n",
      "Iteration  145000  weights  [[0.46188945]]  bias  1.3999999999994452 loss 3.23643882368681e-25\n",
      "Iteration  146000  weights  [[0.46188945]]  bias  1.3999999999994452 loss 3.23643882368681e-25\n",
      "Iteration  147000  weights  [[0.46188945]]  bias  1.3999999999994452 loss 3.23643882368681e-25\n",
      "Iteration  148000  weights  [[0.46188945]]  bias  1.3999999999994452 loss 3.23643882368681e-25\n",
      "Iteration  149000  weights  [[0.46188945]]  bias  1.3999999999994452 loss 3.23643882368681e-25\n"
     ]
    },
    {
     "data": {
      "image/png": "[encoded data removed]",
      "text/plain": [
       "<Figure size 640x480 with 1 Axes>"
      ]
     },
     "metadata": {},
     "output_type": "display_data"
    }
   ],
   "source": [
    "print(training_features.shape , training_labels.T.shape)\n",
    "print(testing_attributes.shape , testing_labels.T.shape)\n",
    "model = LinearRegression(training_features, training_labels.T , learning_rate=0.0001)\n",
    "model.train(150000,True)\n",
    "\n",
    "values = model.trainingLoss\n",
    "x = np.arange(1, len(values) + 1)\n",
    "\n",
    "# Plotting\n",
    "plt.plot(x, values, marker='o', linestyle='-', color='blue')\n",
    "\n",
    "# Labels and title\n",
    "plt.xlabel(\"Iteration\")\n",
    "plt.ylabel(\"Loss\")\n",
    "plt.title(\"Loss value as a function of iteration\")\n",
    "plt.grid(True)\n",
    "plt.show()\n",
    "\n"
   ]
  },
  {
   "cell_type": "markdown",
   "id": "42612d8d",
   "metadata": {},
   "source": [
    "#### Prediction Details"
   ]
  },
  {
   "cell_type": "code",
   "execution_count": 16,
   "id": "6ec392f1",
   "metadata": {},
   "outputs": [
    {
     "name": "stdout",
     "output_type": "stream",
     "text": [
      "Predicted weights  [[0.46188945]]  bias  1.3999999999994452\n",
      "Prediction loss 0.7483620577304622\n"
     ]
    }
   ],
   "source": [
    "print(\"Predicted weights \", model.weight, \" bias \", model.bias)\n",
    "print(\"Prediction loss\", model.calculateMseLoss(ModelEquation(testing_attributes),model.predict(testing_attributes)))"
   ]
  },
  {
   "cell_type": "markdown",
   "id": "b492f8d4",
   "metadata": {},
   "source": []
  }
 ],
 "metadata": {
  "kernelspec": {
   "display_name": "Python 3",
   "language": "python",
   "name": "python3"
  },
  "language_info": {
   "codemirror_mode": {
    "name": "ipython",
    "version": 3
   },
   "file_extension": ".py",
   "mimetype": "text/x-python",
   "name": "python",
   "nbconvert_exporter": "python",
   "pygments_lexer": "ipython3",
   "version": "3.12.1"
  }
 },
 "nbformat": 4,
 "nbformat_minor": 5
}
