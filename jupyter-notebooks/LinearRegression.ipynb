{
 "cells": [
  {
   "cell_type": "code",
   "execution_count": 1,
   "id": "2f8b992a",
   "metadata": {},
   "outputs": [],
   "source": [
    "%run jupyterutils.py\n",
    "\n",
    "from linear_regression.LinearRegression import LinearRegression"
   ]
  },
  {
   "cell_type": "markdown",
   "id": "9726de96",
   "metadata": {},
   "source": [
    "### Linear Regression with single feature\n",
    "We attempt to try and mimic linear regression and than test it , to test our implementations correctness we would generate the data set using a perfect linear equation , we will than compare how good our algorithm does when it get's data fitting a curve whose mathematically model is known. Run time and correctness might be good KPI for monitoring .\n",
    "\n"
   ]
  },
  {
   "cell_type": "markdown",
   "id": "0fa6328b",
   "metadata": {},
   "source": [
    "##### Create data\n",
    "\n",
    "We'll check how good is the algorithm in finding the actual parameters when we feed it absolutely ideal data"
   ]
  },
  {
   "cell_type": "code",
   "execution_count": 2,
   "id": "f636a270",
   "metadata": {},
   "outputs": [
    {
     "name": "stdout",
     "output_type": "stream",
     "text": [
      "y = 0.8⋅x + 0.6\n"
     ]
    }
   ],
   "source": [
    "x = sp.Symbol('x')\n",
    "y = 0.8 * x + 0.6\n",
    "print(\"y = \", end='')\n",
    "sp.pprint(y)\n"
   ]
  },
  {
   "cell_type": "code",
   "execution_count": 3,
   "id": "2277fa63",
   "metadata": {},
   "outputs": [],
   "source": [
    "def ModelEquation(input):\n",
    "    return 0.8*input+0.6"
   ]
  },
  {
   "cell_type": "code",
   "execution_count": 4,
   "id": "ea358307",
   "metadata": {},
   "outputs": [],
   "source": [
    "total_data_points = 50000\n",
    "x = np.linspace(0, 2, total_data_points)\n",
    "y = ModelEquation(x)\n",
    "\n",
    "perm = np.random.permutation(len(x))\n",
    "x = x[perm]\n",
    "y = y[perm]\n"
   ]
  },
  {
   "cell_type": "markdown",
   "id": "044f62c7",
   "metadata": {},
   "source": [
    "##### Split data\n",
    "\n",
    "We're going to split the data into training and testing data based on a tuneable parameter"
   ]
  },
  {
   "cell_type": "code",
   "execution_count": 5,
   "id": "a43ab785",
   "metadata": {},
   "outputs": [
    {
     "name": "stdout",
     "output_type": "stream",
     "text": [
      "(42500, 1)\n",
      "(7500, 1)\n",
      "(42500,)\n",
      "(7500,)\n"
     ]
    }
   ],
   "source": [
    "training_percent = 0.85\n",
    "training_numbers = int(training_percent*total_data_points)\n",
    "\n",
    "training_features = ensure_column_vector(np.array(x[:training_numbers]))\n",
    "training_labels = np.array(y[:training_numbers])\n",
    "\n",
    "testing_attributes=ensure_column_vector(np.array(x[training_numbers:]))\n",
    "testing_labels=np.array(y[training_numbers:])\n",
    "\n",
    "print(training_features.shape)\n",
    "print(testing_attributes.shape)\n",
    "print(training_labels.shape)\n",
    "print(testing_labels.shape)"
   ]
  },
  {
   "cell_type": "markdown",
   "id": "8deb1efb",
   "metadata": {},
   "source": [
    "##### Model Training"
   ]
  },
  {
   "cell_type": "code",
   "execution_count": 6,
   "id": "2dbaf349",
   "metadata": {},
   "outputs": [
    {
     "name": "stdout",
     "output_type": "stream",
     "text": [
      "Iteration  0  weights  [[0.31414709]]  bias  0.0002174125168159394 loss 1.260473860252451\n",
      "Iteration  1000  weights  [[0.51633791]]  bias  0.1768968666972388 loss 0.5275898471911249\n",
      "Iteration  2000  weights  [[0.64603545]]  bias  0.29209456739864426 loss 0.22169812678706174\n",
      "Iteration  3000  weights  [[0.72893348]]  bias  0.3675461309735619 loss 0.09397330542581224\n",
      "Iteration  4000  weights  [[0.78162798]]  bias  0.4172925663384377 loss 0.040593493247937394\n",
      "Iteration  5000  weights  [[0.81483826]]  bias  0.45040455033420707 loss 0.0182390371361174\n",
      "Iteration  6000  weights  [[0.83548766]]  bias  0.4727421641053515 loss 0.00883465466798112\n",
      "Iteration  7000  weights  [[0.84804753]]  bias  0.48809158909654005 loss 0.004838208880931805\n",
      "Iteration  8000  weights  [[0.85540539]]  bias  0.4988993524135055 loss 0.0031024987553087253\n",
      "Iteration  9000  weights  [[0.85942574]]  bias  0.5067466106726682 loss 0.002314111267058345\n",
      "Iteration  10000  weights  [[0.86131224]]  bias  0.5126555126585782 loss 0.0019247902135918944\n",
      "Iteration  11000  weights  [[0.86184175]]  bias  0.5172870938905292 loss 0.0017055526179507172\n",
      "Iteration  12000  weights  [[0.86151542]]  bias  0.521069106608104 loss 0.0015606444842381406\n",
      "Iteration  13000  weights  [[0.86065635]]  bias  0.5242785917800469 loss 0.0014499136838769379\n",
      "Iteration  14000  weights  [[0.85947265]]  bias  0.5270952168707932 loss 0.001356419565825636\n",
      "Iteration  15000  weights  [[0.85809816]]  bias  0.5296357298365976 loss 0.0012729174791772256\n",
      "Iteration  16000  weights  [[0.85661875]]  bias  0.5319762152006738 loss 0.001196218829760532\n",
      "Iteration  17000  weights  [[0.85508935]]  bias  0.5341664709073897 loss 0.001124837215265178\n",
      "Iteration  18000  weights  [[0.8535449]]  bias  0.5362392956042973 loss 0.001058005701976172\n",
      "Iteration  19000  weights  [[0.85200747]]  bias  0.5382164883157865 loss 0.0009952662400691716\n",
      "Iteration  20000  weights  [[0.85049079]]  bias  0.5401127244806606 loss 0.0009362978341398284\n",
      "Iteration  21000  weights  [[0.84900324]]  bias  0.5419380602177991 loss 0.0008808443639944822\n",
      "Iteration  22000  weights  [[0.84754979]]  bias  0.5436995504841878 loss 0.0008286840128262343\n",
      "Iteration  23000  weights  [[0.84613316]]  bias  0.5454022948389277 loss 0.0007796160828876899\n",
      "Iteration  24000  weights  [[0.84475467]]  bias  0.5470501134557799 loss 0.0007334550913981249\n",
      "Iteration  25000  weights  [[0.84341476]]  bias  0.5486459842809565 loss 0.0006900279279635671\n",
      "Iteration  26000  weights  [[0.84211326]]  bias  0.55019232588886 loss 0.0006491723118491927\n",
      "Iteration  27000  weights  [[0.84084969]]  bias  0.551691180652672 loss 0.0006107358127290757\n",
      "Iteration  28000  weights  [[0.83962333]]  bias  0.553144333509879 loss 0.0005745751264117512\n",
      "Iteration  29000  weights  [[0.83843332]]  bias  0.5545533891121024 loss 0.0005405554756454638\n",
      "Iteration  30000  weights  [[0.83727877]]  bias  0.555919822080427 loss 0.0005085500806963772\n",
      "Iteration  31000  weights  [[0.8361587]]  bias  0.5572450098756583 loss 0.0004784396755833701\n",
      "Iteration  32000  weights  [[0.83507216]]  bias  0.558530254426508 loss 0.00045011205892600586\n",
      "Iteration  33000  weights  [[0.8340182]]  bias  0.5597767964841069 loss 0.0004234616738776998\n",
      "Iteration  34000  weights  [[0.83299586]]  bias  0.5609858252665794 loss 0.0003983892139695726\n",
      "Iteration  35000  weights  [[0.8320042]]  bias  0.5621584850500498 loss 0.000374801252725643\n",
      "Iteration  36000  weights  [[0.83104233]]  bias  0.5632958797763742 loss 0.00035260989538854747\n",
      "Iteration  37000  weights  [[0.83010936]]  bias  0.5643990763692368 loss 0.00033173245134164516\n",
      "Iteration  38000  weights  [[0.82920441]]  bias  0.5654691072057096 loss 0.0003120911259580732\n",
      "Iteration  39000  weights  [[0.82832666]]  bias  0.5665069720324073 loss 0.0002936127307077435\n",
      "Iteration  40000  weights  [[0.82747529]]  bias  0.56751363951322 loss 0.0002762284104343707\n",
      "Iteration  41000  weights  [[0.8266495]]  bias  0.5684900485298129 loss 0.00025987338678175765\n",
      "Iteration  42000  weights  [[0.82584853]]  bias  0.5694371093133328 loss 0.00024448671681266145\n",
      "Iteration  43000  weights  [[0.82507163]]  bias  0.5703557044583484 loss 0.00023001106591978384\n",
      "Iteration  44000  weights  [[0.82431808]]  bias  0.5712466898522048 loss 0.0002163924941824356\n",
      "Iteration  45000  weights  [[0.82358718]]  bias  0.572110895541499 loss 0.00020358025537271573\n",
      "Iteration  46000  weights  [[0.82287825]]  bias  0.5729491265499321 loss 0.00019152660786228348\n",
      "Iteration  47000  weights  [[0.82219063]]  bias  0.5737621636569984 loss 0.00018018663672504065\n",
      "Iteration  48000  weights  [[0.82152367]]  bias  0.57455076414385 loss 0.00016951808637276033\n",
      "Iteration  49000  weights  [[0.82087676]]  bias  0.5753156625106662 loss 0.0001594812031001737\n",
      "Iteration  50000  weights  [[0.82024929]]  bias  0.5760575711685214 loss 0.0001500385869525767\n",
      "Iteration  51000  weights  [[0.81964068]]  bias  0.576777181107915 loss 0.00014115505236434028\n",
      "Iteration  52000  weights  [[0.81905036]]  bias  0.5774751625455986 loss 0.0001327974970483681\n",
      "Iteration  53000  weights  [[0.81847779]]  bias  0.5781521655508594 loss 0.00012493477864889804\n",
      "Iteration  54000  weights  [[0.81792242]]  bias  0.5788088206523322 loss 0.00011753759869709666\n",
      "Iteration  55000  weights  [[0.81738375]]  bias  0.5794457394261044 loss 0.00011057839343762057\n",
      "Iteration  56000  weights  [[0.81686127]]  bias  0.5800635150658855 loss 0.00010403123111913053\n",
      "Iteration  57000  weights  [[0.81635449]]  bias  0.580662722935827 loss 9.787171536603773e-05\n",
      "Iteration  58000  weights  [[0.81586294]]  bias  0.5812439211066338 loss 9.207689427150684e-05\n",
      "Iteration  59000  weights  [[0.81538616]]  bias  0.5818076508754659 loss 8.662517487282305e-05\n",
      "Iteration  60000  weights  [[0.81492372]]  bias  0.5823544372701766 loss 8.149624269061756e-05\n",
      "Iteration  61000  weights  [[0.81447518]]  bias  0.5828847895383603 loss 7.667098603191783e-05\n",
      "Iteration  62000  weights  [[0.81404011]]  bias  0.5833992016216718 loss 7.213142477528681e-05\n",
      "Iteration  63000  weights  [[0.81361812]]  bias  0.5838981526158927 loss 6.786064337227155e-05\n",
      "Iteration  64000  weights  [[0.81320882]]  bias  0.5843821072171442 loss 6.384272781585606e-05\n",
      "Iteration  65000  weights  [[0.81281182]]  bias  0.584851516154694 loss 6.0062706340857e-05\n",
      "Iteration  66000  weights  [[0.81242675]]  bias  0.5853068166107575 loss 5.6506493635306524e-05\n",
      "Iteration  67000  weights  [[0.81205325]]  bias  0.5857484326276544 loss 5.316083835510689e-05\n",
      "Iteration  68000  weights  [[0.81169098]]  bias  0.5861767755027507 loss 5.0013273746165774e-05\n",
      "Iteration  69000  weights  [[0.8113396]]  bias  0.5865922441715234 loss 4.7052071190079666e-05\n",
      "Iteration  70000  weights  [[0.81099878]]  bias  0.5869952255791032 loss 4.426619650040752e-05\n",
      "Iteration  71000  weights  [[0.8106682]]  bias  0.5873860950406586 loss 4.164526880647454e-05\n",
      "Iteration  72000  weights  [[0.81034756]]  bias  0.5877652165909432 loss 3.917952187167012e-05\n",
      "Iteration  73000  weights  [[0.81003655]]  bias  0.5881329433233348 loss 3.685976770197926e-05\n",
      "Iteration  74000  weights  [[0.8097349]]  bias  0.5884896177186959 loss 3.467736230916794e-05\n",
      "Iteration  75000  weights  [[0.80944231]]  bias  0.5888355719643361 loss 3.26241735011479e-05\n",
      "Iteration  76000  weights  [[0.80915851]]  bias  0.5891711282633965 loss 3.069255057935696e-05\n",
      "Iteration  77000  weights  [[0.80888324]]  bias  0.58949659913493 loss 2.8875295830352823e-05\n",
      "Iteration  78000  weights  [[0.80861625]]  bias  0.5898122877049621 loss 2.7165637705304715e-05\n",
      "Iteration  79000  weights  [[0.80835728]]  bias  0.5901184879888178 loss 2.5557205587486094e-05\n",
      "Iteration  80000  weights  [[0.8081061]]  bias  0.5904154851649364 loss 2.4044006053777778e-05\n",
      "Iteration  81000  weights  [[0.80786246]]  bias  0.590703555840486 loss 2.2620400541636666e-05\n",
      "Iteration  82000  weights  [[0.80762615]]  bias  0.5909829683089639 loss 2.1281084338424724e-05\n",
      "Iteration  83000  weights  [[0.80739694]]  bias  0.5912539828000856 loss 2.0021066814692905e-05\n",
      "Iteration  84000  weights  [[0.80717462]]  bias  0.5915168517221435 loss 1.883565282783115e-05\n",
      "Iteration  85000  weights  [[0.80695898]]  bias  0.5917718198970835 loss 1.772042522680315e-05\n",
      "Iteration  86000  weights  [[0.80674982]]  bias  0.5920191247885206 loss 1.6671228392729256e-05\n",
      "Iteration  87000  weights  [[0.80654695]]  bias  0.5922589967229064 loss 1.568415275396475e-05\n",
      "Iteration  88000  weights  [[0.80635017]]  bias  0.5924916591040316 loss 1.4755520218109547e-05\n",
      "Iteration  89000  weights  [[0.80615931]]  bias  0.5927173286210996 loss 1.3881870466480204e-05\n",
      "Iteration  90000  weights  [[0.80597419]]  bias  0.5929362154505331 loss 1.3059948060097479e-05\n",
      "Iteration  91000  weights  [[0.80579463]]  bias  0.5931485234517329 loss 1.2286690309074946e-05\n",
      "Iteration  92000  weights  [[0.80562047]]  bias  0.593354450356925 loss 1.155921586031837e-05\n",
      "Iteration  93000  weights  [[0.80545154]]  bias  0.5935541879553311 loss 1.087481396082443e-05\n",
      "Iteration  94000  weights  [[0.80528769]]  bias  0.5937479222717893 loss 1.0230934356758526e-05\n",
      "Iteration  95000  weights  [[0.80512876]]  bias  0.5939358337399991 loss 9.625177790570523e-06\n",
      "Iteration  96000  weights  [[0.80497461]]  bias  0.5941180973705753 loss 9.055287060739929e-06\n",
      "Iteration  97000  weights  [[0.8048251]]  bias  0.5942948829140408 loss 8.51913861090088e-06\n",
      "Iteration  98000  weights  [[0.80468008]]  bias  0.5944663550189226 loss 8.0147346169064e-06\n",
      "Iteration  99000  weights  [[0.80453941]]  bias  0.5946326733850983 loss 7.540195542449638e-06\n",
      "Iteration  100000  weights  [[0.80440298]]  bias  0.5947939929125288 loss 7.093753135439292e-06\n",
      "Iteration  101000  weights  [[0.80427064]]  bias  0.5949504638455283 loss 6.673743839037091e-06\n",
      "Iteration  102000  weights  [[0.80414228]]  bias  0.5951022319126908 loss 6.278602592833951e-06\n",
      "Iteration  103000  weights  [[0.80401778]]  bias  0.5952494384626152 loss 5.906857001039013e-06\n",
      "Iteration  104000  weights  [[0.80389703]]  bias  0.5953922205955521 loss 5.557121845952872e-06\n",
      "Iteration  105000  weights  [[0.8037799]]  bias  0.5955307112910823 loss 5.2280939263165465e-06\n",
      "Iteration  106000  weights  [[0.80366629]]  bias  0.5956650395319751 loss 4.9185472012470355e-06\n",
      "Iteration  107000  weights  [[0.8035561]]  bias  0.5957953304243141 loss 4.627328221691322e-06\n",
      "Iteration  108000  weights  [[0.80344921]]  bias  0.5959217053140148 loss 4.353351832394954e-06\n",
      "Iteration  109000  weights  [[0.80334555]]  bias  0.5960442818998408 loss 4.095597128332989e-06\n",
      "Iteration  110000  weights  [[0.80324499]]  bias  0.5961631743430166 loss 3.85310365056746e-06\n",
      "Iteration  111000  weights  [[0.80314746]]  bias  0.5962784933735559 loss 3.624967807332269e-06\n",
      "Iteration  112000  weights  [[0.80305286]]  bias  0.5963903463933891 loss 3.4103395070260056e-06\n",
      "Iteration  113000  weights  [[0.80296111]]  bias  0.59649883757639 loss 3.208418990553609e-06\n",
      "Iteration  114000  weights  [[0.80287211]]  bias  0.5966040679654008 loss 3.0184538512171267e-06\n",
      "Iteration  115000  weights  [[0.80278578]]  bias  0.5967061355663338 loss 2.8397362310698873e-06\n",
      "Iteration  116000  weights  [[0.80270205]]  bias  0.5968051354394507 loss 2.6716001832537587e-06\n",
      "Iteration  117000  weights  [[0.80262084]]  bias  0.5969011597879006 loss 2.5134191905115316e-06\n",
      "Iteration  118000  weights  [[0.80254207]]  bias  0.5969942980435851 loss 2.364603830627063e-06\n",
      "Iteration  119000  weights  [[0.80246567]]  bias  0.5970846369504543 loss 2.2245995800993722e-06\n",
      "Iteration  120000  weights  [[0.80239156]]  bias  0.5971722606452985 loss 2.0928847478287554e-06\n",
      "Iteration  121000  weights  [[0.80231968]]  bias  0.5972572507361061 loss 1.968968531179472e-06\n",
      "Iteration  122000  weights  [[0.80224996]]  bias  0.5973396863780662 loss 1.8523891871239977e-06\n",
      "Iteration  123000  weights  [[0.80218233]]  bias  0.5974196443472938 loss 1.742712311668452e-06\n",
      "Iteration  124000  weights  [[0.80211674]]  bias  0.5974971991123299 loss 1.6395292211545826e-06\n",
      "Iteration  125000  weights  [[0.80205312]]  bias  0.5975724229035049 loss 1.5424554294043948e-06\n",
      "Iteration  126000  weights  [[0.80199141]]  bias  0.5976453857802035 loss 1.4511292150216486e-06\n",
      "Iteration  127000  weights  [[0.80193156]]  bias  0.5977161556961161 loss 1.3652102735320934e-06\n",
      "Iteration  128000  weights  [[0.8018735]]  bias  0.5977847985625312 loss 1.2843784493217656e-06\n",
      "Iteration  129000  weights  [[0.8018172]]  bias  0.5978513783097124 loss 1.2083325426598556e-06\n",
      "Iteration  130000  weights  [[0.80176258]]  bias  0.597915956946449 loss 1.13678918734693e-06\n",
      "Iteration  131000  weights  [[0.8017096]]  bias  0.5979785946178013 loss 1.069481794825722e-06\n",
      "Iteration  132000  weights  [[0.80165822]]  bias  0.5980393496611207 loss 1.0061595607997127e-06\n",
      "Iteration  133000  weights  [[0.80160838]]  bias  0.5980982786603823 loss 9.465865306795273e-07\n",
      "Iteration  134000  weights  [[0.80156004]]  bias  0.598155436498876 loss 8.905407203542022e-07\n",
      "Iteration  135000  weights  [[0.80151315]]  bias  0.5982108764103379 loss 8.378132890172555e-07\n",
      "Iteration  136000  weights  [[0.80146767]]  bias  0.5982646500285106 loss 7.882077609815949e-07\n",
      "Iteration  137000  weights  [[0.80142356]]  bias  0.5983168074352445 loss 7.41539293558472e-07\n",
      "Iteration  138000  weights  [[0.80138077]]  bias  0.5983673972071374 loss 6.976339882855281e-07\n",
      "Iteration  139000  weights  [[0.80133927]]  bias  0.5984164664607772 loss 6.5632824293765e-07\n",
      "Iteration  140000  weights  [[0.80129902]]  bias  0.5984640608966202 loss 6.174681419074948e-07\n",
      "Iteration  141000  weights  [[0.80125998]]  bias  0.5985102248415595 loss 5.80908882671044e-07\n",
      "Iteration  142000  weights  [[0.80122211]]  bias  0.598555001290205 loss 5.465142362227459e-07\n",
      "Iteration  143000  weights  [[0.80118538]]  bias  0.5985984319449273 loss 5.141560394487744e-07\n",
      "Iteration  144000  weights  [[0.80114975]]  bias  0.5986405572546997 loss 4.83713717557022e-07\n",
      "Iteration  145000  weights  [[0.80111519]]  bias  0.5986814164527645 loss 4.550738347912808e-07\n",
      "Iteration  146000  weights  [[0.80108167]]  bias  0.5987210475931757 loss 4.2812967173536296e-07\n",
      "Iteration  147000  weights  [[0.80104916]]  bias  0.5987594875862451 loss 4.027808276524244e-07\n",
      "Iteration  148000  weights  [[0.80101763]]  bias  0.5987967722329092 loss 3.789328463651011e-07\n",
      "Iteration  149000  weights  [[0.80098704]]  bias  0.5988329362580762 loss 3.5649686429020154e-07\n"
     ]
    },
    {
     "data": {
      "image/png": "[encoded data removed]",
      "text/plain": [
       "<Figure size 640x480 with 1 Axes>"
      ]
     },
     "metadata": {},
     "output_type": "display_data"
    }
   ],
   "source": [
    "model = LinearRegression(training_features, training_labels , learning_rate=0.0001)\n",
    "model.train(150000,True)\n",
    "\n",
    "values = model.trainingLoss\n",
    "x = np.arange(1, len(values) + 1)\n",
    "\n",
    "# Plotting\n",
    "plt.plot(x, values, marker='o', linestyle='-', color='blue')\n",
    "\n",
    "# Labels and title\n",
    "plt.xlabel(\"Iteration\")\n",
    "plt.ylabel(\"Loss\")\n",
    "plt.title(\"Loss value as a function of iteration\")\n",
    "plt.grid(True)\n",
    "plt.show()\n",
    "\n"
   ]
  },
  {
   "cell_type": "markdown",
   "id": "42612d8d",
   "metadata": {},
   "source": [
    "#### Prediction Details"
   ]
  },
  {
   "cell_type": "code",
   "execution_count": 7,
   "id": "6ec392f1",
   "metadata": {},
   "outputs": [
    {
     "name": "stdout",
     "output_type": "stream",
     "text": [
      "Predicted weights  [[0.80095741]]  bias  0.598867978797856\n",
      "Prediction loss 3.397592322659005e-07\n"
     ]
    }
   ],
   "source": [
    "print(\"Predicted weights \", model.weight, \" bias \", model.bias)\n",
    "print(\"Prediction loss\", model.calculateMseLoss(ModelEquation(testing_attributes),model.predict(testing_attributes)))"
   ]
  },
  {
   "cell_type": "markdown",
   "id": "b492f8d4",
   "metadata": {},
   "source": []
  }
 ],
 "metadata": {
  "kernelspec": {
   "display_name": "Python 3",
   "language": "python",
   "name": "python3"
  },
  "language_info": {
   "codemirror_mode": {
    "name": "ipython",
    "version": 3
   },
   "file_extension": ".py",
   "mimetype": "text/x-python",
   "name": "python",
   "nbconvert_exporter": "python",
   "pygments_lexer": "ipython3",
   "version": "3.12.1"
  }
 },
 "nbformat": 4,
 "nbformat_minor": 5
}
